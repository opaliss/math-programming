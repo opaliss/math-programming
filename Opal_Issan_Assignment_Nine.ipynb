{
 "cells": [
  {
   "cell_type": "code",
   "execution_count": 2,
   "metadata": {},
   "outputs": [],
   "source": [
    "import numpy as np\n",
    "import matplotlib.pyplot as plt\n",
    "%matplotlib inline"
   ]
  },
  {
   "cell_type": "code",
   "execution_count": 4,
   "metadata": {},
   "outputs": [],
   "source": [
    "def Newtons_method(f,fp,x0,tol):\n",
    "    x1 = x0 -(f(x0)/fp(x0))\n",
    "    xapproxs = np.array([x0,x1])\n",
    "    while np.abs(x1-x0) >= tol:\n",
    "        x0 = x1\n",
    "        x1 = x0 -(f(x0)/fp(x0))\n",
    "        xapproxs = np.append(xapproxs,x1)\n",
    "    #print(\"Root %1.15f\" %x1)\n",
    "    #rate_of_conv(xapproxs)\n",
    "    return xapproxs"
   ]
  },
  {
   "cell_type": "code",
   "execution_count": 182,
   "metadata": {},
   "outputs": [],
   "source": [
    "def secant_method(f,x0,x1,tol):\n",
    "    f0 = f(x0)\n",
    "    f1= f(x1)\n",
    "    x2 = x1- f1*(x1-x0)/(f1-f0)\n",
    "    xapprox = np.array([x0,x1,x2])\n",
    "    while np.abs(x2-x1) >= tol:\n",
    "        x0=x1\n",
    "        x1=x2\n",
    "        f0= f1\n",
    "        f1 = f(x1)\n",
    "        x2 = x1- f1*(x1-x0)/(f1-f0)\n",
    "        xapprox = np.append(xapprox, x2)\n",
    "    \n",
    "    return xapprox"
   ]
  },
  {
   "cell_type": "code",
   "execution_count": 186,
   "metadata": {},
   "outputs": [],
   "source": [
    "def bisec_method(a,b,f,tol):\n",
    "    fa,fb = f(a),f(b)\n",
    "    \n",
    "    if fa*fb<0:\n",
    "        c = (a+b)/2.\n",
    "        capproxs = np.array([c])\n",
    "        fc = f(c)\n",
    "        while np.abs(fc)>=tol:\n",
    "            if fa*fc<0:\n",
    "                b = c\n",
    "            else:\n",
    "                a = c\n",
    "          \n",
    "            c = (a+b)/2.\n",
    "            capproxs = np.append(capproxs,c)\n",
    "            fc = f(c)\n",
    "     \n",
    "        return capproxs\n",
    "    else:\n",
    "        print(\"Cannot ensure existence of root.\")"
   ]
  },
  {
   "cell_type": "markdown",
   "metadata": {},
   "source": [
    "**Problem 1**: 10 pts - Here is a cubic polynomial with three closely spaced real roots:\n",
    "\n",
    "$$\n",
    "p(x) = 816x^3 - 3835x^2 + 6000x - 3125\n",
    "$$\n",
    "\n",
    "* What are the exact roots of p?\n",
    "* Plot $p(x)$ for $1.43\\leq x \\leq 1.71$.  Show the location of the three roots.  \n",
    "* Starting with $x_{0}=1.5$, what does Newton's method do?\n",
    "* Starting with $x_{0}=1$ and $x_{1}=2$, what does the secant method do?\n",
    "* Starting with the interval $[1,2]$, what does bisection do?"
   ]
  },
  {
   "cell_type": "markdown",
   "metadata": {},
   "source": [
    "The exact roots are: \n",
    "$$\n",
    "x1=25/17\\\\\n",
    "x2=25/16\\\\\n",
    "x3=5/3\\\\\n",
    "$$"
   ]
  },
  {
   "cell_type": "code",
   "execution_count": 102,
   "metadata": {},
   "outputs": [
    {
     "data": {
      "text/plain": [
       "[<matplotlib.lines.Line2D at 0x1758e28e898>]"
      ]
     },
     "execution_count": 102,
     "metadata": {},
     "output_type": "execute_result"
    },
    {
     "data": {
      "image/png": "[encoded data removed]",
      "text/plain": [
       "<Figure size 432x288 with 1 Axes>"
      ]
     },
     "metadata": {
      "needs_background": "light"
     },
     "output_type": "display_data"
    }
   ],
   "source": [
    "#B\n",
    "def p(x):\n",
    "    return 816.*x**3. -3835.*x**2. +6000.*x -3125.\n",
    "def pf(x):\n",
    "    return 816.*3.*x**2. - 3835.*2*x +6000.\n",
    "xvals = np.linspace(1.4,1.7,int(1e3))\n",
    "zeros = np.zeros(int(1e3))\n",
    "zeroroot= np.zeros(int(3))\n",
    "plt.plot(xvals, p(xvals))\n",
    "plt.plot(xvals, zeros)\n",
    "xstar = [1.4705882352941022, 1.5625000000000178, 1.6666666666666476]\n",
    "plt.plot(xstar,zeroroot,'*', color = 'b')"
   ]
  },
  {
   "cell_type": "code",
   "execution_count": 103,
   "metadata": {},
   "outputs": [
    {
     "name": "stdout",
     "output_type": "stream",
     "text": [
      "Root 1.470588235294034\n"
     ]
    }
   ],
   "source": [
    "Newtons_method(p,pf,1.5,1e-13)"
   ]
  },
  {
   "cell_type": "markdown",
   "metadata": {},
   "source": [
    "(C) Starting with  $𝑥_{0}=1.5$ , Newton's method uses the derivatie of f(x) to derive the slope at the guessed point $x_{0}= 1.5$, and then it finds the zero of that line. It then takes the y-value where the tangent line crosses the x-axis to create the next guess and repeat the process until it gets sufficently close to the nearest root (1.470588235294034). "
   ]
  },
  {
   "cell_type": "code",
   "execution_count": 107,
   "metadata": {},
   "outputs": [
    {
     "name": "stdout",
     "output_type": "stream",
     "text": [
      "root: 1.6666710610782547\n",
      "None\n"
     ]
    }
   ],
   "source": [
    "print(secant_method(p,1,2,1e-3))"
   ]
  },
  {
   "cell_type": "markdown",
   "metadata": {},
   "source": [
    "(D) Starting with  $𝑥_{0}=1$  and  $𝑥_{1}=2$ , the secant method will create a linear line between $(x_{0},p(x_{0})) = (1,-144)$ and $(x_{1},p(x_{1}))= (2,63)$, then it will find $x_{2} = 1.69565217$ where this linear line crosses the x-axis and then repeat the process for $(x_{1},p(x_{1})) = (2,63)$, and $(x_{2},p(x_{2})) = (1.69565217,0.7088023)$. Until is fairly accurate due to the tol value you set. "
   ]
  },
  {
   "cell_type": "code",
   "execution_count": 108,
   "metadata": {},
   "outputs": [
    {
     "name": "stdout",
     "output_type": "stream",
     "text": [
      "Our root is: 1.470588235293690\n"
     ]
    }
   ],
   "source": [
    "bisec_method(1,2,p,1e-10)"
   ]
  },
  {
   "cell_type": "markdown",
   "metadata": {},
   "source": [
    "(E) Starting with the interval [1,2] , the bisection method works like this:\n",
    "first, it will find the mid point called $c= (1+2)/2 = 1.5$\n",
    "Then, it will check if p(1.5) = 0. If yes, then we found the root and we are done. If not it will check if f(c)f(a) <0, if so \n",
    "there is a root in the interval (𝑎,𝑐) . If not, you have a root in  (𝑐,𝑏). Then repeat the process.\n",
    "\n",
    "In our particular case, there is a sign change in $p(1) = -144$ and $p(2) = 63$ and $p(1.5) = 0.25$ so we know that $f(c)f(a) <0$. Continue to find the mid point $d = \\frac{(a+c)}{2}$"
   ]
  },
  {
   "cell_type": "markdown",
   "metadata": {},
   "source": [
    "**Problem 2**: 10 pts - Find the first ten positive values of $x$ such that $x = \\tan(x)$.  Explain your choice of root finding method for doing this, and explain how you are certain that you have found the first ten positive values.  "
   ]
  },
  {
   "cell_type": "code",
   "execution_count": 170,
   "metadata": {},
   "outputs": [
    {
     "data": {
      "text/plain": [
       "<matplotlib.legend.Legend at 0x1758f64ffd0>"
      ]
     },
     "execution_count": 170,
     "metadata": {},
     "output_type": "execute_result"
    },
    {
     "data": {
      "image/png": "[encoded data removed]",
      "text/plain": [
       "<Figure size 432x288 with 1 Axes>"
      ]
     },
     "metadata": {
      "needs_background": "light"
     },
     "output_type": "display_data"
    }
   ],
   "source": [
    "def tan(x):\n",
    "    return np.tan(x)\n",
    "def lin(x):\n",
    "    return x\n",
    "xvals = np.linspace(0,30,int(1e3))\n",
    "plt.plot(xvals, tan(xvals), label = \"g(x) = tan(x)\")\n",
    "plt.plot(xvals, lin(xvals), label = \"f(x)= x\")\n",
    "plt.xlim(0,30)\n",
    "plt.ylim(-1,30)\n",
    "plt.title(\"x=tan(x)\")\n",
    "plt.legend()"
   ]
  },
  {
   "cell_type": "code",
   "execution_count": 173,
   "metadata": {},
   "outputs": [],
   "source": [
    "def p2(x):\n",
    "    return x*np.cos(x) -np.sin(x)\n",
    "def divp2(x):\n",
    "    2*np.cos(x) -x*np.sin(x)"
   ]
  },
  {
   "cell_type": "code",
   "execution_count": 154,
   "metadata": {},
   "outputs": [
    {
     "data": {
      "text/plain": [
       "(-1, 1)"
      ]
     },
     "execution_count": 154,
     "metadata": {},
     "output_type": "execute_result"
    },
    {
     "data": {
      "image/png": "[encoded data removed]",
      "text/plain": [
       "<Figure size 432x288 with 1 Axes>"
      ]
     },
     "metadata": {
      "needs_background": "light"
     },
     "output_type": "display_data"
    }
   ],
   "source": [
    "xvals= np.linspace(0,30,int(1e3))\n",
    "plt.plot(xvals, p2(xvals))\n",
    "plt.plot(tanapproxs, p2(tanapproxs), \"*\", color = 'b')\n",
    "plt.xlim(0,30)\n",
    "plt.ylim(-1,1)\n"
   ]
  },
  {
   "cell_type": "code",
   "execution_count": 180,
   "metadata": {},
   "outputs": [
    {
     "name": "stdout",
     "output_type": "stream",
     "text": [
      "root number 1 is:  0.0\n",
      "root number 2 is:  4.493409457909064\n",
      "root number 3 is:  7.725251836937707\n",
      "root number 4 is:  10.904121659428899\n",
      "root number 5 is:  14.066193912831473\n",
      "root number 6 is:  17.22075527193077\n",
      "root number 7 is:  20.37130295928756\n",
      "root number 8 is:  23.519452498689006\n",
      "root number 9 is:  26.666054258812675\n",
      "root number 10 is:  29.81159879089296\n"
     ]
    }
   ],
   "source": [
    "tanapproxs = np.array([0])\n",
    "for jj in range(0,10): \n",
    "    i1 = (2*jj+1)*np.pi/2. \n",
    "    i2 = (2*(jj+1)+1)*np.pi/2. \n",
    "    root = secant_method(p2,i1,i2,1e-13)\n",
    "    tanapproxs = np.append(tanapproxs,root)\n",
    "    print(\"root number\", jj+1, \"is: \", tanapproxs[jj])"
   ]
  },
  {
   "cell_type": "markdown",
   "metadata": {},
   "source": [
    "I used the secant method. \n",
    "Because the function tan(x) is not continuous due to its asymptotes at $(2n+1) \\pi/2$ where $n \\in \\mathbb{Z}$. From the first graph you can see that there is a root between each interval that is bounded by its asymptotes, therefore I was sure there will be 10 roots in the interval between 0 to 30. Hence, I used the asymptotic points as $x_{0}$ and $x_{1}$ in the secant algorithm. Also we know that $x = tan(x) \\iff x-tan(x) = 0 \\iff xcos(x) -sin(x) =0$ in order to avoid dividing by a small number close to zero I decided to rewrite the function to be $xcos(x) -sin(x)$ which has the exact same roots as $x - tan(x)$.\n",
    "\n",
    "The reason why I chose not to use Newton's method is because it is dependent on the derivative of tan(x) which is $sec^2(x)$. This will be problematic when cos(x) becomes a very small number close to zero. In addition, the reason why I did not use the bisection method is because the results below show that the bisection method in this case will require more computations meaning that due to its complexity it is less efficient. "
   ]
  },
  {
   "cell_type": "code",
   "execution_count": 188,
   "metadata": {},
   "outputs": [
    {
     "data": {
      "text/plain": [
       "Text(0, 0.5, 'Iteration Count')"
      ]
     },
     "execution_count": 188,
     "metadata": {},
     "output_type": "execute_result"
    },
    {
     "data": {
      "image/png": "[encoded data removed]",
      "text/plain": [
       "<Figure size 432x288 with 1 Axes>"
      ]
     },
     "metadata": {
      "needs_background": "light"
     },
     "output_type": "display_data"
    }
   ],
   "source": [
    "pows = np.arange(2,8)\n",
    "tols = 10.**(-pows)\n",
    "x0 = 4\n",
    "x1 = 4.6\n",
    "ind = 0\n",
    "cntbsc = np.zeros(tols.size)\n",
    "cntscnt = np.zeros(tols.size)\n",
    "cntnwt = np.zeros(tols.size)\n",
    "for tol in tols:\n",
    "    cvlsbsc = bisec_method(x0,x1,p2,tol)\n",
    "    #cvlsnwt = Newtons_method(p2,divp2,x0,tol)\n",
    "    cvlsscnt= secant_method(p2,x0,x1,tol)\n",
    "    cntbsc[ind] =  cvlsbsc.size\n",
    "    cntscnt[ind] = cvlsscnt.size\n",
    "    #cntnwt[ind] = cvlsnwt.size\n",
    "    \n",
    "    ind += 1\n",
    "    \n",
    "plt.plot(pows,cntbsc,color='r',label=\"Bisection\")\n",
    "plt.plot(pows,cntscnt,color='k',label=\"Secant\")\n",
    "#plt.plot(pows,cntnwt,color='b',label=\"Newton\")\n",
    "plt.xlim(2,7)\n",
    "plt.ylim(0,40)\n",
    "plt.legend(loc=\"best\")\n",
    "plt.xlabel(\"Tolerance\")\n",
    "plt.ylabel(\"Iteration Count\")"
   ]
  },
  {
   "cell_type": "markdown",
   "metadata": {},
   "source": [
    "**Problem 3**: 10 pts - Suppose that we interpolate over three points, say $x_{j-1}$, $x_{j}$, $x_{j+1}$, with data $f_{j-1}$, $f_{j}$, and $f_{j+1}$, where our nodes are equally spaced so that \n",
    "\n",
    "$$\n",
    "\\delta x = x_{j+1} - x_{j} = x_{j} - x_{j-1}.\n",
    "$$\n",
    "\n",
    "Thus we can write \n",
    "\n",
    "$$\n",
    "x_{j+1} = x_{j} + \\delta x, ~ x_{j-1} = x_{j} - \\delta x,\n",
    "$$\n",
    "\n",
    "As we discussed in class, for an unknown function $f(x)$, we can generate an interpolatory second-order approximation $P_{2}(x)$, $f(x)\\approx P_{2}(x)$, where\n",
    "\n",
    "$$\n",
    "P_{2}(x) = f_{j-1}\\frac{(x-x_{j})(x-x_{j+1})}{(x_{j-1}-x_{j})(x_{j-1}-x_{j+1})} + f_{j}\\frac{(x-x_{j-1})(x-x_{j+1})}{(x_{j}-x_{j-1})(x_{j}-x_{j+1})} + f_{j+1}\\frac{(x-x_{j-1})(x-x_{j})}{(x_{j+1}-x_{j-1})(x_{j+1}-x_{j})}\n",
    "$$\n",
    "\n",
    "Show that \n",
    "\n",
    "* (4pts) $P_{2}(x) = \\frac{1}{2\\delta x^{2}}\\left(f_{j-1}\\tilde{x}(\\tilde{x}-\\delta x) - 2f_{j}(\\tilde{x}-\\delta x)(\\tilde{x}+\\delta x) + f_{j+1}\\tilde{x}(\\tilde{x}+\\delta x)\\right)$, $\\tilde{x} = x-x_{j}$.\n",
    "\n",
    "* (3pts) $P'_{2}(x_{j}) = \\frac{1}{2\\delta x}\\left(f_{j+1} - f_{j-1} \\right)$.  Letting $f'(x_{j})\\approx P'_{2}(x_{j})$ is known as a _centered difference_ approximation to a derivative of a function.\n",
    "\n",
    "* (3pts) $P''_{2}(x_{j}) = \\frac{1}{\\delta x^{2}}\\left(f_{j+1} - 2f_{j} + f_{j-1}\\right)$"
   ]
  },
  {
   "cell_type": "markdown",
   "metadata": {},
   "source": [
    "* First lets show that: $P_{2}(x) = \\frac{1}{2\\delta x^{2}}\\left(f_{j-1}\\tilde{x}(\\tilde{x}-\\delta x) - 2f_{j}(\\tilde{x}-\\delta x)(\\tilde{x}+\\delta x) + f_{j+1}\\tilde{x}(\\tilde{x}+\\delta x)\\right)$, $\\tilde{x} = x-x_{j}$.\n",
    "\n",
    "We know that: \n",
    "$$\n",
    "P_{2}(x) = f_{j-1}\\frac{(x-x_{j})(x-x_{j+1})}{(x_{j-1}-x_{j})(x_{j-1}-x_{j+1})} + f_{j}\\frac{(x-x_{j-1})(x-x_{j+1})}{(x_{j}-x_{j-1})(x_{j}-x_{j+1})} + f_{j+1}\\frac{(x-x_{j-1})(x-x_{j})}{(x_{j+1}-x_{j-1})(x_{j+1}-x_{j})}\n",
    "$$\n",
    "and, \n",
    "\n",
    "$$\n",
    "\\delta x = x_{j+1} - x_{j} = x_{j} - x_{j-1}.\n",
    "$$\n",
    "and, \n",
    "\n",
    "$$\n",
    "x_{j+1} = x_{j} + \\delta x, ~ x_{j-1} = x_{j} - \\delta x,\n",
    "$$\n",
    "and, \n",
    "$$\n",
    "x - x_{j-1} = \\tilde{x} + \\delta x\\\\\n",
    "x - x_{j+1} = \\tilde{x} - \\delta x\\\\\n",
    "x_{j+1} -x_{j-1}= x_{j} + \\delta x - x_{j} + \\delta x = 2\\delta x\\\\\n",
    "$$\n",
    "So, \n",
    "$$\n",
    "P_{2}(x) = f_{j-1}\\frac{(x-x_{j})(x-x_{j+1})}{(x_{j-1}-x_{j})(x_{j-1}-x_{j+1})} + f_{j}\\frac{(x-x_{j-1})(x-x_{j+1})}{(x_{j}-x_{j-1})(x_{j}-x_{j+1})} + f_{j+1}\\frac{(x-x_{j-1})(x-x_{j})}{(x_{j+1}-x_{j-1})(x_{j+1}-x_{j})}\\\\\n",
    "P_{2}(x) = f_{j-1}\\frac{(\\tilde{x})(\\tilde{x} - \\delta x)}{(x_{j-1}-x_{j})(x_{j-1}-x_{j+1})} + f_{j}\\frac{(\\tilde{x} - \\delta x)(\\tilde{x} + \\delta x)}{(x_{j}-x_{j-1})(x_{j}-x_{j+1})} + f_{j+1}\\frac{(\\tilde{x}+ \\delta x)(\\tilde{x})}{(x_{j+1}-x_{j-1})(x_{j+1}-x_{j})}\\\\\n",
    "P_{2}(x) = f_{j-1}\\frac{(\\tilde{x})(\\tilde{x} - \\delta x)}{(-\\delta x)(-2\\delta x)} + f_{j}\\frac{(\\tilde{x} - \\delta x)(\\tilde{x} + \\delta x)}{(-\\delta)(-\\delta x)} + f_{j+1}\\frac{(\\tilde{x}+ \\delta x)(\\tilde{x})}{(2\\delta x)(\\delta x)}\\\\\n",
    "P_{2}(x) = \\frac{1}{2\\delta x^{2}}\\left(f_{j-1}\\tilde{x}(\\tilde{x}-\\delta x) - 2f_{j}(\\tilde{x}-\\delta x)(\\tilde{x}+\\delta x) + f_{j+1}\\tilde{x}(\\tilde{x}+\\delta x)\\right)\\\\\n",
    "$$\n"
   ]
  },
  {
   "cell_type": "markdown",
   "metadata": {},
   "source": [
    "* show that: $P'_{2}(x_{j}) = \\frac{1}{2\\delta x}\\left(f_{j+1} - f_{j-1} \\right)$. "
   ]
  },
  {
   "cell_type": "markdown",
   "metadata": {},
   "source": [
    "Let \n",
    "$$\n",
    "P_{2}(x) = l_{0}(f_{j-1})+ l_{1}(f_{j}) + l_{2}(f_{j+1})\n",
    "$$\n",
    "$$\n",
    "l_{0}(x) = \\frac{(x-x_{j})(x-x_{j+1})}{(x_{j-1}-x_{j})(x_{j-1}-x_{j+1})}\\\\\n",
    "l_{1}(x)= \\frac{(x-x_{j-1})(x-x_{j+1})}{(x_{j}-x_{j-1})(x_{j}-x_{j+1})}\\\\\n",
    "l_{2}(x)= \\frac{(x-x_{j-1})(x-x_{j})}{(x_{j+1}-x_{j-1})(x_{j+1}-x_{j})}\\\\\n",
    "$$\n",
    "Then, \n",
    "$$\n",
    "l_{0}'(x) = \\frac{(2x-x_{j}-x_{j+1})}{(x_{j-1}-x_{j})(x_{j-1}-x_{j+1})}\\\\\n",
    "l_{1}'(x)= \\frac{(2x-x_{j-1}-x_{j+1})}{(x_{j}-x_{j-1})(x_{j}-x_{j+1})}\\\\\n",
    "l_{2}'(x)= \\frac{(2x-x_{j-1} -x_{j})}{(x_{j+1}-x_{j-1})(x_{j+1}-x_{j})}\\\\\n",
    "$$\n",
    "evaluating at the point $x_{j}$ we get:\n",
    "$$\n",
    "l_{0}'(x_{j}) = \\frac{(2x_{j}-x_{j}-x_{j+1})}{(x_{j-1}-x_{j})(x_{j-1}-x_{j+1})} = \\frac{(x_{j}-x_{j+1})}{(x_{j-1}-x_{j})(x_{j-1}-x_{j+1})} = \\frac{(-\\delta x)}{(-\\delta x)(-2\\delta x)} = \\frac{-1}{2\\delta x}\\\\\n",
    "l_{1}'(x_{j})= \\frac{(2x_{j}-x_{j-1}-x_{j+1})}{(x_{j}-x_{j-1})(x_{j}-x_{j+1})} = 0\\\\\n",
    "l_{2}'(x_{j})= \\frac{(2x_{j}-x_{j-1} -x_{j})}{(x_{j+1}-x_{j-1})(x_{j+1}-x_{j})} = \\frac{(x_{j}-x_{j-1})}{(x_{j+1}-x_{j-1})(x_{j+1}-x_{j})} = \\frac{(\\delta x)}{(2\\delta x)(\\delta x)} = \\frac{1}{2\\delta x} \\\\\n",
    "$$\n",
    "Hence, \n",
    "$$\n",
    "P_{2}'(x) = \\frac{-1}{2\\delta x}(f_{j-1}) + \\frac{1}{2\\delta x}(f_{j+1}) = \\frac{1}{2\\delta x}\\left(f_{j+1} - f_{j-1} \\right)\n",
    "$$"
   ]
  },
  {
   "cell_type": "markdown",
   "metadata": {},
   "source": [
    "* Show that: $P''_{2}(x_{j}) = \\frac{1}{\\delta x^{2}}\\left(f_{j+1} - 2f_{j} + f_{j-1}\\right)$"
   ]
  },
  {
   "cell_type": "markdown",
   "metadata": {},
   "source": [
    "Let \n",
    "$$\n",
    "P_{2}(x) = l_{0}(f_{j-1})+ l_{1}(f_{j}) + l_{2}(f_{j+1})\n",
    "$$\n",
    "$$\n",
    "l_{0}(x) = \\frac{(x-x_{j})(x-x_{j+1})}{(x_{j-1}-x_{j})(x_{j-1}-x_{j+1})}\\\\\n",
    "l_{1}(x)= \\frac{(x-x_{j-1})(x-x_{j+1})}{(x_{j}-x_{j-1})(x_{j}-x_{j+1})}\\\\\n",
    "l_{2}(x)= \\frac{(x-x_{j-1})(x-x_{j})}{(x_{j+1}-x_{j-1})(x_{j+1}-x_{j})}\\\\\n",
    "$$\n",
    "Then, \n",
    "$$\n",
    "l_{0}'(x) = \\frac{(2x-x_{j}-x_{j+1})}{(x_{j-1}-x_{j})(x_{j-1}-x_{j+1})}\\\\\n",
    "l_{1}'(x)= \\frac{(2x-x_{j-1}-x_{j+1})}{(x_{j}-x_{j-1})(x_{j}-x_{j+1})}\\\\\n",
    "l_{2}'(x)= \\frac{(2x-x_{j-1} -x_{j})}{(x_{j+1}-x_{j-1})(x_{j+1}-x_{j})}\\\\\n",
    "$$\n",
    "so, \n",
    "$$\n",
    "l_{0}''(x) = \\frac{2}{(x_{j-1}-x_{j})(x_{j-1}-x_{j+1})}\\\\\n",
    "l_{1}''(x)= \\frac{2}{(x_{j}-x_{j-1})(x_{j}-x_{j+1})}\\\\\n",
    "l_{2}''(x)= \\frac{2}{(x_{j+1}-x_{j-1})(x_{j+1}-x_{j})}\\\\\n",
    "$$\n",
    "evaluating at the point $x_{j}$ we get:\n",
    "$$\n",
    "l_{0}''(x_{j}) = \\frac{2}{(x_{j-1}-x_{j})(x_{j-1}-x_{j+1})} = \\frac{(2)}{(-\\delta x)(-2\\delta x)} = \\frac{1}{(\\delta x^2)}\\\\\n",
    "l_{1}''(x_{j})= \\frac{2}{(x_{j}-x_{j-1})(x_{j}-x_{j+1})} = \\frac{(2)}{(\\delta x)(-\\delta x)}= \\frac{-2}{(\\delta x^2)}\\\\\n",
    "l_{2}''(x_{j})= \\frac{2}{(x_{j+1}-x_{j-1})(x_{j+1}-x_{j})} = \\frac{(2)}{(2\\delta x)(\\delta x)} = \\frac{1}{2\\delta x^2}\\\\\n",
    "$$\n",
    "Then, \n",
    "$$\n",
    "P_{2}''(x) = \\frac{1}{(\\delta x^2)}(f_{j-1})+ \\frac{-2}{(\\delta x^2)}(f_{j}) + \\frac{1}{2\\delta x^2}(f_{j+1}) = \\frac{1}{\\delta x^{2}}\\left(f_{j+1} - 2f_{j} + f_{j-1}\\right)\n",
    "$$"
   ]
  },
  {
   "cell_type": "markdown",
   "metadata": {},
   "source": [
    "**Problem 4**: 10 pts \n",
    "* (3 pts) Using $f(x) = \\cos(x)$, determine the accuracy of your centered difference approximations for $f'(x_{j})$ and $f''(x_{j})$ with respect to the magnitude of $\\delta x$.  In other words, if we suppose that \n",
    "$$\n",
    "f'(x_{j}) = \\frac{f_{j+1}-f_{j-1}}{2\\delta x} + C\\delta x^{p},\n",
    "$$\n",
    "then find $p$.  Note, in order to measure the error in our approximations, we look at points $x_{j}\\in[0, 2\\pi]$ where $\\delta x = 2\\pi/N$ so that\n",
    "$$\n",
    "x_{j} = \\frac{2\\pi j}{N}, ~j=0, \\cdots, N.\n",
    "$$\n",
    "We plot the maximum of the absolute value of the error in our approximation over our chosen interval for increasing choices of $N$.\n",
    "\n",
    "* (3 pts) Using $P_{4}(x)$, derive a centered difference approximation for $f'(x_{j})$ using the equally spaced nodes $x_{j-2}$, $x_{j-1}$, $x_{j}$, $x_{j+1}$, $x_{j+2}$, with corresponding node spacing $\\delta x$, and corresponding data $f_{j-2}$, $f_{j-1}$, $f_{j}$, $f_{j+1}$, $f_{j+2}$.  Note, you'll need to first show that \n",
    "\\begin{multline}\n",
    "P_{4}(x) = \\frac{1}{(\\delta x)^{4}}\\left(\\frac{f_{j-2}}{4!}(\\tilde{x}+\\delta x)\\tilde{x}(\\tilde{x}-\\delta x)(\\tilde{x}-2\\delta x) -\\frac{f_{j-1}}{3!}(\\tilde{x}+2\\delta x)\\tilde{x}(\\tilde{x}-\\delta x)(\\tilde{x}-2\\delta x) + \\frac{f_{j}}{4}(\\tilde{x}+2\\delta x)(\\tilde{x}+\\delta x)(\\tilde{x}-\\delta x)(\\tilde{x}-2\\delta x)\\right.\\\\\n",
    "\\left.-\\frac{f_{j+1}}{3!}(\\tilde{x}+2\\delta x)(\\tilde{x}+\\delta x)\\tilde{x}(\\tilde{x}-2\\delta x)+ \\frac{f_{j+2}}{4!}(\\tilde{x}+2\\delta x)(\\tilde{x}+\\delta x)\\tilde{x}(\\tilde{x}-\\delta x)\\right)\n",
    "\\end{multline}\n",
    "where again $\\tilde{x}=x-x_{j}$.  I know this looks nasty, but if you see the underlying pattern, it's not nearly as bad.\n",
    "\n",
    "* (4 pts) Determine the order of accuracy of your five point approximation again using $f(x) = \\cos(x)$ using the same approach you used in the first part of this problem.  \n",
    "\n"
   ]
  },
  {
   "cell_type": "code",
   "execution_count": 89,
   "metadata": {
    "scrolled": true
   },
   "outputs": [
    {
     "name": "stdout",
     "output_type": "stream",
     "text": [
      "p -1.9999962862023848\n"
     ]
    },
    {
     "data": {
      "image/png": "[encoded data removed]",
      "text/plain": [
       "<Figure size 432x288 with 1 Axes>"
      ]
     },
     "metadata": {
      "needs_background": "light"
     },
     "output_type": "display_data"
    }
   ],
   "source": [
    "def cd_fprime(fvals,dx):\n",
    "    tvals = fvals.size\n",
    "    return 1./(2.*dx)*(fvals[2:]-fvals[:tvals-2])\n",
    "\n",
    "def cd_tester():\n",
    "    tpi = 2.*np.pi\n",
    "    Nvals = np.array([1e1,1e2, 1e3, 1e4])\n",
    "    ervals = np.zeros(Nvals.size)\n",
    "    for jj in range(Nvals.size):\n",
    "        nval = int(Nvals[jj])\n",
    "        xvals = np.linspace(0,tpi,nval+1)\n",
    "        dx = tpi/nval\n",
    "        fvals = np.cos(xvals)\n",
    "        fprime_tr = -np.sin(xvals)\n",
    "        \n",
    "        fprime_ap = cd_fprime(fvals,dx)\n",
    "        dif = np.max(np.abs(fprime_ap-fprime_tr[1:nval]))\n",
    "        ervals[jj] = np.log10(dif)\n",
    "    \n",
    "    slopes = np.abs((ervals[1:]-ervals[:Nvals.size-1]))\n",
    "    print(\"p\", -np.max(slopes))\n",
    "\n",
    "    \n",
    "    plt.plot(np.log10(Nvals),ervals)\n",
    "    plt.ylabel(\"$\\log_{10}|Error|$\")\n",
    "    plt.xlabel(\"$\\log_{10}N$\")\n",
    "    plt.title(\"Accuracy of Centered Difference Approximation of the First Derivative using 3 points approx\")\n",
    "    \n",
    "cd_tester()"
   ]
  },
  {
   "cell_type": "code",
   "execution_count": 90,
   "metadata": {},
   "outputs": [
    {
     "name": "stdout",
     "output_type": "stream",
     "text": [
      "p=  -1.9999438892204888\n"
     ]
    },
    {
     "data": {
      "image/png": "[encoded data removed]",
      "text/plain": [
       "<Figure size 432x288 with 1 Axes>"
      ]
     },
     "metadata": {
      "needs_background": "light"
     },
     "output_type": "display_data"
    }
   ],
   "source": [
    "def cd_fdoubleprime(fvals,dx):\n",
    "    tvals = fvals.size\n",
    "    return (1./(dx**2))*(fvals[2:]-2*fvals[1:tvals-1]+fvals[:tvals-2])\n",
    "\n",
    "def cd_fpptester():\n",
    "    tpi = 2.*np.pi\n",
    "    Nvals = np.array([1e1,1e2, 1e3, 1e4])\n",
    "    ervals = np.zeros(Nvals.size)\n",
    "    for jj in range(Nvals.size):\n",
    "        nval = int(Nvals[jj])\n",
    "        xvals = np.linspace(0,tpi,nval+1)\n",
    "        dx = tpi/nval\n",
    "        fvals = np.cos(xvals)\n",
    "        fdoubleprime = -np.cos(xvals)\n",
    "        \n",
    "        fdprime_ap = cd_fdoubleprime(fvals,dx)\n",
    "        dif = np.max(np.abs(fdprime_ap-fdoubleprime[1:nval]))\n",
    "        ervals[jj] = np.log10(dif)\n",
    "    \n",
    "    slopes = np.abs((ervals[1:]-ervals[:Nvals.size-1]))\n",
    "    print(\"p= \", -np.max(slopes))\n",
    "\n",
    "    \n",
    "    plt.plot(np.log10(Nvals),ervals)\n",
    "    plt.ylabel(\"$\\log_{10}|Error|$\")\n",
    "    plt.xlabel(\"$\\log_{10}N$\")\n",
    "    plt.title(\"Accuracy of Centered Difference Approximation of the Second Derivative using 3 points approx\")\n",
    "    \n",
    "cd_fpptester()"
   ]
  },
  {
   "cell_type": "markdown",
   "metadata": {},
   "source": [
    "From the graphs above we can see that the order of accuracy in our approx is $p=-2$. "
   ]
  },
  {
   "cell_type": "markdown",
   "metadata": {},
   "source": [
    "(B) We know that Lagrange formula is:\n",
    "$$\n",
    "P_{j}^{(n)}(x) = \\frac{\\prod_{l\\neq j}^{n}(x-x_{l})}{\\prod_{l\\neq j}^{n}(x_{j}-x_{l})}.\n",
    "$$\n",
    "so\n",
    "\n",
    "$$\n",
    "P_{4}^{(n)}(x) = \\frac{\\prod_{l\\neq j}^{n}(x-x_{l})}{\\prod_{l\\neq j}^{n}(x_{j}-x_{l})}\\\\\n",
    "P_{4}^{(n)}(x) = f_{j-2}\\frac{(x-x_{j-1})(x-x_{j})(x-x_{j+1})(x-x_{j+2})}{(x_{j-2}-x_{j-1})(x_{j-2}-x_{j})(x_{j-2}-x_{j+1})(x_{j-2}-x_{j+2})}+ f_{j-1}\\frac{(x-x_{j-2})(x-x_{j})(x-x_{j+1})(x-x_{j+2})}{(x_{j-1}-x_{j-2})(x_{j-1}-x_{j})(x_{j-1}-x_{j+1})(x_{j-1}-x_{j+2})} + f_{j}\\frac{(x-x_{j-2})(x-x_{j-1})(x-x_{j+1})(x-x_{j+2})}{(x_{j}-x_{j-1})(x_{j}-x_{j-2})(x_{j}-x_{j+1})(x_{j}-x_{j+2})} +f_{j+1}\\frac{(x-x_{j-1})(x-x_{j-2})(x-x_{j})(x-x_{j+2})}{(x_{j+1}-x_{j-1})(x_{j+1}-x_{j})(x_{j+1}-x_{j-2})(x_{j+1}-x_{j+2})} +f_{j+2}\\frac{(x-x_{j-1})(x-x_{j})(x-x_{j+1})(x-x_{j-2})}{(x_{j+2}-x_{j-1})(x_{j+2}-x_{j})(x_{j+2}-x_{j+1})(x_{j+2}-x_{j-2})}\\\\\n",
    "$$\n",
    "\n",
    "\n",
    "$$\n",
    "P_{4}^{(n)}(x) = f_{j-2}\\frac{(\\tilde{x}+\\delta x)(\\tilde{x})(\\tilde{x}-\\delta x)(\\tilde{x}-2\\delta x)}{(x_{j-2}-x_{j-1})(x_{j-2}-x_{j})(x_{j-2}-x_{j+1})(x_{j-2}-x_{j+2})}+ f_{j-1}\\frac{(\\tilde{x}+2\\delta x)(\\tilde{x})(\\tilde{x}-\\delta x)(\\tilde{x}-2\\delta x)}{(x_{j-1}-x_{j-2})(x_{j-1}-x_{j})(x_{j-1}-x_{j+1})(x_{j-1}-x_{j+2})} + f_{j}\\frac{(\\tilde{x}+2\\delta x)(\\tilde{x}+\\delta x)(\\tilde{x}-\\delta x)(\\tilde{x}-2\\delta x)}{(x_{j}-x_{j-1})(x_{j}-x_{j-2})(x_{j}-x_{j+1})(x_{j}-x_{j+2})} +f_{j+1}\\frac{(\\tilde{x}+2\\delta x)(\\tilde{x}+\\delta x)(\\tilde{x})(\\tilde{x}+2\\delta x)}{(x_{j+1}-x_{j-1})(x_{j+1}-x_{j})(x_{j+1}-x_{j-2})(x_{j+1}-x_{j+2})} +f_{j+2}\\frac{(\\tilde{x}+\\delta x)(\\tilde{x}-\\delta x)(\\tilde{x})(\\tilde{x}+2\\delta x)}{(x_{j+2}-x_{j-1})(x_{j+2}-x_{j})(x_{j+2}-x_{j+1})(x_{j+2}-x_{j-2})}\\\\\n",
    "$$\n",
    "\n",
    "\n",
    "$$\n",
    "P_{4}^{(n)}(x) = f_{j-2}\\frac{(\\tilde{x}+\\delta x)(\\tilde{x})(\\tilde{x}-\\delta x)(\\tilde{x}-2\\delta x)}{(\\delta x)(2\\delta x)(3\\delta x)(4\\delta x)}+ f_{j-1}\\frac{(\\tilde{x}+2\\delta x)(\\tilde{x})(\\tilde{x}-\\delta x)(\\tilde{x}-2\\delta x)}{(\\delta x)(-\\delta x)(-2\\delta x)(-3\\delta x)} + f_{j}\\frac{(\\tilde{x}+2\\delta x)(\\tilde{x}+\\delta x)(\\tilde{x}-\\delta x)(\\tilde{x}-2\\delta x)}{\\delta x)(2\\delta x)(-\\delta x)(-2\\delta x)} +f_{j+1}\\frac{(\\tilde{x}+2\\delta x)(\\tilde{x}+\\delta x)(\\tilde{x})(\\tilde{x}-2\\delta x)}{(2\\delta x)(\\delta x)(3\\delta x)(-\\delta x)} +f_{j+2}\\frac{(\\tilde{x}+\\delta x)(\\tilde{x}-\\delta x)(\\tilde{x})(\\tilde{x}+2\\delta x)}{(3\\delta x)(2\\delta x)(\\delta x)(4\\delta x)}\\\\\n",
    "$$\n",
    "\n",
    "Then, \n",
    "\\begin{multline}\n",
    "P_{4}(x) = \\frac{1}{(\\delta x)^{4}}\\left(\\frac{f_{j-2}}{4!}(\\tilde{x}+\\delta x)\\tilde{x}(\\tilde{x}-\\delta x)(\\tilde{x}-2\\delta x) -\\frac{f_{j-1}}{3!}(\\tilde{x}+2\\delta x)\\tilde{x}(\\tilde{x}-\\delta x)(\\tilde{x}-2\\delta x) + \\frac{f_{j}}{4}(\\tilde{x}+2\\delta x)(\\tilde{x}+\\delta x)(\\tilde{x}-\\delta x)(\\tilde{x}-2\\delta x)\\right.\\\\\n",
    "\\left.-\\frac{f_{j+1}}{3!}(\\tilde{x}+2\\delta x)(\\tilde{x}+\\delta x)\\tilde{x}(\\tilde{x}-2\\delta x)+ \\frac{f_{j+2}}{4!}(\\tilde{x}+2\\delta x)(\\tilde{x}+\\delta x)\\tilde{x}(\\tilde{x}-\\delta x)\\right)\n",
    "\\end{multline}\n",
    "\n",
    "\n",
    "Now, to find $P'_{4}(x)$ we need: \n",
    "$$\n",
    "P'_{4}(x) = f_{j-2}l_{0} +f_{j-1}l_{1} + f_{j}l_{2} + f_{j+1}l_{3} +f_{j+2}l_{4}\n",
    "$$\n",
    "such that:\n",
    "\n",
    "$$\n",
    "l_{0} = \\frac{(\\tilde{x}+\\delta x)(\\tilde{x})(\\tilde{x}-\\delta x)(\\tilde{x}-2\\delta x)}{(\\delta x)(2\\delta x)(3\\delta x)(4\\delta x)}\\\\\n",
    "l_{1} = \\frac{(\\tilde{x}+2\\delta x)(\\tilde{x})(\\tilde{x}-\\delta x)(\\tilde{x}-2\\delta x)}{(\\delta x)(-\\delta x)(-2\\delta x)(-3\\delta x)}\\\\\n",
    "l_{2} = \\frac{(\\tilde{x}+2\\delta x)(\\tilde{x}+\\delta x)(\\tilde{x}-\\delta x)(\\tilde{x}-2\\delta x)}{\\delta x)(2\\delta x)(-\\delta x)(-2\\delta x)}\\\\\n",
    "l_{3} = \\frac{(\\tilde{x}+2\\delta x)(\\tilde{x}+\\delta x)(\\tilde{x})(\\tilde{x}-2\\delta x)}{(2\\delta x)(\\delta x)(3\\delta x)(-\\delta x)}\\\\\n",
    "l_{4} = \\frac{(\\tilde{x}+\\delta x)(\\tilde{x}-\\delta x)(\\tilde{x})(\\tilde{x}+2\\delta x)}{(3\\delta x)(2\\delta x)(\\delta x)(4\\delta x)}\\\\\n",
    "$$\n",
    "\n"
   ]
  },
  {
   "cell_type": "markdown",
   "metadata": {},
   "source": [
    "Take the derivative, and we get:\n",
    "$$\n",
    "l'_{0} (x_{j})= \\frac{2\\delta x^3}{(\\delta x)(2\\delta x)(3\\delta x)(4\\delta x)} = \\frac{1}{12\\delta x}\\\\\n",
    "l'_{1}(x_{j}) = \\frac{4\\delta x^3}{(\\delta x)(-\\delta x)(-2\\delta x)(-3\\delta x)} = \\frac{-2}{3\\delta x}\\\\\n",
    "l'_{2}(x_{j}) = \\frac{(\\tilde{x}+2\\delta x)(\\tilde{x}+\\delta x)(\\tilde{x}-\\delta x)(\\tilde{x}-2\\delta x)}{\\delta x)(2\\delta x)(-\\delta x)(-2\\delta x)} = 0\\\\\n",
    "l'_{3}(x_{j}) = \\frac{4\\delta x^3}{(2\\delta x)(\\delta x)(3\\delta x)(-\\delta x)} = \\frac{2}{3\\delta x}\\\\\n",
    "l'_{4}(x_{j}) = \\frac{2\\delta x^3}{(3\\delta x)(2\\delta x)(\\delta x)(4\\delta x)}= \\frac{-1}{12\\delta x}\\\\\n",
    "$$"
   ]
  },
  {
   "cell_type": "markdown",
   "metadata": {},
   "source": [
    "Take a second derivative you'll get:\n",
    "$$\n",
    "l''_{0} (x_{j})= \\frac{-2\\delta x^2}{(\\delta x)(2\\delta x)(3\\delta x)(4\\delta x)} = \\frac{-1}{12\\delta x^2}\\\\\n",
    "l''_{1}(x_{j}) = \\frac{8\\delta x^2}{(\\delta x)(-\\delta x)(-2\\delta x)(-3\\delta x)} = \\frac{16}{12\\delta x^2}\\\\\n",
    "l''_{2}(x_{j}) = \\frac{10 \\delta x^2}{\\delta x)(2\\delta x)(-\\delta x)(-2\\delta x)} = \\frac{-30}{12\\delta x^2}\\\\\n",
    "l''_{3}(x_{j}) = \\frac{8\\delta x^2}{(2\\delta x)(\\delta x)(3\\delta x)(-\\delta x)} = \\frac{16}{12\\delta x^2}\\\\\n",
    "l''_{4}(x_{j}) = \\frac{-2\\delta x^2}{(3\\delta x)(2\\delta x)(\\delta x)(4\\delta x)}= \\frac{-1}{12\\delta x^2}\\\\\n",
    "$$"
   ]
  },
  {
   "cell_type": "markdown",
   "metadata": {},
   "source": [
    "Then we can show that: \n",
    "$$\n",
    "P'_{4}(x) = f_{j-2}\\frac{1}{12\\delta x} +f_{j-1}\\frac{-2}{3\\delta x} +f_{j+1}\\frac{2}{3\\delta x} +f_{j+2}\\frac{-1}{12\\delta x} \\\\\n",
    "= \\frac{1}{12\\delta x}(f_{j-2} -8f_{j-1} +8f_{j+1} -f_{j+2})\n",
    "$$\n",
    "and \n",
    "$$\n",
    "P''_{4}(x) = f_{j-2}\\frac{-1}{12\\delta x^2} +f_{j-1}\\frac{16}{12\\delta x^2} +f_{j}\\frac{-30}{12\\delta x^2} +f_{j+1}\\frac{16}{12\\delta x} +f_{j+2}\\frac{-1}{12 \\delta x^2}\\\\\n",
    "= \\frac{1}{12\\delta x^2}(-f_{j-2} +16f_{j-1} -30f_{j} +16f_{j+1}-f_{j+2})\n",
    "$$"
   ]
  },
  {
   "cell_type": "code",
   "execution_count": 91,
   "metadata": {},
   "outputs": [
    {
     "name": "stdout",
     "output_type": "stream",
     "text": [
      "p =  -3.9991612051618706\n"
     ]
    },
    {
     "data": {
      "image/png": "[encoded data removed]",
      "text/plain": [
       "<Figure size 432x288 with 1 Axes>"
      ]
     },
     "metadata": {
      "needs_background": "light"
     },
     "output_type": "display_data"
    }
   ],
   "source": [
    "def cd_p4(fvals,dx):\n",
    "    tvals = fvals.size\n",
    "    return 1./(12.*dx)*(fvals[:tvals-4] -8*fvals[1:tvals-3]+8*fvals[3:tvals-1]-fvals[4:])\n",
    "def cd_p4tester():\n",
    "    tpi = 2.*np.pi\n",
    "    Nvals = np.array([1e1,1e2, 1e3, 1e4])\n",
    "    ervals = np.zeros(Nvals.size)\n",
    "    for jj in range(Nvals.size):\n",
    "        nval = int(Nvals[jj])\n",
    "        xvals = np.linspace(0,tpi,nval+1)\n",
    "        dx = tpi/nval\n",
    "        fvals = np.cos(xvals)\n",
    "        \n",
    "        fdprime_ap = cd_p4(fvals,dx)\n",
    "        dif = np.max(np.abs(fdprime_ap+ np.sin(xvals[2:nval-1])))\n",
    "        ervals[jj] = np.log10(dif)\n",
    "    \n",
    "    slopes = np.abs(ervals[1:]-ervals[:Nvals.size-1])\n",
    "    print(\"p = \",-np.max(slopes))\n",
    "\n",
    "    \n",
    "    plt.plot(np.log10(Nvals),ervals)\n",
    "    plt.ylabel(\"$\\log_{10}|Error|$\")\n",
    "    plt.xlabel(\"$\\log_{10}N$\")\n",
    "    plt.title(\"Accuracy of Centered Difference Approximation of the First Derivative using 5 points approx\")\n",
    "    \n",
    "cd_p4tester()"
   ]
  },
  {
   "cell_type": "code",
   "execution_count": 92,
   "metadata": {},
   "outputs": [
    {
     "name": "stdout",
     "output_type": "stream",
     "text": [
      "p=  -3.9848572250007184\n"
     ]
    },
    {
     "data": {
      "image/png": "[encoded data removed]",
      "text/plain": [
       "<Figure size 432x288 with 1 Axes>"
      ]
     },
     "metadata": {
      "needs_background": "light"
     },
     "output_type": "display_data"
    }
   ],
   "source": [
    "def cd_pp4(fvals,dx):\n",
    "    tvals = fvals.size\n",
    "    return 1./(12.*dx**2)*(-fvals[:tvals-4] +16*fvals[1:tvals-3]+-30*fvals[2:tvals-2]+16*fvals[3:tvals-1]-fvals[4:])\n",
    "def cd_pp4tester():\n",
    "    tpi = 2.*np.pi\n",
    "    Nvals = np.array([1e1,1e2,1e3,1e4])\n",
    "    ervals = np.zeros(Nvals.size)\n",
    "    for jj in range(Nvals.size):\n",
    "        nval = int(Nvals[jj])\n",
    "        xvals = np.linspace(0,tpi,nval+1)\n",
    "        dx = tpi/nval\n",
    "        fvals = np.cos(xvals)\n",
    "        \n",
    "        fdprime_ap = cd_pp4(fvals,dx)\n",
    "        dif = np.max(np.abs(fdprime_ap+ np.cos(xvals[2:nval-1])))\n",
    "        ervals[jj] = np.log10(dif)\n",
    "    \n",
    "    slopes = np.abs((ervals[1:]-ervals[:Nvals.size-1]))\n",
    "    print(\"p= \",-np.max(slopes))\n",
    "\n",
    "    \n",
    "    plt.plot(np.log10(Nvals),ervals)\n",
    "    plt.ylabel(\"$\\log_{10}|Error|$\")\n",
    "    plt.xlabel(\"$\\log_{10}N$\")\n",
    "    plt.title(\"Accuracy of Centered Difference Approximation of the Second Derivative using 5 points approx\")\n",
    "    \n",
    "cd_pp4tester()"
   ]
  },
  {
   "cell_type": "markdown",
   "metadata": {},
   "source": [
    "As we see above when we use 5 points to approximate f'(x) and f''(x) we get p = -4. In comparison to when we only had 3 points approx our p was equal to -2. Hence, the error gets smaller as we have more points of approximation which logically makes sense. "
   ]
  },
  {
   "cell_type": "code",
   "execution_count": null,
   "metadata": {},
   "outputs": [],
   "source": []
  }
 ],
 "metadata": {
  "kernelspec": {
   "display_name": "Python 3",
   "language": "python",
   "name": "python3"
  },
  "language_info": {
   "codemirror_mode": {
    "name": "ipython",
    "version": 3
   },
   "file_extension": ".py",
   "mimetype": "text/x-python",
   "name": "python",
   "nbconvert_exporter": "python",
   "pygments_lexer": "ipython3",
   "version": "3.7.4"
  }
 },
 "nbformat": 4,
 "nbformat_minor": 2
}
