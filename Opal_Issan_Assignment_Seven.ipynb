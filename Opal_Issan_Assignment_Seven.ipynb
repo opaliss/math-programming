{
 "cells": [
  {
   "cell_type": "code",
   "execution_count": 56,
   "metadata": {},
   "outputs": [],
   "source": [
    "import numpy as np\n",
    "import matplotlib.pyplot as plt\n",
    "%matplotlib inline"
   ]
  },
  {
   "cell_type": "code",
   "execution_count": 57,
   "metadata": {},
   "outputs": [],
   "source": [
    "def trapezoid_method(a,b,N,f):\n",
    "    Nint = int(N)\n",
    "    xvals = np.linspace(a,b,Nint+1)\n",
    "    fvals = f(xvals)\n",
    "    dx = (b-a)/N\n",
    "    return dx/2.*(fvals[0] + fvals[Nint] + 2.*np.sum(fvals[1:Nint])) "
   ]
  },
  {
   "cell_type": "code",
   "execution_count": 3,
   "metadata": {},
   "outputs": [],
   "source": [
    "def secant_method(a,b,N,f):\n",
    "    Nint = int(N)\n",
    "    TNint = 2*N\n",
    "    xvals = np.linspace(a,b,TNint+1)\n",
    "    fvals = f(xvals)\n",
    "    dx = (b-a)/(2.*N)\n",
    "    return dx/3.*(fvals[0] + fvals[TNint] + 2.*np.sum(fvals[2:TNint-1:2]) + 4.*np.sum(fvals[1:TNint:2])) "
   ]
  },
  {
   "cell_type": "markdown",
   "metadata": {},
   "source": [
    "**Problem 1**: (2pts for each part) When we write \n",
    "    \n",
    "` \n",
    "xvals = np.linspace(a,b,int(n)+1)\n",
    "`\n",
    "\n",
    "we are generating a sequence of points $x_{j}$ such that \n",
    "\n",
    "$$\n",
    "\\mbox{xvals[j]} = x_{j}, ~ x_{j} = a + j\\delta x, ~ \\delta x = \\frac{b-a}{n}, ~ j=0,\\cdots,n.\n",
    "$$\n",
    "\n",
    "Thus, if I wanted to generate a sequence of points between $a=1$ and $b=9$ with spacing $\\delta x=.25$, then I would find \n",
    "\n",
    "$$\n",
    ".25 = \\frac{9-1}{n}\n",
    "$$\n",
    "\n",
    "so that $n = 32$.  I could then generate these points via the code\n",
    "\n",
    "`\n",
    "xvals = np.linspace(1.,9.,32 + 1)\n",
    "`\n",
    "\n",
    "Using the model, write the code which will generate\n",
    "\n",
    "1a) A sequence of points between $a=0$ and $b=10$ with spacing $\\delta x = 10^{-3}$.\n",
    "\n",
    "1b) A sequence of points between $a=2$ and $b=18$ with spacing $\\delta x = 2^{-m}$, where $m$ is a positive integer that a user would specify.  \n",
    "\n",
    "1c) From problem 1a, using array slicing, what code would I write to find the points $x_{j}$ such that $1\\leq x_{j} \\leq 9$?  Your answer should be in the form `xvals[n1:n2]` where `n1` and `n2` are two integers you must find.  \n",
    "\n",
    "1d) From problem 1b, using array slicing, what code would I write to find the points $x_{j}$ such that $6\\leq x_{j} \\leq 10$?  Your answer should be in the form `xvals[n1:n2]` where `n1` and `n2` are two integers you must find, though they will be in terms of $m$.    \n"
   ]
  },
  {
   "cell_type": "markdown",
   "metadata": {},
   "source": [
    "1(a)\n",
    "$$\n",
    "10^{-3} = \\frac{(10-0)}{n}\\\\ \n",
    "n10^{-3} = 10\\\\\n",
    "n = 10^{4}\\\\\n",
    "$$"
   ]
  },
  {
   "cell_type": "code",
   "execution_count": 20,
   "metadata": {},
   "outputs": [
    {
     "name": "stdout",
     "output_type": "stream",
     "text": [
      "[0.000e+00 1.000e-03 2.000e-03 ... 9.998e+00 9.999e+00 1.000e+01]\n"
     ]
    }
   ],
   "source": [
    "#1(a)\n",
    "print(np.linspace(0.,10., int(10**4)+1))"
   ]
  },
  {
   "cell_type": "markdown",
   "metadata": {},
   "source": [
    "1(b)\n",
    "$$\n",
    "2^{-m} = \\frac{18-2}{n}\\\\\n",
    "2^{-m}n = 16\\\\\n",
    "n = 16*2^{m}\\\\\n",
    "$$"
   ]
  },
  {
   "cell_type": "code",
   "execution_count": 21,
   "metadata": {},
   "outputs": [],
   "source": [
    "#1(b)\n",
    "def seqint(m):\n",
    "    n = 16.*(2.**m)\n",
    "    return np.linspace(2., 18., int(n)+1)"
   ]
  },
  {
   "cell_type": "code",
   "execution_count": 22,
   "metadata": {},
   "outputs": [
    {
     "name": "stdout",
     "output_type": "stream",
     "text": [
      "[ 2.  3.  4.  5.  6.  7.  8.  9. 10. 11. 12. 13. 14. 15. 16. 17. 18.]\n",
      "[ 2.   2.5  3.   3.5  4.   4.5  5.   5.5  6.   6.5  7.   7.5  8.   8.5\n",
      "  9.   9.5 10.  10.5 11.  11.5 12.  12.5 13.  13.5 14.  14.5 15.  15.5\n",
      " 16.  16.5 17.  17.5 18. ]\n",
      "[ 2.    2.25  2.5   2.75  3.    3.25  3.5   3.75  4.    4.25  4.5   4.75\n",
      "  5.    5.25  5.5   5.75  6.    6.25  6.5   6.75  7.    7.25  7.5   7.75\n",
      "  8.    8.25  8.5   8.75  9.    9.25  9.5   9.75 10.   10.25 10.5  10.75\n",
      " 11.   11.25 11.5  11.75 12.   12.25 12.5  12.75 13.   13.25 13.5  13.75\n",
      " 14.   14.25 14.5  14.75 15.   15.25 15.5  15.75 16.   16.25 16.5  16.75\n",
      " 17.   17.25 17.5  17.75 18.  ]\n"
     ]
    }
   ],
   "source": [
    "print(seqint(0)) #spacing of 2^0 = 1\n",
    "print(seqint(1)) #spacing of 2^-1 = 0.5\n",
    "print(seqint(2)) #spacing of 2^-2 = 0.25"
   ]
  },
  {
   "cell_type": "markdown",
   "metadata": {},
   "source": [
    "$$\n",
    "0 + 10^{-3}n1 = 1\\\\\n",
    "n1 = \\frac{1}{10^{-3}}\\\\\n",
    "0 + 10^{-3}n2 = 9 \\\\\n",
    "n2 = \\frac{9}{10^{-3}}\\\\\n",
    "$$"
   ]
  },
  {
   "cell_type": "code",
   "execution_count": 23,
   "metadata": {},
   "outputs": [
    {
     "name": "stdout",
     "output_type": "stream",
     "text": [
      "[1.    1.001 1.002 ... 8.998 8.999 9.   ]\n"
     ]
    }
   ],
   "source": [
    "#1(c)\n",
    "xvals = np.linspace(0.,10., int(1e4)+1) #from 1(a)\n",
    "dx = 10**-3.\n",
    "n1 = (1.)/dx\n",
    "n2 = (9.)/dx\n",
    "print(xvals[int(n1):int(n2)+1])"
   ]
  },
  {
   "cell_type": "markdown",
   "metadata": {},
   "source": [
    "$$\n",
    "2+ 2^{-m}n1 = 6\\\\\n",
    "2^{-m}n1 = 4\\\\\n",
    "n1 = \\frac{4}{2^{-m}}\\\\\n",
    "$$\n",
    "and \n",
    "$$\n",
    "2+ 2^{-m}n2 = 10\\\\\n",
    "2^{-m}n2 = 8 \\\\\n",
    "n2 = \\frac{8}{2^{-m}}\\\\\n",
    "$$"
   ]
  },
  {
   "cell_type": "code",
   "execution_count": 41,
   "metadata": {},
   "outputs": [],
   "source": [
    "#1(d)\n",
    "def seq1d(m):\n",
    "    n = 16.*(2.**m)\n",
    "    xvals = np.linspace(2., 18., int(n)+1) \n",
    "    dx = 2.**(-m)\n",
    "    n1 = 4./dx \n",
    "    n2 = 8./dx\n",
    "    return xvals[int(n1): int(n2)+1]"
   ]
  },
  {
   "cell_type": "code",
   "execution_count": 47,
   "metadata": {},
   "outputs": [
    {
     "name": "stdout",
     "output_type": "stream",
     "text": [
      "[ 6.  7.  8.  9. 10.]\n",
      "[ 6.     6.125  6.25   6.375  6.5    6.625  6.75   6.875  7.     7.125\n",
      "  7.25   7.375  7.5    7.625  7.75   7.875  8.     8.125  8.25   8.375\n",
      "  8.5    8.625  8.75   8.875  9.     9.125  9.25   9.375  9.5    9.625\n",
      "  9.75   9.875 10.   ]\n"
     ]
    }
   ],
   "source": [
    "#1(d) testing\n",
    "print(seq1d(0))\n",
    "print(seq1d(3))"
   ]
  },
  {
   "cell_type": "markdown",
   "metadata": {},
   "source": [
    "**Problem 2**: (10 pts) A particle of mass $m$ moving through a fluid is subjected to viscous resistance $R(v)$, where $v$ is the particle's velocity.  Suppose that relationship between the resistance $R$, velocity $v$, and the time of travel is given by \n",
    "$$\n",
    "t = \\int_{v_{0}}^{v(t)} \\frac{m}{R(u)} du, \n",
    "$$\n",
    "where $v_{0} = v(0)$ is the intial velocity of the particle.  Now suppose that \n",
    "$$\n",
    "R(v) = -R_{\\infty}\\left(\\frac{2}{1 + e^{-v^2/v_{c}^{2}}}-1\\right).\n",
    "$$\n",
    "For a particle of mass $m=1 ~kg$ (kilograms), with $v_{0}=10 ~m/s$ (meters/second), and $v_{c} = 2 ~m/s$ and $R_{\\infty} = 3 ~kg ~m/s^{2}$, using the Trapezoid Method, find the approximate time necessary for the particle to slow to $v(t) = 5 ~ m/s$."
   ]
  },
  {
   "cell_type": "markdown",
   "metadata": {},
   "source": [
    "#(2)Assume \n",
    "$$\n",
    "t = \\int_{v_{0}}^{v(t)} \\frac{m}{R(u)} du\n",
    "$$\n",
    "and \n",
    "$$\n",
    "R(v) = -R_{\\infty}\\left(\\frac{2}{1 + e^{-v^2/v_{c}^{2}}}-1\\right).\n",
    "$$\n",
    "Hence, \n",
    "$$\n",
    "t = \\int_{v_{0}}^{v(t)} \\frac{m}{-R_{\\infty}\\left(\\frac{2}{1 + e^{-u^2/v_{c}^{2}}}-1\\right).} du\n",
    "$$\n",
    "It is given in the problem that \n",
    "For a particle of mass $m=1 ~kg$ (kilograms), with $v_{0}=10 ~m/s$ (meters/second), and $v_{c} = 2 ~m/s$ and $R_{\\infty} = 3 ~kg ~m/s^{2}$, using the Trapezoid Method, find the approximate time necessary for the particle to slow to $v(t) = 5 ~ m/s$."
   ]
  },
  {
   "cell_type": "code",
   "execution_count": 162,
   "metadata": {},
   "outputs": [],
   "source": [
    "#(2)\n",
    "m= 1.\n",
    "v0= 10.\n",
    "vc= 2.\n",
    "Rinf = 3.\n",
    "vt =5.\n",
    "e = np.exp(1)\n",
    "def Rv_fun(v):\n",
    "    frac = (2.)/(1 + (e**((-1.*(v**2.))/(vc**2))))\n",
    "    bottom = (frac -1)*(-Rinf)\n",
    "    Rv = (m/bottom)\n",
    "    return Rv"
   ]
  },
  {
   "cell_type": "code",
   "execution_count": 164,
   "metadata": {},
   "outputs": [
    {
     "name": "stdout",
     "output_type": "stream",
     "text": [
      "it takes in secononds: 1.667148688179324\n"
     ]
    }
   ],
   "source": [
    "print(\"it takes in secononds:\", trapezoid_method(v0,vt,100,Rv_fun)) # answer is time in seconds."
   ]
  },
  {
   "cell_type": "markdown",
   "metadata": {},
   "source": [
    "**Problem 3** (20 pts): In class, we showed that Simpson's method for finding the integral \n",
    "\n",
    "$$\n",
    "T_{[a,b]}(f) = \\int_{a}^{b} f(x) dx, \n",
    "$$\n",
    "\n",
    "over a mesh $\\left\\{ x_{j} \\right\\}_{j=0}^{2N}$, $x_{j} = a + j\\delta x$, $\\delta x = (b-a)/(2N)$, is found via a series of local approximations via the formula \n",
    "\n",
    "\\begin{align*}\n",
    "\\int_{a}^{b} f(x) dx = & \\sum_{l=0}^{N-1} \\int_{x_{2l}}^{x_{2l+2}} f(x) dx \\\\\n",
    "\\approx & \\sum_{l=0}^{N-1} \\int_{x_{2l}}^{x_{2l+2}} y_{2l+1}(x;x_{2l+1}) dx \n",
    "\\end{align*}\n",
    "\n",
    "where the approximating interpolatory polynomial $y_{2l+1}(x;x_{2l+1})$ is given by \n",
    "\n",
    "$$\n",
    "y_{2l+1}(x;x_{2l+1}) = a_{2l+1}\\left(x-x_{2l+1} \\right)^{2} + b_{2l+1}\\left(x-x_{2l+1} \\right) + c_{2l+1}.\n",
    "$$\n",
    "\n",
    "The coefficients $a_{2l+1}$, $b_{2l+1}$, and $c_{2l+1}$ are found via the _interpolation_ requirements\n",
    "\n",
    "\\begin{align*}\n",
    "y_{2l+1}(x_{2l};x_{2l+1}) = & f\\left(x_{2l}\\right) = f_{2l}\\\\\n",
    "y_{2l+1}(x_{2l+1};x_{2l+1}) = & f\\left(x_{2l+1}\\right) = f_{2l+1}\\\\\n",
    "y_{2l+1}(x_{2l+2};x_{2l+1}) = & f\\left(x_{2l+2}\\right) = f_{2l+2}\\\\\n",
    "\\end{align*}\n",
    "\n",
    "* **Part a)** (5 pts) Using the above interpolatory requirements, show that \n",
    "$$\n",
    "a_{2l+1} = \\frac{1}{2(\\delta x)^{2}}\\left(f_{2l} -2f_{2l+1} + f_{2l+2} \\right), ~ b_{2l+1} = \\frac{1}{2\\delta x}\\left(f_{2l+2}-f_{2l} \\right), ~ c_{2l+1} = f_{2l+1}\n",
    "$$\n",
    "\n",
    "* **Part b)** (5 pts) Using the Taylor series expansions\n",
    "\\begin{align*}\n",
    "f_{2l} = f\\left(x_{2l+1}-\\delta x\\right) = f_{2l+1} - f'\\left(x_{2l+1}\\right)\\delta x + \\frac{1}{2}f''\\left(x_{2l+1}\\right)(\\delta x)^{2} - \\frac{1}{6}f'''\\left(x_{2l+1}\\right)(\\delta x)^{3} + C_{2l+1}(\\delta x)^{4}\\\\\n",
    "f_{2l+2} = f\\left(x_{2l+1}+\\delta x\\right) = f_{2l+1} + f'\\left(x_{2l+1}\\right)\\delta x + \\frac{1}{2}f''\\left(x_{2l+1}\\right)(\\delta x)^{2} + \\frac{1}{6}f'''\\left(x_{2l+1}\\right)(\\delta x)^{3} + \\bar{C}_{2l+1}(\\delta x)^{4}\n",
    "\\end{align*}\n",
    "show that \n",
    "\\begin{multline}\n",
    "y_{2l+1}\\left(x;x_{2l+1}\\right) = f_{2l+1} + f'\\left(x_{2l+1}\\right)\\left(x-x_{2l+1}\\right) + \\frac{f''(x_{2l+1})}{2}\\left(x-x_{2l+1}\\right)^{2} \\\\\n",
    "+ \\frac{(\\delta x)^{2}}{2}\\left(\\frac{1}{3}f'''\\left(x_{2l+1}\\right) + \\left(\\bar{C}_{2l+1}-C_{2l+1}\\right)\\delta x\\right)\\left(x-x_{2l+1}\\right) + \\frac{1}{2}\\left(C_{2l+1}+\\bar{C}_{2l+1}\\right)\\left(\\delta x\\right)^{2}\\left(x-x_{2l+1}\\right)^{2}\n",
    "\\end{multline}\n",
    "\n",
    "* **Part c)** (5 pts) Using the Taylor series expansion\n",
    "$$\n",
    "f(x) = f_{2l+1} + f'\\left(x_{2l+1}\\right)\\left(x - x_{2l+1} \\right) + \\frac{1}{2}f''(x_{2l+1})\\left(x - x_{2l+1} \\right)^{2} + \\frac{1}{6}f'''(x_{2l+1})(x-x_{2l+1})^{3} + \\tilde{C}_{2l+1}\\left(x-x_{2l+1}\\right)^{4}\n",
    "$$\n",
    "show that \n",
    "\\begin{align}\n",
    "\\int_{x_{2l}}^{x_{2l+2}} \\left(f(x) - y_{2l+1}(x;x_{2l+1}) \\right) dx = & \\left(\\frac{2}{5}\\tilde{C}_{2l+1} - \\frac{1}{3}\\left(C_{2l+1}+\\bar{C}_{2l+1}\\right) \\right)(\\delta x)^{5}\\\\\n",
    "= & \\hat{C}_{2l+1}\\left(\\delta x \\right)^{5},\n",
    "\\end{align}\n",
    "where we use the relabeling\n",
    "$$\n",
    "\\hat{C}_{2l+1} \\equiv \\frac{2}{5}\\tilde{C}_{2l+1} - \\frac{1}{3}\\left(C_{2l+1}+\\bar{C}_{2l+1}\\right)\n",
    "$$\n",
    "\n",
    "* **Part d)** (5 pts) Letting the global Simpson's approximation be $A_{2N}(f)$ where\n",
    "\\begin{align}\n",
    "A_{2N}(f) = & \\sum_{l=0}^{N-1} \\int_{x_{2l}}^{x_{2l+2}} y_{2l+1}(x;x_{2l+1}) dx \\\\\n",
    "= &\\frac{\\delta x}{3}\\left(f_{0} + f_{2N} + 2\\sum_{l=1}^{N-1}f_{2l} + 4\\sum_{l=0}^{N-1}f_{2l+1} \\right)\n",
    "\\end{align}\n",
    "show that \n",
    "$$\n",
    "T_{[a,b]}(f) - A_{2N}(f) = \\frac{\\hat{C}_{M}}{2}(b-a)(\\delta x)^{4}\n",
    "$$\n",
    "where $\\hat{C}_{M}$ is the biggest of all the constants $\\hat{C}_{2l+1}$ (Note, technically we should have inequalities throughout all of this, but we are only telling a small fib...)"
   ]
  },
  {
   "cell_type": "markdown",
   "metadata": {},
   "source": [
    "3(a)\n",
    "Let \n",
    "$$\n",
    "y_{2l+1}(x;x_{2l+1}) = a_{2l+1}\\left(x-x_{2l+1} \\right)^{2} + b_{2l+1}\\left(x-x_{2l+1} \\right) + c_{2l+1}.\n",
    "$$\n",
    "\n",
    "The coefficients $a_{2l+1}$, $b_{2l+1}$, and $c_{2l+1}$ are found via the _interpolation_ requirements\n",
    "\n",
    "\\begin{align*}\n",
    "y_{2l+1}(x_{2l};x_{2l+1}) = & f\\left(x_{2l}\\right) = f_{2l}\\\\\n",
    "y_{2l+1}(x_{2l+1};x_{2l+1}) = & f\\left(x_{2l+1}\\right) = f_{2l+1}\\\\\n",
    "y_{2l+1}(x_{2l+2};x_{2l+1}) = & f\\left(x_{2l+2}\\right) = f_{2l+2}\\\\\n",
    "\\end{align*}\n",
    "\n",
    "So, first we can work with $y_{2l+1}(x_{2l+1};x_{2l+1})$ so, \n",
    "\n",
    "$y_{2l+1}(x_{2l+1};x_{2l+1}) = f\\left(x_{2l+1}\\right) = f_{2l+1} = a_{2l+1}\\left(x_{2l+1}-x_{2l+1} \\right)^{2} + b_{2l+1}\\left(x_{2l+1}-x_{2l+1} \\right) + c_{2l+1}\n",
    "$\n",
    "Hence, $ c_{2l+1} = f_{2l+1}$\n",
    "Now, we have 2 equations with 2 unknowns:\n",
    "$$\n",
    "f_{2l} = a_{2l+1}\\left(x_{2l}-x_{2l+1} \\right)^{2} + b_{2l+1}\\left(x_{2l}-x_{2l+1} \\right) + f_{2l+1}\\\\\n",
    "f_{2l+2} =a_{2l+1}\\left(x_{2l+2}-x_{2l+1} \\right)^{2} + b_{2l+1}\\left(x_{2l+2}-x_{2l+1} \\right) + f_{2l+1}\\\\\n",
    "f_{2l} = a_{2l+1}(-\\delta x)^{2} + b_{2l+1}( -\\delta x) + f_{2l+1}\\\\\n",
    "f_{2l+2} =a_{2l+1}(\\delta x)^{2} + b_{2l+1}(\\delta x) + f_{2l+1}\\\\\n",
    "-f_{2l} + a_{2l+1}(-\\delta x)^{2} +f_{2l+1} =  b_{2l+1}( \\delta x) \\\\\n",
    "f_{2l+2} =a_{2l+1}(\\delta x)^{2} + -f_{2l} + a_{2l+1}(-\\delta x)^{2} +f_{2l+1}+ f_{2l+1}\\\\\n",
    "f_{2l+2} +f_{2l} -2f_{2l+1} = 2a_{2l+1}(\\delta x)^{2}\\\\\n",
    "a_{2l+1} = \\frac{1}{2(\\delta x)^{2}}\\left(f_{2l} -2f_{2l+1} + f_{2l+2} \\right)\\\\\n",
    "b_{2l+1}( \\delta x)  = -f_{2l} + a_{2l+1}(-\\delta x)^{2} +f_{2l+1} = -f_{2l} + (\\frac{1}{2(\\delta x)^{2}}\\left(f_{2l} -2f_{2l+1} + f_{2l+2} \\right))(-\\delta x)^{2} +f_{2l+1} \\\\\n",
    "b_{2l+1} = \\frac{1}{2\\delta x}\\left(f_{2l+2}-f_{2l} \\right)\\\\\n",
    "$$\n",
    "\n",
    "\n"
   ]
  },
  {
   "cell_type": "markdown",
   "metadata": {},
   "source": [
    "3(b) Let \n",
    "\\begin{align*}\n",
    "f_{2l} = f\\left(x_{2l+1}-\\delta x\\right) = f_{2l+1} - f'\\left(x_{2l+1}\\right)\\delta x + \\frac{1}{2}f''\\left(x_{2l+1}\\right)(\\delta x)^{2} - \\frac{1}{6}f'''\\left(x_{2l+1}\\right)(\\delta x)^{3} + C_{2l+1}(\\delta x)^{4}\\\\\n",
    "f_{2l+2} = f\\left(x_{2l+1}+\\delta x\\right) = f_{2l+1} + f'\\left(x_{2l+1}\\right)\\delta x + \\frac{1}{2}f''\\left(x_{2l+1}\\right)(\\delta x)^{2} + \\frac{1}{6}f'''\\left(x_{2l+1}\\right)(\\delta x)^{3} + \\bar{C}_{2l+1}(\\delta x)^{4}\n",
    "\\end{align*}\n",
    "\n",
    "We know from 1(a) that \n",
    "$$\n",
    "y_{2l+1}(x;x_{2l+1}) = a_{2l+1}\\left(x-x_{2l+1} \\right)^{2} + b_{2l+1}\\left(x-x_{2l+1} \\right) + c_{2l+1}.\\\\\n",
    "a_{2l+1} = \\frac{1}{2(\\delta x)^{2}}\\left(f_{2l} -2f_{2l+1} + f_{2l+2} \\right)\\\\\n",
    "b_{2l+1} = \\frac{1}{2\\delta x}\\left(f_{2l+2}-f_{2l} \\right)\\\\\n",
    "c_{2l+1} = f_{2l+1}\n",
    "$$\n",
    "So,\n",
    "$$\n",
    "y_{2l+1}(x;x_{2l+1}) = (\\frac{1}{2(\\delta x)^{2}}\\left(f_{2l} -2f_{2l+1} + f_{2l+2} \\right))\\left(x-x_{2l+1} \\right)^{2} + (\\frac{1}{2\\delta x}\\left(f_{2l+2}-f_{2l} \\right))\\left(x-x_{2l+1} \\right) + f_{2l+1}.\n",
    "$$\n",
    "Now, lets plug in what we know from the given above, \n",
    "$$y_{2l+1}(x;x_{2l+1}) = (\\frac{1}{2(\\delta x)^{2}}\\left(f\\left(x_{2l+1}-\\delta x\\right) = f_{2l+1} - f'\\left(x_{2l+1}\\right)\\delta x + \\frac{1}{2}f''\\left(x_{2l+1}\\right)(\\delta x)^{2} - \\frac{1}{6}f'''\\left(x_{2l+1}\\right)(\\delta x)^{3} + C_{2l+1}(\\delta x)^{4} -2f_{2l+1} + f\\left(x_{2l+1}+\\delta x\\right) = f_{2l+1} + f'\\left(x_{2l+1}\\right)\\delta x + \\frac{1}{2}f''\\left(x_{2l+1}\\right)(\\delta x)^{2} + \\frac{1}{6}f'''\\left(x_{2l+1}\\right)(\\delta x)^{3} + \\bar{C}_{2l+1}(\\delta x)^{4} \\right))\\left(x-x_{2l+1} \\right)^{2} + (\\frac{1}{2\\delta x}\\left(f\\left(x_{2l+1}+\\delta x\\right) = f_{2l+1} + f'\\left(x_{2l+1}\\right)\\delta x + \\frac{1}{2}f''\\left(x_{2l+1}\\right)(\\delta x)^{2} + \\frac{1}{6}f'''\\left(x_{2l+1}\\right)(\\delta x)^{3} + \\bar{C}_{2l+1}(\\delta x)^{4}-f\\left(x_{2l+1}-\\delta x\\right) = f_{2l+1} - f'\\left(x_{2l+1}\\right)\\delta x + \\frac{1}{2}f''\\left(x_{2l+1}\\right)(\\delta x)^{2} - \\frac{1}{6}f'''\\left(x_{2l+1}\\right)(\\delta x)^{3} + C_{2l+1}(\\delta x)^{4} \\right))\\left(x-x_{2l+1} \\right) + f_{2l+1}.\n",
    "$$\n",
    "\\begin{multline}\n",
    "y_{2l+1}\\left(x;x_{2l+1}\\right) = f_{2l+1} + f'\\left(x_{2l+1}\\right)\\left(x-x_{2l+1}\\right) + \\frac{f''(x_{2l+1})}{2}\\left(x-x_{2l+1}\\right)^{2} \\\\\n",
    "+ \\frac{(\\delta x)^{2}}{2}\\left(\\frac{1}{3}f'''\\left(x_{2l+1}\\right) + \\left(\\bar{C}_{2l+1}-C_{2l+1}\\right)\\delta x\\right)\\left(x-x_{2l+1}\\right) + \\frac{1}{2}\\left(C_{2l+1}+\\bar{C}_{2l+1}\\right)\\left(\\delta x\\right)^{2}\\left(x-x_{2l+1}\\right)^{2}\n",
    "\\end{multline}"
   ]
  },
  {
   "cell_type": "markdown",
   "metadata": {},
   "source": [
    "3(c)\n",
    "$$\n",
    "f(x) = f_{2l+1} + f'\\left(x_{2l+1}\\right)\\left(x - x_{2l+1} \\right) + \\frac{1}{2}f''(x_{2l+1})\\left(x - x_{2l+1} \\right)^{2} + \\frac{1}{6}f'''(x_{2l+1})(x-x_{2l+1})^{3} + \\tilde{C}_{2l+1}\\left(x-x_{2l+1}\\right)^{4}\n",
    "$$\n",
    "So we have, \n",
    "$$\n",
    "f(x) - y_{2l+1}(x;x_{2l+1}) = f_{2l+1} + f'\\left(x_{2l+1}\\right)\\left(x - x_{2l+1} \\right) + \\frac{1}{2}f''(x_{2l+1})\\left(x - x_{2l+1} \\right)^{2} + \\frac{1}{6}f'''(x_{2l+1})(x-x_{2l+1})^{3} + \\tilde{C}_{2l+1}\\left(x-x_{2l+1}\\right)^{4} - (f_{2l+1} + f'\\left(x_{2l+1}\\right)\\left(x-x_{2l+1}\\right) + \\frac{f''(x_{2l+1})}{2}\\left(x-x_{2l+1}\\right)^{2} \\\\\n",
    "+ \\frac{(\\delta x)^{2}}{2}\\left(\\frac{1}{3}f'''\\left(x_{2l+1}\\right) + \\left(\\bar{C}_{2l+1}-C_{2l+1}\\right)\\delta x\\right)\\left(x-x_{2l+1}\\right) + \\frac{1}{2}\\left(C_{2l+1}+\\bar{C}_{2l+1}\\right)\\left(\\delta x\\right)^{2}\\left(x-x_{2l+1}\\right)^{2})\n",
    "$$\n",
    "Then, by simplifying and cancelations we get:\n",
    "$$\n",
    "f(x) - y_{2l+1}(x;x_{2l+1}) = \\frac{1}{6}f'''(x_{2l+1})(x-x_{2l+1})^{3} + \\tilde{C}_{2l+1}\\left(x-x_{2l+1}\\right)^{4} - \\frac{(\\delta x)^{2}}{2}\\left(\\frac{1}{3}f'''\\left(x_{2l+1}\\right) + \\left(\\bar{C}_{2l+1}-C_{2l+1}\\right)\\delta x\\right)\\left(x-x_{2l+1}\\right) - \\frac{1}{2}\\left(C_{2l+1}+\\bar{C}_{2l+1}\\right)\\left(\\delta x\\right)^{2}\\left(x-x_{2l+1}\\right)^{2})\n",
    "$$\n",
    "relabel:\n",
    "$$\n",
    "A1 = \\frac{1}{6}f'''(x_{2l+1})(x-x_{2l+1})^{3}\\\\\n",
    "B1 = \\tilde{C}_{2l+1}\\left(x-x_{2l+1}\\right)^{4}\\\\\n",
    "C1 = \\frac{(\\delta x)^{2}}{2}\\left(\\frac{1}{3}f'''\\left(x_{2l+1}\\right) + \\left(\\bar{C}_{2l+1}-C_{2l+1}\\right)\\delta x\\right)\\left(x-x_{2l+1}\\right)\\\\\n",
    "D1 = \\frac{1}{2}\\left(C_{2l+1}+\\bar{C}_{2l+1}\\right)\\left(\\delta x\\right)^{2}\\left(x-x_{2l+1}\\right)^{2})\\\\\n",
    "$$\n",
    "Hence, $f(x) - y_{2l+1}(x;x_{2l+1}) = A1+B1-C1-D1$\n",
    "So, \n",
    "$$\n",
    "\\int_{}^{} A1 = 1/4\\frac{1}{6}f'''(x_{2l+1})(x-x_{2l+1})^{4} + C1\\\\\n",
    "\\int_{}^{} B1 = 1/5\\tilde{C}_{2l+1}\\left(x-x_{2l+1}\\right)^{5} +C2\\\\\n",
    "\\int_{}^{} C1 = 1/2\\frac{(\\delta x)^{2}}{2}\\left(\\frac{1}{3}f'''\\left(x_{2l+1}\\right) + \\left(\\bar{C}_{2l+1}-C_{2l+1}\\right)\\delta x\\right)\\left(x-x_{2l+1}\\right)^{2} +C3\\\\\n",
    "\\int_{}^{} D1 =1/3\\frac{1}{2}\\left(C_{2l+1}+\\bar{C}_{2l+1}\\right)\\left(\\delta x\\right)^{2}\\left(x-x_{2l+1}\\right)^{3})+C4\n",
    "\\\\\n",
    "\\\\\n",
    "\\\\\n",
    "$$\n",
    "$$\n",
    "\\int_{x_{2l}}^{x_{2l+2}} A1 = 1/4\\frac{1}{6}f'''(x_{2l+1})(x_{2l+2}-x_{2l+1})^{4}- 1/4\\frac{1}{6}f'''(x_{2l+1})(x_{2l}-x_{2l+1})^{4} = 1/4\\frac{1}{6}f'''(x_{2l+1})(\\delta x)^{4}- 1/4\\frac{1}{6}f'''(x_{2l+1})(\\delta x)^{4} = 0.\\\\\n",
    "\\int_{x_{2l}}^{x_{2l+2}} B1 =1/5\\tilde{C}_{2l+1}\\left(x_{2l+2}-x_{2l+1}\\right)^{5} - 1/5\\tilde{C}_{2l+1}\\left(x_{2l}-x_{2l+1}\\right)^{5} = 2/5\\tilde{C}_{2l+1}(\\delta x)^{5}\\\\\n",
    "\\int_{x_{2l}}^{x_{2l+2}} C1 =1/2\\frac{(\\delta x)^{2}}{2}\\left(\\frac{1}{3}f'''\\left(x_{2l+1}\\right) + \\left(\\bar{C}_{2l+1}-C_{2l+1}\\right)\\delta x\\right)\\left(x_{2l+2}-x_{2l+1}\\right)^{2} -1/2\\frac{(\\delta x)^{2}}{2}\\left(\\frac{1}{3}f'''\\left(x_{2l+1}\\right) + \\left(\\bar{C}_{2l+1}-C_{2l+1}\\right)\\delta x\\right)\\left(x_{2l}-x_{2l+1}\\right)^{2} = 0\\\\\n",
    "\\int_{x_{2l}}^{x_{2l+2}} D1 =1/3\\frac{1}{2}\\left(C_{2l+1}+\\bar{C}_{2l+1}\\right)\\left(\\delta x\\right)^{2}\\left(x_{2l+2}-x_{2l+1}\\right)^{3}) -1/3\\frac{1}{2}\\left(C_{2l+1}+\\bar{C}_{2l+1}\\right)\\left(\\delta x\\right)^{2}\\left(x_{2l}-x_{2l+1}\\right)^{3}) = \\frac{1}{3}\\left(C_{2l+1}+\\bar{C}_{2l+1}\\right)\\left(\\delta x\\right)^{5}\\\\\n",
    "$$\n",
    "\n",
    "$$\n",
    "\\int_{x_{2l}}^{x_{2l+2}} \\left(f(x) - y_{2l+1}(x;x_{2l+1}) \\right) dx = \\int_{x_{2l}}^{x_{2l+2}} A1 + \\int_{x_{2l}}^{x_{2l+2}} B1 - \\int_{x_{2l}}^{x_{2l+2}} C1 - \\int_{x_{2l}}^{x_{2l+2}} D1\n",
    "$$\n",
    "Finally we can conclude that, \n",
    "\\begin{align}\n",
    "\\int_{x_{2l}}^{x_{2l+2}} \\left(f(x) - y_{2l+1}(x;x_{2l+1}) \\right) dx = & \\left(\\frac{2}{5}\\tilde{C}_{2l+1} - \\frac{1}{3}\\left(C_{2l+1}+\\bar{C}_{2l+1}\\right) \\right)(\\delta x)^{5}\\\\\n",
    "= & \\hat{C}_{2l+1}\\left(\\delta x \\right)^{5},\n",
    "\\end{align}\n",
    "where we use the relabeling\n",
    "$$\n",
    "\\hat{C}_{2l+1} \\equiv \\frac{2}{5}\\tilde{C}_{2l+1} - \\frac{1}{3}\\left(C_{2l+1}+\\bar{C}_{2l+1}\\right)\n",
    "$$\n"
   ]
  },
  {
   "cell_type": "markdown",
   "metadata": {},
   "source": [
    "3(d)\n",
    "$$\n",
    "T_{[a,b]}(f) - A_{2N}(f) = \\sum_{l=0}^{N-1}\\int_{x_{2l}}^{x_{2l+2}} \\left(f(x) - y_{2l+1}(x;x_{2l+1}) \\right) dx\n",
    "$$\n",
    "from part c we showed that:\n",
    "$$\n",
    "T_{[a,b]}(f) - A_{2N}(f) = \\sum_{l=0}^{N-1} \\hat{C}_{2l+1}\\left(\\delta x \\right)^{5} = \\left(\\delta x \\right)^{5} \\sum_{l=0}^{N-1} \\hat{C}_{2l+1} = \\hat{C}_{M}\\left(\\delta x \\right)^{5} \\sum_{l=0}^{N-1} 1 = \\hat{C}_{M}\\left(\\delta x \\right)^{5} N \n",
    "$$\n",
    "where $\\hat{C}_{M}$ is the biggest of all the constants $\\hat{C}_{2l+1}$ (Note, technically we should have inequalities throughout all of this, but we are only telling a small fib...)\n",
    "where $\\delta x = \\frac{b-a}{2N}$.\n",
    "So,\n",
    "$ N = \\frac{(b-a)}{2\\delta x}$\n",
    "$$\n",
    "T_{[a,b]}(f) - A_{2N}(f) = \\hat{C}_{M}(\\delta x)^{5}N= \\hat{C}_{M}\\frac{b-a}{2}(\\delta x)^{4}\n",
    "$$"
   ]
  },
  {
   "cell_type": "markdown",
   "metadata": {},
   "source": [
    "**Problem 4** (10 pts): Choose an example and using the code from Lecture 5 as a model, numerically verify the error analysis we performed for Simpson's method above by generating a log/log plot and a corresponding estimate of the slope of the plotted line.  Note, you may have to use clever choices for $N$ or slicing choices in order to remove nan terms and the like from your slope estimates.  Provide a brief summary of your results.  "
   ]
  },
  {
   "cell_type": "code",
   "execution_count": 169,
   "metadata": {},
   "outputs": [],
   "source": [
    "def test_fun(xvals):\n",
    "    return xvals**4"
   ]
  },
  {
   "cell_type": "code",
   "execution_count": 170,
   "metadata": {},
   "outputs": [],
   "source": [
    "def simpson_method(a,b,N,f):\n",
    "    xvals = np.linspace(a,b,int(N)+1)\n",
    "    fvals = f(xvals)\n",
    "    dx = (b-a)/int(N)\n",
    "    return dx/3.*(fvals[0] + fvals[int(N)] + 2.*np.sum(fvals[2:(int(N)-1):2])+4.*np.sum(fvals[1:int(N):2]))  "
   ]
  },
  {
   "cell_type": "code",
   "execution_count": 178,
   "metadata": {},
   "outputs": [],
   "source": [
    "def error_test(a,b,f):\n",
    "    tval =  (b**5.)/5. -(a**5.)/5.\n",
    "    Nvals = np.array([1e2, 1e3, 1e4])\n",
    "    Evals = np.zeros(Nvals.size)\n",
    "    for jj in range(0,Nvals.size):\n",
    "        Evals[jj] = np.log10(np.abs(tval - simpson_method(a,b,Nvals[jj],f)))\n",
    "    xvals = np.log10(Nvals)\n",
    "    plt.plot(xvals,Evals)\n",
    "    plt.xlabel('$log_{10}|\\delta x|$')\n",
    "    plt.ylabel('$log_{10}|error|$')\n",
    "    novals = Evals.size\n",
    "    slopes = Evals[1:] - Evals[:novals-1]\n",
    "    print(np.min(slopes))\n",
    "    print(np.max(slopes))\n",
    "    print(np.mean(slopes))"
   ]
  },
  {
   "cell_type": "code",
   "execution_count": 179,
   "metadata": {
    "scrolled": true
   },
   "outputs": [
    {
     "name": "stdout",
     "output_type": "stream",
     "text": [
      "-4.000033702041067\n",
      "-3.4980347236870273\n",
      "-3.7490342128640473\n"
     ]
    },
    {
     "data": {
      "image/png": "[encoded data removed]",
      "text/plain": [
       "<Figure size 432x288 with 1 Axes>"
      ]
     },
     "metadata": {
      "needs_background": "light"
     },
     "output_type": "display_data"
    }
   ],
   "source": [
    "error_test(0.,0.2,test_fun)"
   ]
  },
  {
   "cell_type": "markdown",
   "metadata": {},
   "source": [
    "In part problem 3 part d,  I showed that \n",
    "$$\n",
    "T_{[a,b]}(f) - A_{2N}(f) = \\hat{C}_{M}(\\delta x)^{5}N= \\hat{C}_{M}\\frac{b-a}{2}(\\delta x)^{4}\n",
    "$$\n",
    "Hence, \n",
    "$$\n",
    "Error = \\hat{C}_{M}\\frac{b-a}{2}(\\delta x)^{4}\\\\\n",
    "log_{10}|Error| = log_{10}(\\hat{C}_{M}\\frac{b-a}{2}(\\delta x)^{4})\\\\\n",
    "log_{10}|Error| = log_{10}(\\hat{C}_{M}\\frac{b-a}{2}) + log_{10}(\\delta x)^{4}\\\\\n",
    "log_{10}|Error| = log_{10}(\\hat{C}_{M}\\frac{b-a}{2}) + 4*log_{10}(\\delta x)\n",
    "$$\n",
    "In the graph above, y axis represtents $log_{10}|Error|$ and the x axis is $ log_{10}(\\delta x)$ so the slope is 4!"
   ]
  },
  {
   "cell_type": "code",
   "execution_count": null,
   "metadata": {},
   "outputs": [],
   "source": []
  }
 ],
 "metadata": {
  "kernelspec": {
   "display_name": "Python 3",
   "language": "python",
   "name": "python3"
  },
  "language_info": {
   "codemirror_mode": {
    "name": "ipython",
    "version": 3
   },
   "file_extension": ".py",
   "mimetype": "text/x-python",
   "name": "python",
   "nbconvert_exporter": "python",
   "pygments_lexer": "ipython3",
   "version": "3.7.4"
  }
 },
 "nbformat": 4,
 "nbformat_minor": 2
}
