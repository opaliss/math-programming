{
 "cells": [
  {
   "cell_type": "code",
   "execution_count": 26,
   "metadata": {},
   "outputs": [],
   "source": [
    "import numpy as np\n",
    "import matplotlib.pyplot as plt\n",
    "from time import time\n",
    "%matplotlib inline"
   ]
  },
  {
   "cell_type": "code",
   "execution_count": 27,
   "metadata": {},
   "outputs": [],
   "source": [
    "def trl_dvsn(n):\n",
    "    \n",
    "    isprime = True\n",
    "    cnt = 2\n",
    "    \n",
    "    while isprime and cnt < n:\n",
    "        if n%cnt == 0:\n",
    "            isprime = False\n",
    "        else:\n",
    "            cnt += 1\n",
    "    \n",
    "    return isprime"
   ]
  },
  {
   "cell_type": "markdown",
   "metadata": {},
   "source": [
    "**Problem 1** (3pts for each part): As we covered in class, for a given natural number $n\\in \\mathbb{N}$, we say it is prime if its only divisors are $1$ and itself.  Otherwise, we say the number is composite.  Likewise, we have the _Fundamental Theorem of Arithmetic_, which says that for any $n\\in\\mathbb{N}$, $n$ has a prime factorization so that \n",
    "$$\n",
    "n = p_{1}^{k_{1}}\\cdots p_{j}^{k_{j}}, ~ k_{j}\\in \\mathbb{N}\n",
    "$$\n",
    "where each $p_{l}$ is prime and the decomposition is unique modulo rearranging the order of the terms.  Show\n",
    "\n",
    "* If $n$ is composite, show there is a prime factor $p_{j}$ such that $p_{j}\\leq\\sqrt{n}$.\n",
    "* If $n>6$ and $n$ is prime, show that there is some $k\\in\\mathbb{N}$ such that $n=6k+1$ or $n=6k+5$."
   ]
  },
  {
   "cell_type": "markdown",
   "metadata": {},
   "source": [
    "Part 1:\n",
    "\n",
    "First, consider the Fundemantal Theorem of Arithmetic. \n",
    "\n",
    "This tells us that \n",
    "$$\n",
    "n = p_{1}^{k_{1}}\\cdots p_{j}^{k_{j}}, ~ k_{j}\\in \\mathbb{N}\n",
    "$$\n",
    "now we know that $p_{1} < p_{2}< p_{3} < p_{4} <p_{5}... <p_{j}$ \n",
    "\n",
    "If n is compositive that means that at least 2 of pj are his divisors.\n",
    "\n",
    "Hence $n \\geq p_{i}p_{k}$ because, $p_{1} < p_{2}< p_{3} < p_{4} <p_{5}... <p_{j}$ then $n \\geq p_{i}p_{k} \\geq p_{1}p_{1}$ \n",
    "\n",
    "Therefore, $n \\geq (p_{1})^{2}$. \n",
    "\n",
    "Then, there is a prime factor $p_{j}$ such that $p_{j}\\leq\\sqrt{n}$\n",
    "\n",
    "Part 2:\n",
    "\n",
    "\n",
    "Let n>6. Let n be prime. Now, lets apply the division algorithm thm:\n",
    "\n",
    "for $a,b \\in \\mathbb{Z}$ with $b>0$ there exists unique $q,r \\in \\mathbb{Z}$ such that:\n",
    "$a = bq + r$    and    $0 \\leq r < b$.\n",
    "\n",
    "Set $b =6$. So $0 \\leq r<6$,\n",
    "\n",
    "We have 5 cases:\n",
    "\n",
    "case 1: $r=0$, $n= 6q$ $\\rightarrow$ this is not possible since n is divisible by 6. But n is prime!\n",
    "\n",
    "\n",
    "case 2: $r=1$, $n= 6q+1$ $\\rightarrow$ this is a possibility!\n",
    "\n",
    "\n",
    "case 3: $r=2$, $n= 6q+2$ $\\rightarrow$ this is not possible since n is divisible by 2. But n is prime!\n",
    "\n",
    "\n",
    "case 4: $r=3$, $n= 6q+3$ $\\rightarrow$ this is not possible since n is divisble by 3. But n is prime!\n",
    "\n",
    "\n",
    "case 5: $r=4$, $n= 6q+4$ $\\rightarrow$ this is not possible since n is divisible by 2. But n is prime!\n",
    "\n",
    "\n",
    "case 6: $r=5$, $n = 6q+5$ $\\rightarrow$ this is a possibility!\n",
    "\n",
    "\n",
    "In conclusion, $n=6q+1$ or $n=6q+5$. for some q interger (or k as presented above!)"
   ]
  },
  {
   "cell_type": "markdown",
   "metadata": {
    "collapsed": true
   },
   "source": [
    "**Problem 2** (10pts): Using the code provided below and the results from Problem 1, \n",
    "\n",
    "* Implement a better test of whether a number is prime than the simple trial division algorithm provided above at the beginning of the notebook. Briefly explain the `if n>=49 and n<121` and `elif n>=121` checks as well.  (4pts)  \n",
    "\n",
    "* Develop several test cases using both the simple algorithm and your new one to make sure your new algorithm is correct.  (3pts)\n",
    "\n",
    "* For $2\\leq n \\leq 10^{5}$, compare the difference in times between your new algorithm and the simple one.  Make a semilog plot of the time differences.  Describe any trends you see from your plot.  (3pts)"
   ]
  },
  {
   "cell_type": "markdown",
   "metadata": {},
   "source": [
    "Alright, first I will explain this algorithm:\n",
    "\n",
    "As mentioned above we have:\n",
    "\n",
    "* If $n$ is composite, show there is a prime factor $p_{j}$ such that $p_{j}\\leq\\sqrt{n}$.\n",
    "* If $n>6$ and $n$ is prime, show that there is some $k\\in\\mathbb{N}$ such that $n=6k+1$ or $n=6k+5$.\n",
    "\n",
    "Now this means that if n is less than 49. Then it is prime if it is not divisible by 2, 3, 5. \n",
    "Now, if n is prime and greater than or equal to 49 then there exists a k where:\n",
    "\n",
    "$$\n",
    "6k+5 \\leq \\sqrt{n} \\\\\n",
    "or \\\\\n",
    "6k+1 \\leq \\sqrt{n}\\\\\n",
    "$$\n",
    "\n",
    "by doing some algebra:\n",
    "\n",
    "$$\n",
    "k \\leq \\frac{\\sqrt{n} -5}{6} \\\\\n",
    "or\\\\\n",
    "k \\leq \\frac{\\sqrt{n}-1}{6}\\\\\n",
    "$$\n",
    "\n",
    "So, \n",
    "if $ 49 \\leq n <121$\n",
    "Then if n got to this test check it means 2,3,5 are not its divisors. Hence, the smallest divisor can be 7. So the only composite numbers who do not divide 2, 3, 5 in this range is $49 = 7*7$ which can only be written in the form of $49 = 6k+1$ for a unique k that is an integer $(k=8)$. \n",
    "\n",
    "Then the greatest $k = \\lfloor{\\frac{\\sqrt{n}-1}{6}}\\rfloor$\n",
    "\n",
    "The next prime number after 7 is 11. So if n divisors are not 2,3,4,5 then it's lowest possible divisor is 11. Hence, the range is greater than $121 = 11*11$. \n",
    "if $ n \\geq 121$\n",
    " \n",
    "Then the greatest $k = \\lfloor{\\frac{\\sqrt{n}-5}{6}}\\rfloor$.\n",
    "\n",
    "Remember that k an integer so we take the floor of these expressions. \n",
    "\n",
    "Now we know from the fundemantal thm of arithmetic that every composite is equal to the multiplicity of 2 or more prime numbers. \n",
    "Therefore, we will use modular division to test if our number n divides any of the possible prime numbers in the form or 6k+1 or 6k+5 that are all less than n. \n",
    "\n",
    "This shortens our algorithm significanlty since the for loop only runs on possible 6k+1 or 6k+5 less than n in comparison to n times. \n"
   ]
  },
  {
   "cell_type": "code",
   "execution_count": 28,
   "metadata": {},
   "outputs": [],
   "source": [
    "def bttr_trl_dvsn(n):\n",
    "    \n",
    "    isprime = True\n",
    "    nsq = np.sqrt(n)\n",
    "    \n",
    "    if n%2 == 0 or n%3 == 0 or n%5 == 0:\n",
    "        if n!=2 and n!=3 and n!=5:\n",
    "            isprime = False\n",
    "    else:\n",
    "        if n<49:\n",
    "            kmax =0\n",
    "        if n>=49 and n<121:\n",
    "            kmax = int(np.floor((nsq-1.)/6.))\n",
    "        elif n>=121:\n",
    "            kmax = int(np.floor((nsq-5.)/6.))\n",
    "        \n",
    "        if kmax > 0:\n",
    "            for kk in range(0,kmax):\n",
    "                tstnmbr = 6*(kk+1)+1\n",
    "                if n%tstnmbr==0:\n",
    "                    isprime = False\n",
    "                    break\n",
    "                else:\n",
    "                    tstnmbr= 6*(kk+1)+5\n",
    "                    if tstnmbr <= nsq:\n",
    "                        if n%tstnmbr==0:\n",
    "                            isprime== False\n",
    "                            break\n",
    "    \n",
    "    return isprime"
   ]
  },
  {
   "cell_type": "markdown",
   "metadata": {},
   "source": [
    "Testing a couple numbers:"
   ]
  },
  {
   "cell_type": "code",
   "execution_count": 29,
   "metadata": {},
   "outputs": [
    {
     "name": "stdout",
     "output_type": "stream",
     "text": [
      "True\n",
      "True\n"
     ]
    }
   ],
   "source": [
    "print(bttr_trl_dvsn(8221))\n",
    "print(trl_dvsn(8221))"
   ]
  },
  {
   "cell_type": "code",
   "execution_count": 30,
   "metadata": {},
   "outputs": [
    {
     "name": "stdout",
     "output_type": "stream",
     "text": [
      "False\n",
      "False\n"
     ]
    }
   ],
   "source": [
    "print(bttr_trl_dvsn(343))\n",
    "print(trl_dvsn(343))"
   ]
  },
  {
   "cell_type": "code",
   "execution_count": 31,
   "metadata": {},
   "outputs": [
    {
     "name": "stdout",
     "output_type": "stream",
     "text": [
      "False\n",
      "False\n"
     ]
    }
   ],
   "source": [
    "print(bttr_trl_dvsn(49))\n",
    "print(trl_dvsn(49))"
   ]
  },
  {
   "cell_type": "code",
   "execution_count": 32,
   "metadata": {},
   "outputs": [
    {
     "name": "stdout",
     "output_type": "stream",
     "text": [
      "True\n",
      "True\n"
     ]
    }
   ],
   "source": [
    "print(bttr_trl_dvsn(101))\n",
    "print(trl_dvsn(101))"
   ]
  },
  {
   "cell_type": "code",
   "execution_count": 33,
   "metadata": {},
   "outputs": [
    {
     "name": "stdout",
     "output_type": "stream",
     "text": [
      "False\n",
      "False\n"
     ]
    }
   ],
   "source": [
    "print(bttr_trl_dvsn(105))\n",
    "print(trl_dvsn(105))"
   ]
  },
  {
   "cell_type": "code",
   "execution_count": 34,
   "metadata": {},
   "outputs": [
    {
     "name": "stdout",
     "output_type": "stream",
     "text": [
      "True\n",
      "True\n"
     ]
    }
   ],
   "source": [
    "print(bttr_trl_dvsn(911))\n",
    "print(trl_dvsn(911))"
   ]
  },
  {
   "cell_type": "code",
   "execution_count": 37,
   "metadata": {},
   "outputs": [
    {
     "data": {
      "text/plain": [
       "<matplotlib.legend.Legend at 0x2be63d00a20>"
      ]
     },
     "execution_count": 37,
     "metadata": {},
     "output_type": "execute_result"
    },
    {
     "data": {
      "image/png": "[encoded data removed]",
      "text/plain": [
       "<Figure size 432x288 with 1 Axes>"
      ]
     },
     "metadata": {
      "needs_background": "light"
     },
     "output_type": "display_data"
    }
   ],
   "source": [
    "nmax = int(1e5) \n",
    "nvals = np.arange(2,nmax+1)\n",
    "nlen = nvals.size\n",
    "timesstd = np.zeros(nlen)\n",
    "timesbtr = np.zeros(nlen)\n",
    "\n",
    "for jj in range(nlen):\n",
    "    start= time()\n",
    "    trl_dvsn(jj)\n",
    "    end=time() \n",
    "    timesstd[jj] = end-start\n",
    "    \n",
    "    start=time()\n",
    "    bttr_trl_dvsn(jj)\n",
    "    end=time()\n",
    "    timesbtr[jj] = end-start\n",
    "    \n",
    "plt.scatter(nvals,np.ma.log10(timesstd),color='k', label = 'Algorithm 1')\n",
    "plt.scatter(nvals,np.ma.log10(timesbtr),color='r', label = 'Algorithm 2- imporved')\n",
    "plt.title(\"prime number text algorithm\")\n",
    "plt.xlabel(\"n\")\n",
    "plt.ylabel(\"$time$\")\n",
    "plt.legend()"
   ]
  },
  {
   "cell_type": "markdown",
   "metadata": {},
   "source": [
    "In the graph above, you can see the run time for both algoirthms. The first Algorithm (black graph) takes a longer time to run. In addition, as n gets bigger the run time for 'Algorithm 1' increases. This is because the first algorithm runs a for loop for all numbers less than n- the given number tested. In compasion, the second Algorithm (the improved Algorithm that used mathematical tools from number theory- Division Algorithm thm and the fundamental Arithmetic thm) is more flat and consistent. This is because it uses less values in its for loop. This avoids all the tedious computation the first algorithm does and therefore is far more efficient. As n gets larger the difference in run time between the two Algorithms will get bigger. \n",
    "\n",
    "\n",
    "The reason the red graph- Algorithm 2 (improved) is more scattered is because some numbers in the range will break after the first if statement that tests if n is divisible by 2 or 3 or 5. hence it will not even follow to the else statement that consists of for loops. Therefore, the run time for these numbers is a constant O(1). Yet, for numbers greater than 121 that are not divisible by 2 or 3 or 5 will have to run the for loop for maximum k which will take more time. This explains the jump in red dots. It all depends on when the function breaks. "
   ]
  },
  {
   "cell_type": "code",
   "execution_count": null,
   "metadata": {},
   "outputs": [],
   "source": []
  }
 ],
 "metadata": {
  "kernelspec": {
   "display_name": "Python 3",
   "language": "python",
   "name": "python3"
  },
  "language_info": {
   "codemirror_mode": {
    "name": "ipython",
    "version": 3
   },
   "file_extension": ".py",
   "mimetype": "text/x-python",
   "name": "python",
   "nbconvert_exporter": "python",
   "pygments_lexer": "ipython3",
   "version": "3.7.4"
  }
 },
 "nbformat": 4,
 "nbformat_minor": 2
}
