{
 "cells": [
  {
   "cell_type": "code",
   "execution_count": 1,
   "metadata": {},
   "outputs": [],
   "source": [
    "import numpy as np\n",
    "import scipy.integrate as spqd\n",
    "import matplotlib.pyplot as plt\n",
    "%matplotlib inline"
   ]
  },
  {
   "cell_type": "markdown",
   "metadata": {},
   "source": [
    "**Problem 1** - 3 pts: So, the Binomial Theorem is one of those things that is often nice to know.  The theorem says for $n$ a positive integer that \n",
    "\n",
    "$$\n",
    "(x+y)^{n} = \\sum_{l=0}^{n}\\begin{pmatrix} n \\\\ l \\end{pmatrix} x^{l}y^{n-l}, ~ \\begin{pmatrix} n \\\\ l\\end{pmatrix} = \\frac{n!}{l!(n-l)!}.\n",
    "$$\n",
    "\n",
    "1a. Using the Binomial Theorem show\n",
    "$$\n",
    "(x+y)^{2} = x^{2} + 2xy + y^2, ~ (x+y)^{3} = x^{3} + 3x^2y + 3xy^2 + y^3\n",
    "$$\n",
    "Show all steps by way of the Binomial Theorem, i.e. do not just foil and write down the result.  \n",
    "\n",
    "1b.  Using your results above and Pascal's triangle \n",
    "![PT](https://upload.wikimedia.org/wikipedia/commons/c/ca/Pascal_triangle_small.png)\n",
    "find the expansion of \n",
    "$$\n",
    "(x+y)^{8}\n",
    "$$\n",
    "Note, if you understand how Pascal's triangle works, then this should not require much work, i.e. do not foil or use the Binomial Theorem directly.   \n",
    "\n",
    "1c. Using the pattern you see in Pascal's triangle, can you provide an explanation (not proof) for why the identity \n",
    "$$\n",
    "\\begin{pmatrix} n + 1 \\\\ l \\end{pmatrix} = \\begin{pmatrix} n \\\\ l-1 \\end{pmatrix} + \\begin{pmatrix} n \\\\ l \\end{pmatrix}\n",
    "$$\n",
    "is true?"
   ]
  },
  {
   "cell_type": "markdown",
   "metadata": {},
   "source": [
    "_Answers to Problem 1_"
   ]
  },
  {
   "cell_type": "markdown",
   "metadata": {},
   "source": [
    "**Problem 2** - 2pts each\n",
    "\n",
    "2a.  What does the Python code \n",
    "\n",
    "`print(np.linspace(0,1,11))` \n",
    "\n",
    "do?  (To answer this run the code and then briefly explain the result.)\n",
    "\n",
    "2b. What does the Python code \n",
    "\n",
    "`print(np.linspace(0,10,11))` \n",
    "\n",
    "do? (To answer this run the code and then briefly explain the result.)\n",
    "\n",
    "2c. In general then, explain what the command \n",
    "\n",
    "`np.linspace(a,b,n+1)` \n",
    "\n",
    "does for arbitrary real values $a$ and $b>a$, and positive integer value $n$.  "
   ]
  },
  {
   "cell_type": "markdown",
   "metadata": {},
   "source": [
    "_Answers to Problem 2_"
   ]
  },
  {
   "cell_type": "markdown",
   "metadata": {},
   "source": [
    "**Problem 3**: 3pts each - So if we start with a numpy array like\n",
    "\n",
    "`\n",
    "xvals = np.linspace(0.,2.,int(1e3))\n",
    "`\n",
    "\n",
    "then if we wanted to plot $f(x)=x^2$ for $0\\leq x \\leq 2$, we would just have to write \n",
    "\n",
    "`\n",
    "yvals = xvals**2\n",
    "plt.plot(xvals,yvals)\n",
    "`\n",
    "\n",
    "This shows how using NumPy arrays allows us to do arithmetic over multiple points at a time.  \n",
    "\n",
    "3a. Plot $f(x) = x^3 + 3x^2 + 2x + 1$ over $-2\\leq x \\leq 2.1$.  Provide labels and make sure your plot window is well sized and fits the domain over which you are plotting.\n",
    "\n",
    "3b. In Python, write the command to create a NumPy array of points between and including $x=1$ and $11$ with spacing between the points equal to $.1$.  \n",
    "\n",
    "3c. What is the spacing between points in the array `np.linspace(1.3,2.4,int(5e2))`?  Note, do not just print out the points, take the difference, and report the result.  "
   ]
  },
  {
   "cell_type": "markdown",
   "metadata": {
    "collapsed": true
   },
   "source": [
    "_Answers to Problem 3_"
   ]
  },
  {
   "cell_type": "markdown",
   "metadata": {
    "collapsed": true
   },
   "source": [
    "**Problem 4**: For the integral\n",
    "\n",
    "$$\n",
    "I = \\int_{0}^{\\pi/3} \\sin(e^{x})dx\n",
    "$$\n",
    "\n",
    "using $I$ found from Python's built in integrating tools   "
   ]
  },
  {
   "cell_type": "code",
   "execution_count": 2,
   "metadata": {},
   "outputs": [
    {
     "name": "stdout",
     "output_type": "stream",
     "text": [
      "I=-0.167617003217832\n"
     ]
    }
   ],
   "source": [
    "Iarr = spqd.quad(lambda x: np.cos(np.exp(x)), 0, np.pi/3.)\n",
    "I = Iarr[0]\n",
    "print(\"I=%1.15f\" %I)"
   ]
  }
 ],
 "metadata": {
  "kernelspec": {
   "display_name": "Python 3",
   "language": "python",
   "name": "python3"
  },
  "language_info": {
   "codemirror_mode": {
    "name": "ipython",
    "version": 3
   },
   "file_extension": ".py",
   "mimetype": "text/x-python",
   "name": "python",
   "nbconvert_exporter": "python",
   "pygments_lexer": "ipython3",
   "version": "3.7.4"
  }
 },
 "nbformat": 4,
 "nbformat_minor": 2
}
