{
 "cells": [
  {
   "cell_type": "code",
   "execution_count": 1,
   "metadata": {},
   "outputs": [],
   "source": [
    "import numpy as np"
   ]
  },
  {
   "cell_type": "markdown",
   "metadata": {},
   "source": [
    "# Assignment 1"
   ]
  },
  {
   "cell_type": "markdown",
   "metadata": {},
   "source": [
    "\n",
    "**Problem 1** - 3 pts each:  Write the solution to the following indefinite integrals using LaTeX.  No credit will be awarded for work turned in in any other format.  Follow the model below.\n",
    "$$\n",
    "\\int \\sin(x) dx = -\\cos(x) + C\n",
    "$$\n",
    "\n",
    "<ol>\n",
    "<li>    $$\n",
    "        \\int \\cos^{2}(4x) dx\n",
    "        $$\n",
    "<li>\n",
    "    $$\n",
    "    \\int \\frac{dt}{1+9t^2}\n",
    "    $$\n",
    "<li>\n",
    "    $$\n",
    "    \\int y^{n} dy\n",
    "    $$"
   ]
  },
  {
   "cell_type": "markdown",
   "metadata": {},
   "source": [
    "_Answers to Problem 1_: Write your answers in the lines below using LaTeX.\n",
    "\n",
    "1.1:$\\int {cos}^{2} (4x) dx = \\frac{cos(4x)sin(4x)}{8}+ \\frac{x}{2} + C$\n",
    "\n",
    "\n",
    "1.2:$\\int \\frac{dt }{1 + 9 t^2} = \\frac{arctan(3t)}{3} +C $\n",
    "\n",
    "1.3:$\\int y^n dy = \\frac{y^{n+1}}{n+1} +C$\n",
    "    "
   ]
  },
  {
   "cell_type": "markdown",
   "metadata": {},
   "source": [
    "**Problem 2** - 3 pts each: Using the classic result for a geometric series that \n",
    "\n",
    "$$\n",
    "\\sum_{n=0}^{\\infty}x^{n} = \\frac{1}{1-x}, ~ \\left|x\\right|<1,\n",
    "$$\n",
    "\n",
    "find the following sums.  Use the above statement of the sum of a geometric series as a model.  Again, use LaTeX to write your answers.  No credit will be given otherwise. \n",
    "\n",
    "<ol>\n",
    "\n",
    "<li> \n",
    "$$\n",
    "\\sum_{j=0}^{\\infty} 2^{j/3}x^{5j}, ~ |x|<\\frac{1}{2^{1/15}}.\n",
    "$$\n",
    "\n",
    "<li>\n",
    "$$\n",
    "\\sum_{j=0}^{\\infty} \\cos^{3j}(x), ~ 0 < |x| < \\pi.\n",
    "$$\n",
    "\n",
    "<li>\n",
    "$$\n",
    "\\sum_{j=2}^{\\infty} e^{2jx}, ~ x<0. ~ \\mbox{(PAY ATTENTION TO THE LOWER LIMIT ON THE SUM)}\n",
    "$$\n"
   ]
  },
  {
   "cell_type": "markdown",
   "metadata": {},
   "source": [
    "_Answers to Problem 2_: Write your answers below using LaTeX.  Again, use the beginning of the problem statement of Problem 2 as a model for your answers.  \n",
    "\n",
    "2.1: $\\sum_{j=0}^{\\infty} 2^{j/3}x^{5j} = \\sum_{j=0}^{\\infty} {(2^{1/3}x^{5})}^{j} = \\frac{1}{1-2^{1/3}x^{5}},\\mid x\\mid < \\frac{1}{2^{1/15}} $ \n",
    "\n",
    "2.2:$\\sum_{j=0}^{\\infty}cos^{3j}(x) =\\frac{1}{1- cos^{3} (x)},  0< \\mid x\\mid < \\pi$\n",
    "\n",
    "2.3:$\\sum_{j=2}^{\\infty} e^{2jx} = \\frac{1}{1-e^{2x}} - 1 -e^{2x},  x<0 $\n"
   ]
  },
  {
   "cell_type": "markdown",
   "metadata": {},
   "source": [
    "**Problem 3** 10 pts: So, if you go ask the right kind of people, they will tell you that you can find $\\pi$ via the following limit. \n",
    "\n",
    "$$\n",
    "\\pi = \\lim_{n\\rightarrow\\infty} \\frac{4}{n^{2}}\\sum_{k=0}^{n}\\sqrt{n^{2}-k^{2}}\n",
    "$$\n",
    "\n",
    "So if I give you the following Python function "
   ]
  },
  {
   "cell_type": "code",
   "execution_count": 2,
   "metadata": {},
   "outputs": [],
   "source": [
    "def pi_approx(n):\n",
    "    tot = 0.\n",
    "    n = int(n)\n",
    "    kvals = np.linspace(0,n,n+1)\n",
    "    tot = np.sum(np.sqrt((n*np.ones(n+1))**2. - kvals**2.))\n",
    "    return 4.*tot/n**2."
   ]
  },
  {
   "cell_type": "markdown",
   "metadata": {},
   "source": [
    "using a list and a for loop as in the lecture, determine $\\pi$ to 7-correct digits.    "
   ]
  },
  {
   "cell_type": "code",
   "execution_count": null,
   "metadata": {},
   "outputs": [
    {
     "name": "stdout",
     "output_type": "stream",
     "text": [
      "3.304518326248319\n",
      "3.160417031779045\n",
      "3.1435554669110277\n",
      "3.1417914776113225\n",
      "3.141612616401986\n",
      "3.1415946524138114\n",
      "3.141592853552606\n",
      "3.1415926735886184\n"
     ]
    }
   ],
   "source": [
    "values = [1e1, 1e2, 1e3, 1e4, 1e5, 1e6, 1e7, 1e8, 1e9, 1e10]\n",
    "\n",
    "for value in values: \n",
    "    print( pi_approx(value)) "
   ]
  },
  {
   "cell_type": "markdown",
   "metadata": {},
   "source": [
    "_Provide a justification for your answer using the results from your code here._"
   ]
  },
  {
   "cell_type": "code",
   "execution_count": 3,
   "metadata": {},
   "outputs": [],
   "source": [
    "pi=3.141592853552606"
   ]
  },
  {
   "cell_type": "code",
   "execution_count": null,
   "metadata": {},
   "outputs": [],
   "source": []
  },
  {
   "cell_type": "code",
   "execution_count": null,
   "metadata": {},
   "outputs": [],
   "source": []
  },
  {
   "cell_type": "code",
   "execution_count": null,
   "metadata": {},
   "outputs": [],
   "source": []
  },
  {
   "cell_type": "code",
   "execution_count": null,
   "metadata": {},
   "outputs": [],
   "source": []
  }
 ],
 "metadata": {
  "kernelspec": {
   "display_name": "Python 3",
   "language": "python",
   "name": "python3"
  },
  "language_info": {
   "codemirror_mode": {
    "name": "ipython",
    "version": 3
   },
   "file_extension": ".py",
   "mimetype": "text/x-python",
   "name": "python",
   "nbconvert_exporter": "python",
   "pygments_lexer": "ipython3",
   "version": "3.7.4"
  }
 },
 "nbformat": 4,
 "nbformat_minor": 2
}
