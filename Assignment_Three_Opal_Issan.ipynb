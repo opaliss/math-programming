{
 "cells": [
  {
   "cell_type": "code",
   "execution_count": 2,
   "metadata": {},
   "outputs": [],
   "source": [
    "import numpy as np\n",
    "import scipy.integrate as spqd\n",
    "import matplotlib.pyplot as plt\n",
    "%matplotlib inline"
   ]
  },
  {
   "cell_type": "markdown",
   "metadata": {},
   "source": [
    "**Problem 1** - 3 pts: So, the Binomial Theorem is one of those things that is often nice to know.  The theorem says for $n$ a positive integer that \n",
    "\n",
    "$$\n",
    "(x+y)^{n} = \\sum_{l=0}^{n}\\begin{pmatrix} n \\\\ l \\end{pmatrix} x^{l}y^{n-l}, ~ \\begin{pmatrix} n \\\\ l\\end{pmatrix} = \\frac{n!}{l!(n-l)!}.\n",
    "$$\n",
    "\n",
    "1a. Using the Binomial Theorem show\n",
    "$$\n",
    "(x+y)^{2} = x^{2} + 2xy + y^2, ~ (x+y)^{3} = x^{3} + 3x^2y + 3xy^2 + y^3\n",
    "$$\n",
    "Show all steps by way of the Binomial Theorem, i.e. do not just foil and write down the result.  \n",
    "\n",
    "1b.  Using your results above and Pascal's triangle \n",
    "![PT](https://upload.wikimedia.org/wikipedia/commons/c/ca/Pascal_triangle_small.png)\n",
    "find the expansion of \n",
    "$$\n",
    "(x+y)^{8}\n",
    "$$\n",
    "Note, if you understand how Pascal's triangle works, then this should not require much work, i.e. do not foil or use the Binomial Theorem directly.   \n",
    "\n",
    "1c. Using the pattern you see in Pascal's triangle, can you provide an explanation (not proof) for why the identity \n",
    "$$\n",
    "\\begin{pmatrix} n + 1 \\\\ l \\end{pmatrix} = \\begin{pmatrix} n \\\\ l-1 \\end{pmatrix} + \\begin{pmatrix} n \\\\ l \\end{pmatrix}\n",
    "$$\n",
    "is true?"
   ]
  },
  {
   "cell_type": "markdown",
   "metadata": {},
   "source": [
    "_Answers to Problem 1_\n",
    "\n",
    "1(a) \n",
    "$$\n",
    " {x+y}^{2}= \\\\\n",
    " \\sum_{l=0}^{2}\\begin{pmatrix} 2 \\\\ l \\end{pmatrix} x^{l}y^{2-l}=\\\\\n",
    " \\sum_{l=0}^{2} \\frac{2!}{l!(2-l)!} x^{l}y^{2-l} =\\\\\n",
    " \\frac{2!}{0!(2)!} x^{0}y^{2}  +  \\frac{2!}{1!(1)!} x^{1}y^{1} + \\frac{2!}{2!(0)!} x^{2}y^{0} =\\\\\n",
    " y^2 + 2xy + x^2 \n",
    "$$\n",
    "\n",
    "\n",
    "$$\n",
    " {x+y}^{3}= \\\\\n",
    " \\sum_{l=0}^{3}\\begin{pmatrix} 2 \\\\ l \\end{pmatrix} x^{l}y^{3-l}=\\\\\n",
    " \\sum_{l=0}^{3} \\frac{3!}{l!(3-l)!} x^{l}y^{3-l} =\\\\\n",
    " \\frac{3!}{0!(3)!} x^{0}y^{3}  +  \\frac{3}{1!(2)!} x^{1}y^{2} + \\frac{3!}{2!(1)!} x^{2}y^{1} +\\frac{3!}{0!(3)!} x^{3}y^{0} =\\\\\n",
    " y^3 + 3xy^2 + 3x^2 y+ x^3 \n",
    "$$\n",
    "\n",
    "1(b)\n",
    "$$\n",
    "(x+y)^{8} = \\\\\n",
    "a^8 + 8a^7b + 28a^6b^2 + 56a^5b^3 + 70a^4b^4 + 56a^3b^5 + 28a^2b^6 + 8ab^7 + b^8.\n",
    "$$\n",
    "\n",
    "\n",
    "\n",
    "\n",
    "\n",
    "1(c) This identity is true because in the Pascal's traingle each element of each row is the sum of the two elements right above it.\n",
    "So, the two elemets right above $\\begin{pmatrix} n + 1 \\\\ l \\end{pmatrix}$ are $\\begin{pmatrix} n \\\\ l-1 \\end{pmatrix}$ and $\\begin{pmatrix} n \\\\ l \\end{pmatrix}$. (side note : n describes the row number and l describes the column number, where n starts at 0 from the top of the pyramid and l starts at index 0 at the beginning of each column. Note that $\\begin{pmatrix} n \\\\ 0 \\end{pmatrix} = 1$ and  $\\begin{pmatrix} n \\\\ n \\end{pmatrix} = 1$, for any $ n \\in \\mathbb{N}$. Hence, the right and left side of the Pyramid will always be 1."
   ]
  },
  {
   "cell_type": "markdown",
   "metadata": {},
   "source": [
    "**Problem 2** - 2pts each\n",
    "\n",
    "2a.  What does the Python code \n",
    "\n",
    "`print(np.linspace(0,1,11))` \n",
    "\n",
    "do?  (To answer this run the code and then briefly explain the result.)\n",
    "\n",
    "2b. What does the Python code \n",
    "\n",
    "`print(np.linspace(0,10,11))` \n",
    "\n",
    "do? (To answer this run the code and then briefly explain the result.)\n",
    "\n",
    "2c. In general then, explain what the command \n",
    "\n",
    "`np.linspace(a,b,n+1)` \n",
    "\n",
    "does for arbitrary real values $a$ and $b>a$, and positive integer value $n$.  "
   ]
  },
  {
   "cell_type": "code",
   "execution_count": 3,
   "metadata": {},
   "outputs": [
    {
     "name": "stdout",
     "output_type": "stream",
     "text": [
      "[0.  0.1 0.2 0.3 0.4 0.5 0.6 0.7 0.8 0.9 1. ]\n"
     ]
    }
   ],
   "source": [
    "print(np.linspace(0,1,11))"
   ]
  },
  {
   "cell_type": "markdown",
   "metadata": {},
   "source": [
    "2(a)This Python code will print an array of 11 points in equal distance apart in the interval 0 to 1."
   ]
  },
  {
   "cell_type": "code",
   "execution_count": 4,
   "metadata": {},
   "outputs": [
    {
     "name": "stdout",
     "output_type": "stream",
     "text": [
      "[ 0.  1.  2.  3.  4.  5.  6.  7.  8.  9. 10.]\n"
     ]
    }
   ],
   "source": [
    "print(np.linspace(0,10,11))"
   ]
  },
  {
   "cell_type": "markdown",
   "metadata": {},
   "source": [
    "2(b) This Python code will print an array of 11 points in equal distance apart in the interval 0 to 10. "
   ]
  },
  {
   "cell_type": "markdown",
   "metadata": {},
   "source": [
    "2(c) This python code will print an array of n+1 points in equal distance apart in the interval a to b. Hence, [a.   $\\frac{b- a +an}{n}$    $\\frac{2b -2a+an}{n}$ ..... b]"
   ]
  },
  {
   "cell_type": "markdown",
   "metadata": {},
   "source": [
    "**Problem 3**: 3pts each - So if we start with a numpy array like\n",
    "\n",
    "`\n",
    "xvals = np.linspace(0.,2.,int(1e3))\n",
    "`\n",
    "\n",
    "then if we wanted to plot $f(x)=x^2$ for $0\\leq x \\leq 2$, we would just have to write \n",
    "\n",
    "`\n",
    "yvals = xvals**2\n",
    "plt.plot(xvals,yvals)\n",
    "`\n",
    "\n",
    "This shows how using NumPy arrays allows us to do arithmetic over multiple points at a time.  \n",
    "\n",
    "3a. Plot $f(x) = x^3 + 3x^2 + 2x + 1$ over $-2\\leq x \\leq 2.1$.  Provide labels and make sure your plot window is well sized and fits the domain over which you are plotting.\n",
    "\n",
    "3b. In Python, write the command to create a NumPy array of points between and including $x=1$ and $11$ with spacing between the points equal to $.1$.  \n",
    "\n",
    "3c. What is the spacing between points in the array `np.linspace(1.3,2.4,int(5e2))`?  Note, do not just print out the points, take the difference, and report the result.  "
   ]
  },
  {
   "cell_type": "code",
   "execution_count": 5,
   "metadata": {},
   "outputs": [
    {
     "data": {
      "text/plain": [
       "[<matplotlib.lines.Line2D at 0x1b918b51b70>]"
      ]
     },
     "execution_count": 5,
     "metadata": {},
     "output_type": "execute_result"
    },
    {
     "data": {
      "image/png": "[encoded data removed]",
      "text/plain": [
       "<Figure size 432x288 with 1 Axes>"
      ]
     },
     "metadata": {
      "needs_background": "light"
     },
     "output_type": "display_data"
    }
   ],
   "source": [
    "#_Answers to Problem 3_\n",
    "\n",
    "#3(a) \n",
    "\n",
    "xvals = np.linspace(-2.,2.1,int(1e3)) \n",
    "yvals = (xvals**3) + 3*(xvals**2) +2*(xvals) +1 \n",
    "plt.plot(xvals,yvals) \n"
   ]
  },
  {
   "cell_type": "code",
   "execution_count": 6,
   "metadata": {},
   "outputs": [
    {
     "name": "stdout",
     "output_type": "stream",
     "text": [
      "[ 1.   1.1  1.2  1.3  1.4  1.5  1.6  1.7  1.8  1.9  2.   2.1  2.2  2.3\n",
      "  2.4  2.5  2.6  2.7  2.8  2.9  3.   3.1  3.2  3.3  3.4  3.5  3.6  3.7\n",
      "  3.8  3.9  4.   4.1  4.2  4.3  4.4  4.5  4.6  4.7  4.8  4.9  5.   5.1\n",
      "  5.2  5.3  5.4  5.5  5.6  5.7  5.8  5.9  6.   6.1  6.2  6.3  6.4  6.5\n",
      "  6.6  6.7  6.8  6.9  7.   7.1  7.2  7.3  7.4  7.5  7.6  7.7  7.8  7.9\n",
      "  8.   8.1  8.2  8.3  8.4  8.5  8.6  8.7  8.8  8.9  9.   9.1  9.2  9.3\n",
      "  9.4  9.5  9.6  9.7  9.8  9.9 10.  10.1 10.2 10.3 10.4 10.5 10.6 10.7\n",
      " 10.8 10.9 11. ]\n"
     ]
    }
   ],
   "source": [
    "#3(b)\n",
    "\n",
    "print(np.linspace(1.,11.,101))"
   ]
  },
  {
   "cell_type": "code",
   "execution_count": 7,
   "metadata": {},
   "outputs": [
    {
     "name": "stdout",
     "output_type": "stream",
     "text": [
      "0.002204408817635173\n"
     ]
    },
    {
     "data": {
      "text/plain": [
       "0.0022044088176352704"
      ]
     },
     "execution_count": 7,
     "metadata": {},
     "output_type": "execute_result"
    }
   ],
   "source": [
    "#3(c)\n",
    "x = np.linspace(1.3,2.4,int(5e2))\n",
    "print(abs(x[1]-x[0]))\n",
    "\n",
    "#or \n",
    "((2.4-1.3)/(5e2-1))"
   ]
  },
  {
   "cell_type": "markdown",
   "metadata": {
    "collapsed": true
   },
   "source": [
    "**Problem 4**: For the integral\n",
    "\n",
    "$$\n",
    "I = \\int_{0}^{\\pi/3} \\sin(e^{x})dx\n",
    "$$\n",
    "\n",
    "using $I$ found from Python's built in integrating tools   "
   ]
  },
  {
   "cell_type": "code",
   "execution_count": 9,
   "metadata": {},
   "outputs": [
    {
     "name": "stdout",
     "output_type": "stream",
     "text": [
      "I=0.891489668563799\n"
     ]
    }
   ],
   "source": [
    "Iarr = spqd.quad(lambda x: np.sin(np.exp(x)), 0, np.pi/3.)\n",
    "I = Iarr[0]\n",
    "print(\"I=%1.15f\" %I)"
   ]
  },
  {
   "cell_type": "markdown",
   "metadata": {},
   "source": [
    "for reference, determine the accuracy in using \n",
    "\n",
    "a) (3pts) A two term Taylor series approximation starting at $x_{0}=0$, i.e. $T_{2}(x;x_{0}=0)$ to approximate $I$.\n",
    "\n",
    "b) (3pts) A two term Taylor series approximation starting at $x_{0}=\\frac{\\pi}{6}$, i.e. $T_{2}(x;x_{0}=\\frac{\\pi}{6})$ to approximate $I$.\n",
    "\n",
    "c) (5pts) Two different Taylor series approximations, say $T_{2}(x;x_{0}=0)$ on the interval $[0,\\pi/6]$ and \n",
    "$T_{2}(x;x_{0}=\\frac{\\pi}{6})$ on $[\\pi/6,\\pi/3]$ to approximate $I$.  \n",
    "\n",
    "Use the code in lecture to help you manage the computations and produce your results.  Show all relevant work, and provide a brief explanation at the end for which is the best approximation and why."
   ]
  },
  {
   "cell_type": "markdown",
   "metadata": {},
   "source": [
    "_Answers to Problem 4_\n",
    "below -->"
   ]
  },
  {
   "cell_type": "markdown",
   "metadata": {},
   "source": [
    "4(a)\n",
    "$$\n",
    "T_{2}(x;0) = \\sum_{j=0}^{2} \\left.\\frac{d^{j}}{dx^{j}}\\sin({e}^{x}) \\right|_{x_{0}=0}\\frac{x^{j}}{j!}\n",
    "$$\n",
    "since \n",
    "\n",
    "\\begin{align*}\n",
    "f(x) = \\sin(e^{x})  \\\\\n",
    "\\frac{dy}{dx} = e^{x} \\cos(e^{x}) \\\\\n",
    "\\frac{d^2y}{dx^2} = e^{x}( cos(e^{x}) - e^{x}\\sin(e^{x})) \\\\\n",
    "\\end{align*}\n",
    "so, \n",
    "\n",
    "\\begin{align*}\n",
    "I = \\int_{0}^{\\pi/3} \\sin(e^{x})dx \\approx \\int_{0}^{\\pi/3}\\left(\\sin({e}^{0}) + {e}^{0}\\cos({e}^{0})x + (1/2)({e}^{0})(\\cos({e}^{0}) - {e}^{0} \\sin({e}^{0}))({x}^{2}) \\right) dx = \\\\\n",
    "\\int_{0}^{\\pi/3}\\left(\\sin(1) + \\cos(1)x + (1/2)(\\cos(1) - \\sin(1))({x}^{2}) \\right) dx = \\\\\n",
    "\\sin(1) \\frac{\\pi}{3} + \\cos(1) {(\\pi/3)}^{2} \\frac{1}{2} + (\\cos(1)- \\sin(1)) {(\\pi/3)}^{3} \\frac{1}{6}.\\\\\n",
    "\\end{align*}\n",
    "\n"
   ]
  },
  {
   "cell_type": "code",
   "execution_count": 10,
   "metadata": {},
   "outputs": [
    {
     "name": "stdout",
     "output_type": "stream",
     "text": [
      "1.1197975322036198\n",
      "0.22830786363982092\n"
     ]
    }
   ],
   "source": [
    "#4(a)\n",
    "sin1 = (np.sin(1.)) \n",
    "cos1 = (np.cos(1.))\n",
    "ppi3 = (np.pi/3.)\n",
    "el1 = sin1*ppi3\n",
    "el2 = (1./2.)*cos1*(ppi3**2.)\n",
    "el3 = (1./6.)*(cos1-sin1)*(ppi3**3.)\n",
    "result1 = (el1 + el2 + el3)\n",
    "print(result1)\n",
    "error= abs(result1 -I)\n",
    "print(error)"
   ]
  },
  {
   "cell_type": "markdown",
   "metadata": {},
   "source": [
    "4(a)\n",
    "error: 0.22830786363982092\\\\\n",
    "$I$= 1.1197975322036198"
   ]
  },
  {
   "cell_type": "markdown",
   "metadata": {},
   "source": [
    "4(b) $$\n",
    "T_{2}(x;\\pi/6) = \\sum_{j=0}^{2} \\left.\\frac{d^{j}}{dx^{j}}\\sin({e}^{x}) \\right|_{x_{0}=\\pi/6}\\frac{(x-\\pi/6)^{j}}{j!}\n",
    "$$\n",
    "Because, \n",
    "\n",
    "\\begin{align*}\n",
    "f(x) = \\sin(e^{x})  \\\\\n",
    "\\frac{dy}{dx} = e^{x} \\cos(e^{x}) \\\\\n",
    "\\frac{d^2y}{dx^2} = e^{x}( cos(e^{x}) - e^{x}\\sin(e^{x})) \\\\\n",
    "\\end{align*}\n",
    "\n",
    "Then, \n",
    "\\begin{align*}\n",
    "I = \\int_{0}^{\\pi/3} \\sin(e^{x})dx \\approx \\int_{0}^{\\pi/3}\\left(\\sin({e}^{\\pi/6}) + {e}^{\\pi/6}\\cos({e}^{\\pi/6})(x- \\pi/6) + (1/2)({e}^{\\pi/6})(\\cos({e}^{\\pi/6}) - {e}^{\\pi/6} \\sin({e}^{\\pi/6})){(x-\\pi/6)}^{2} \\right) dx \\\\\n",
    "\\end{align*}\n",
    "\n",
    "Then, do a u substitution such that $ u = x - \\pi/6$\n",
    "So we get , \n",
    "\\begin{align*}\n",
    "\\int_{-\\pi/6}^{\\pi/6}\\left(\\sin({e}^{\\pi/6}) + {e}^{\\pi/6}\\cos({e}^{\\pi/6})(u) + (1/2)({e}^{\\pi/6})(\\cos({e}^{\\pi/6}) - {e}^{\\pi/6} \\sin({e}^{\\pi/6})){(u)}^{2} \\right) du  = \\\\\n",
    "\\sin({e}^{\\pi/6})(\\pi/6 - (-\\pi/6)) + {e}^{\\pi/6}\\cos({e}^{\\pi/6})(1/2)((\\pi/6)^{2} - (-\\pi/6)^{2}) + (1/6)({e}^{\\pi/6})(\\cos({e}^{\\pi/6}) - {e}^{\\pi/6} \\sin({e}^{\\pi/6}))((\\pi/6)^{3}- (-\\pi/6)^{3}))=\\\\\n",
    "\\sin({e}^{\\pi/6})(\\pi/3) + (1/3)({e}^{\\pi/6})(\\cos({e}^{\\pi/6}) - {e}^{\\pi/6} \\sin({e}^{\\pi/6}))((\\pi/6)^{3})\n",
    "\\end{align*}\n",
    "\n"
   ]
  },
  {
   "cell_type": "code",
   "execution_count": 11,
   "metadata": {},
   "outputs": [
    {
     "name": "stdout",
     "output_type": "stream",
     "text": [
      "0.8951326011437362\n",
      "0.003642932579937308\n"
     ]
    }
   ],
   "source": [
    "ppi6 = (np.pi/6.)\n",
    "ppi3 = (np.pi/3.)\n",
    "exp6 = (np.exp(ppi6))\n",
    "sin6 = (np.sin(exp6)) \n",
    "cos6 = (np.cos(exp6))\n",
    "a = sin6*(ppi3) # first term\n",
    "b = (1./3.)*(exp6)*(cos6- exp6*sin6)*(ppi6**3.) #second term\n",
    "result2 = (a+b)\n",
    "print(result2)\n",
    "error = abs(result2 - I)\n",
    "print(error)"
   ]
  },
  {
   "cell_type": "markdown",
   "metadata": {},
   "source": [
    "4(b) error: 0.003642932579937308\\\\\n",
    "$I$= 0.8951326011437362"
   ]
  },
  {
   "cell_type": "markdown",
   "metadata": {},
   "source": [
    "4(c) $T_{2}(x;x_{0}=0)$ on the interval $[0,\\pi/6]$ and \n",
    "$T_{2}(x;x_{0}=\\frac{\\pi}{6})$ on $[\\pi/6,\\pi/3]$ to approximate $I$.\n",
    "\n",
    "So we need, \n",
    "$$\n",
    "T_{2}(x;0) = \\sum_{j=0}^{2} \\left.\\frac{d^{j}}{dx^{j}}\\sin({e}^{x}) \\right|_{x_{0}=0}\\frac{(x)^{j}}{j!} +\n",
    "T_{2}(x;\\pi/6) = \\sum_{j=0}^{2} \\left.\\frac{d^{j}}{dx^{j}}\\sin({e}^{x}) \\right|_{x_{0}=\\pi/6}\\frac{(x-\\pi/6)^{j}}{j!}\n",
    "$$\n",
    "\n",
    "Hence, \n",
    "\\begin{align*}\n",
    "I = \\int_{0}^{\\pi/3} \\sin(e^{x})dx \\approx \\int_{0}^{\\pi/6}\\left (\\sin({e}^{0}) + {e}^{0}\\cos({e}^{0})x + (1/2)({e}^{0})(\\cos({e}^{0}) - {e}^{0} \\sin({e}^{0}))({x}^{2}) \\right) dx + \\int_{\\pi/6}^{\\pi/3}\\left (\\sin({e}^{\\pi/6}) + {e}^{\\pi/6}\\cos({e}^{\\pi/6})(x- \\pi/6) + (1/2)({e}^{\\pi/6})(\\cos({e}^{\\pi/6}) - {e}^{\\pi/6} \\sin({e}^{\\pi/6})){(x-\\pi/6)}^{2} \\right) dx \\\\\n",
    "\\end{align*}\n",
    "\n",
    "Then, if we solve each integral seperately we get:\n",
    "\\begin{align*}\n",
    "\\int_{0}^{\\pi/6}\\left (\\sin({e}^{0}) + {e}^{0}\\cos({e}^{0})x + (1/2)({e}^{0})(\\cos({e}^{0}) - {e}^{0} \\sin({e}^{0}))({x}^{2}) \\right) dx  = \\\\\n",
    "\\int_{0}^{\\pi/6}\\left(\\sin(1) + \\cos(1)x + (1/2)(\\cos(1) - \\sin(1))({x}^{2}) \\right) dx  =  \\\\\n",
    "\\sin(1) \\frac{\\pi}{6} + \\cos(1) {(\\pi/6)}^{2} \\frac{1}{2} + (\\cos(1)- \\sin(1)) {(\\pi/6)}^{3} \\frac{1}{6}.\n",
    "\\end{align*}\n",
    "\n",
    "Then we use a u subsitution on the second integral, such that $u = x- \\pi/6$\n",
    "\\begin{align*}\n",
    "\\int_{\\pi/6}^{\\pi/3}\\left (\\sin({e}^{\\pi/6}) + {e}^{\\pi/6}\\cos({e}^{\\pi/6})(x- \\pi/6) + (1/2)({e}^{\\pi/6})(\\cos({e}^{\\pi/6}) - {e}^{\\pi/6} \\sin({e}^{\\pi/6})){(x-\\pi/6)}^{2} \\right) dx =\\\\\n",
    "\\int_{0}^{\\pi/6}\\left (\\sin({e}^{\\pi/6}) + {e}^{\\pi/6}\\cos({e}^{\\pi/6})(u) + (1/2)({e}^{\\pi/6})(\\cos({e}^{\\pi/6}) - {e}^{\\pi/6} \\sin({e}^{\\pi/6})){(u)}^{2} \\right) du=\\\\\n",
    "\\sin({e}^{\\pi/6})(\\pi/6) + (1/2){e}^{\\pi/6}\\cos({e}^{\\pi/6})(\\pi/6)^{2} +  (1/6)({e}^{\\pi/6})(\\cos({e}^{\\pi/6}) - {e}^{\\pi/6} \\sin({e}^{\\pi/6})){(\\pi/6)}^{3}\n",
    "\\end{align*}\n",
    "\n",
    "In conclusion,\n",
    "\\begin{align*}\n",
    "I = \\int_{0}^{\\pi/3} \\sin(e^{x})dx \\approx \\sin(1) \\frac{\\pi}{6} + \\cos(1) {(\\pi/6)}^{2} \\frac{1}{2} + (\\cos(1)- \\sin(1)) {(\\pi/6)}^{3} \\frac{1}{6} + \\sin({e}^{\\pi/6})(\\pi/6) + (1/2){e}^{\\pi/6}\\cos({e}^{\\pi/6})(\\pi/6)^{2} +  (1/6)({e}^{\\pi/6})(\\cos({e}^{\\pi/6}) - {e}^{\\pi/6} \\sin({e}^{\\pi/6})){(\\pi/6)}^{3}.\n",
    "\\end{align*}\n"
   ]
  },
  {
   "cell_type": "code",
   "execution_count": 10,
   "metadata": {},
   "outputs": [
    {
     "name": "stdout",
     "output_type": "stream",
     "text": [
      "0.5074513107572659\n",
      "0.42048632737329195\n",
      "0.9279376381305579\n",
      "0.036447969566759\n"
     ]
    }
   ],
   "source": [
    "ppi6 = (np.pi/6.)\n",
    "ppi3 = (np.pi/3.)\n",
    "epi = (np.exp(ppi6))\n",
    "sin1 = (np.sin(1.)) \n",
    "cos1 = (np.cos(1.)) \n",
    "sin6 = (np.sin(epi)) \n",
    "cos6 = (np.cos(epi))\n",
    "result3 = (sin1*ppi6 + (1./2.)*cos1*(ppi6**2.) +(1./6.)*(cos1 - sin1)*(ppi6**3.))\n",
    "print(result3)\n",
    "result4 = sin6* ppi6 + (1./2.)*epi*cos6*(ppi6**2.) + (1./6.)*(epi)*(cos6 - (epi*sin6))*(ppi6**3.)\n",
    "print(result4)\n",
    "tot = result3+result4\n",
    "print(tot)\n",
    "error = abs(tot - I)\n",
    "print(error)"
   ]
  },
  {
   "cell_type": "markdown",
   "metadata": {},
   "source": [
    "4(c)error : 0.036447969566759 \\\\\n",
    "$I$= 0.9279376381305579"
   ]
  },
  {
   "cell_type": "markdown",
   "metadata": {},
   "source": [
    "\n",
    "Brief explaination: If you scroll down you will see a graph I created where I graphed 4 different graphs:\n",
    "\n",
    "\n",
    "$ f(x) = sin({e}^{x})$ \n",
    " \n",
    "$ T(a) = T_{2}(x;x_{0}=0)$ \n",
    " \n",
    "$ T(b) = x_{0}=\\frac{\\pi}{6}$, i.e. $T_{2}(x;x_{0}=\\frac{\\pi}{6})$\n",
    " \n",
    " $T(c) = T_{2}(x;x_{0}=0)$ on the interval $[0,\\pi/6]$, $T_{2}(x;x_{0}=\\frac{\\pi}{6})$ on $[\\pi/6,\\pi/3]$\n",
    "\n",
    "\n",
    "From the graph is it visible that T(c) is the best approximation to the original function f(x). Although the results from the integral from 0 to $\\pi/3$ of f(x) shows that T(b) is the most accurate. This is because T(b) and T(c) overlap in the interval $[\\pi/6,\\pi/3]$ where both appear above f(x), hence they will have a bigger area. Yet, in the interval from $[0,\\pi/6]$ T(c) is closer to f(x) than T(b) is close to f(x), hence, T(c)'s area under is bigger than T(b)'s in this interval. Therefore, the area under T(b) results in a more accurate result to the integral (due to T(b) being underestimated and then overestimated which balances it out). Yet T(c) is the better approximation to f(x). \n",
    "In addition, T(c) is the best approximation to f(x) because as you go farther away from the point of expansion the difference between the taylor series and the f(x) will grow. Hence, by using two differenr points of expansions and breaking down the taylor series to 2 different intervals will result in a better approximation. \n",
    "\n"
   ]
  },
  {
   "cell_type": "code",
   "execution_count": 11,
   "metadata": {},
   "outputs": [
    {
     "data": {
      "image/png": "[encoded data removed]",
      "text/plain": [
       "<Figure size 648x504 with 1 Axes>"
      ]
     },
     "metadata": {
      "needs_background": "light"
     },
     "output_type": "display_data"
    }
   ],
   "source": [
    "Nvals = int(2e4)\n",
    "\n",
    "xvals = np.linspace(0,np.pi/3.,Nvals)\n",
    "xvalsl = np.linspace(0,np.pi/3.,Nvals)\n",
    "xvalsp = np.linspace(0,np.pi/6.,Nvals)\n",
    "xvalsr = np.linspace(np.pi/6.,np.pi/3.,Nvals)\n",
    "\n",
    "tr_func = np.sin(np.exp(xvals)) \n",
    "T2a_func = (sin1 + cos1*(xvalsl) +(1./2.)*(cos1 - sin1)*(xvalsl**2.))\n",
    "T2b_func = (sin6+ (xvalsl-ppi6)*cos6*epi +0.5*((xvalsl-ppi6)**2)*(cos6 -(sin6*epi))*epi)\n",
    "T2c1_func = (sin1 + cos1*(xvalsp) +(1./2.)*(cos1 - sin1)*(xvalsp**2.))\n",
    "T2c2_func = (sin6+ (xvalsr-ppi6)*cos6*epi +0.5*((xvalsr-ppi6)**2)*(cos6 -(sin6*epi))*epi)\n",
    "\n",
    "plt.plot(xvals,tr_func,ls=\"-\", color=\"k\", label=\"$\\sin({e}^{(x)})$\")\n",
    "plt.plot(xvalsl,T2a_func,ls=\"--\", color=\"m\", label=\"$T(a)$\")\n",
    "plt.plot(xvalsl,T2b_func,ls=\"--\", color=\"r\", label=\"$T(b)$\")\n",
    "plt.plot(xvalsp,T2c1_func,ls=\"--\", color=\"y\", label=\"$T(c)(1)$\")\n",
    "plt.plot(xvalsr,T2c2_func,ls=\"--\", color=\"y\", label=\"$T(c)(2)$\")\n",
    "\n",
    "plt.legend(loc=(.1,.8))\n",
    "\n",
    "plt.xlim(0,np.pi/3.)\n",
    "plt.ylim(.5,1.3)\n",
    "\n",
    "#plt.axes().set_aspect(\"equal\")\n",
    "\n",
    "fig=plt.gcf() # get current figure\n",
    "fig.set_size_inches(9,7) # optional size"
   ]
  },
  {
   "cell_type": "code",
   "execution_count": null,
   "metadata": {},
   "outputs": [],
   "source": []
  }
 ],
 "metadata": {
  "kernelspec": {
   "display_name": "Python 3",
   "language": "python",
   "name": "python3"
  },
  "language_info": {
   "codemirror_mode": {
    "name": "ipython",
    "version": 3
   },
   "file_extension": ".py",
   "mimetype": "text/x-python",
   "name": "python",
   "nbconvert_exporter": "python",
   "pygments_lexer": "ipython3",
   "version": "3.7.4"
  }
 },
 "nbformat": 4,
 "nbformat_minor": 2
}
