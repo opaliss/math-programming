{
 "cells": [
  {
   "cell_type": "code",
   "execution_count": 2,
   "metadata": {},
   "outputs": [],
   "source": [
    "import numpy as np\n",
    "import matplotlib.pyplot as plt\n",
    "%matplotlib inline"
   ]
  },
  {
   "cell_type": "code",
   "execution_count": 3,
   "metadata": {},
   "outputs": [],
   "source": [
    "def adap_quad_comp(f,a,b,c,fa,fb,fc,Aab,tol):    \n",
    "    d = (a+c)/2.\n",
    "    e = (b+c)/2.\n",
    "    fd = f(d)\n",
    "    fe = f(e)\n",
    "    dx3 = (d-a)/3.\n",
    "    Aac = dx3*(fa+4.*fd+fc)\n",
    "    Acb = dx3*(fc+4.*fe+fb)\n",
    "    if np.abs(Aab-(Aac+Acb))<=tol: \n",
    "        return (16./15.*(Aac+Acb)-Aab/15.)\n",
    "    else:  \n",
    "        F1 = adap_quad_comp(f,a,c,d,fa,fc,fd,Aac,tol)\n",
    "        F2 = adap_quad_comp(f,c,b,e,fc,fb,fe,Acb,tol)\n",
    "        return F1 + F2\n",
    "    \n",
    "def adap_quad(f,a,b,tol):\n",
    "    c = (a+b)/2.\n",
    "    fa = f(a)\n",
    "    fb = f(b)\n",
    "    fc = f(c)\n",
    "    dx3 = (c-a)/3.\n",
    "    Aab = dx3*(fa+4.*fc+fb)\n",
    "    ival = adap_quad_comp(f,a,b,c,fa,fb,fc,Aab,tol)    \n",
    "    return ival"
   ]
  },
  {
   "cell_type": "markdown",
   "metadata": {},
   "source": [
    "**Problem 1**: (5 pts) Use the adaptive quadrature algorithm to evaluate \n",
    "\n",
    "$$\n",
    "\\int_{-1}^{2} \\frac{dt}{\\sin\\left(\\sqrt{|t|} \\right)}.\n",
    "$$\n",
    "\n",
    "State how you arrive at your result i.e. what tolerances do you choose and what degree of accuracy can you argue that they provide you?  Why do you not encounter divide-by-zero difficulties at $t=0$?"
   ]
  },
  {
   "cell_type": "code",
   "execution_count": 4,
   "metadata": {},
   "outputs": [],
   "source": [
    "def func_p1(tt):\n",
    "    return 1./(np.sin(np.sqrt(np.abs(tt))))"
   ]
  },
  {
   "cell_type": "code",
   "execution_count": 5,
   "metadata": {},
   "outputs": [
    {
     "data": {
      "text/plain": [
       "5.314115610288649"
      ]
     },
     "execution_count": 5,
     "metadata": {},
     "output_type": "execute_result"
    }
   ],
   "source": [
    "adap_quad(func_p1,-1,2,1e-13)"
   ]
  },
  {
   "cell_type": "code",
   "execution_count": 6,
   "metadata": {},
   "outputs": [
    {
     "name": "stdout",
     "output_type": "stream",
     "text": [
      "For tol=1.00e-01 we get the approx: 5.121680633317956\n",
      "For tol=1.00e-02 we get the approx: 5.299258725823382\n",
      "For tol=1.00e-03 we get the approx: 5.312255201204497\n",
      "For tol=1.00e-04 we get the approx: 5.313956536152338\n",
      "For tol=1.00e-05 we get the approx: 5.314102786177169\n",
      "For tol=1.00e-06 we get the approx: 5.314113894050331\n",
      "For tol=1.00e-07 we get the approx: 5.314115472548048\n",
      "For tol=1.00e-08 we get the approx: 5.314115598222085\n",
      "For tol=1.00e-09 we get the approx: 5.314115608654129\n",
      "For tol=1.00e-10 we get the approx: 5.314115610156215\n"
     ]
    }
   ],
   "source": [
    "toli= .1\n",
    "for jj in range(1,11):\n",
    "    aval = adap_quad(func_p1,-1,2,toli)\n",
    "    print(\"For tol=%1.2e we get the approx: %1.15f\" % (toli,aval))\n",
    "    toli *= .1"
   ]
  },
  {
   "cell_type": "markdown",
   "metadata": {},
   "source": [
    "By the output above we can see that the tolerance changes the degrees of accuracy of the integral above. More specifically, if tol = 1e-n where n is an integer then the result is somewhat n digits accurate. For example: notice the result when tol = 1e-5 then the approx is 5 digits accurate. This is why I chose to use 1e-13 for my tol in the first computation, so I can get a result that is close to 13 digits accuracy. "
   ]
  },
  {
   "cell_type": "markdown",
   "metadata": {},
   "source": [
    "For the Adaptive Quadrature method we use:\n",
    "$$\n",
    "T_{[a,b]}(f) \\approx A_{[a,b]}(f) + C_{0}(b-a)^{5}.\n",
    "$$\n",
    "where \n",
    "$$\n",
    "A_{[a,b]}(f) = \\frac{(b-a)}{6}\\left(f(a) + 4f(c) + f(b)\\right), ~ c = \\frac{a+b}{2},\n",
    "$$\n",
    "If | $A_{[a,b]}(f)- A_{[a,c]}(f)-A_{[c,b]}(f)$| > tol\n",
    "then we need to keep dividing and repeat the procedure. \n",
    "Now, the reason why t =0 is not a problem in this case, where in our original function f(0) is not defined. This is because, using the Adaptive Quadrature method we use the mid point of a and b and repeat the process. Whereas the midpoint of -1 and 2 is not 0 but once repeating the process can get closer and closer to zero but not exactly zero. In addition in this method we rely of simposon's method which takes the function and finds a quadratic function who has a very similar behavior such that the integral of the quadratic function and the original function over a certain inveral are somewhat similar.  \n"
   ]
  },
  {
   "cell_type": "markdown",
   "metadata": {},
   "source": [
    "**Problem 2**: (5 pts) Write a recursive program which computes $\\begin{pmatrix} n \\\\ k \\end{pmatrix}$ where for $0\\leq k \\leq n$\n",
    "\n",
    "$$\n",
    "\\begin{pmatrix} n \\\\ k \\end{pmatrix} = \\frac{n!}{k!(n-k)!},\n",
    "$$\n",
    "\n",
    "using the formula \n",
    "\n",
    "$$\n",
    "\\begin{pmatrix} n \\\\ k \\end{pmatrix} = \\begin{pmatrix} n-1 \\\\ k \\end{pmatrix} + \\begin{pmatrix} n-1 \\\\ k-1 \\end{pmatrix}\n",
    "$$\n",
    "\n",
    "Provide two examples which show your implementation is correct.  "
   ]
  },
  {
   "cell_type": "code",
   "execution_count": 7,
   "metadata": {},
   "outputs": [],
   "source": [
    "import math\n",
    "def bnml_formula(n,k):\n",
    "    if (k >= 0) & (n >=0) & (n >=k):\n",
    "        return (math.factorial(n)/(math.factorial(n-k)*math.factorial(k)))\n",
    "    else:\n",
    "        return \"invalid input\""
   ]
  },
  {
   "cell_type": "code",
   "execution_count": 8,
   "metadata": {},
   "outputs": [],
   "source": [
    "def bnml_rec(n,k):\n",
    "    if k==0: # Here we implement the stopping criteria which ends the recursion.  \n",
    "        return 1\n",
    "    if n==k:\n",
    "        return 1\n",
    "    else:\n",
    "        return bnml_rec(n-1,k)+bnml_rec(n-1,k-1)"
   ]
  },
  {
   "cell_type": "code",
   "execution_count": 9,
   "metadata": {},
   "outputs": [
    {
     "name": "stdout",
     "output_type": "stream",
     "text": [
      "2\n",
      "2.0\n"
     ]
    }
   ],
   "source": [
    "print(bnml_rec(2,1))\n",
    "print(bnml_formula(2,1))"
   ]
  },
  {
   "cell_type": "code",
   "execution_count": 10,
   "metadata": {},
   "outputs": [
    {
     "name": "stdout",
     "output_type": "stream",
     "text": [
      "4\n",
      "4.0\n"
     ]
    }
   ],
   "source": [
    "print(bnml_rec(4,3))\n",
    "print(bnml_formula(4,3))"
   ]
  },
  {
   "cell_type": "code",
   "execution_count": 11,
   "metadata": {},
   "outputs": [
    {
     "name": "stdout",
     "output_type": "stream",
     "text": [
      "56\n",
      "56.0\n"
     ]
    }
   ],
   "source": [
    "print(bnml_rec(8,3))\n",
    "print(bnml_formula(8,3))"
   ]
  },
  {
   "cell_type": "markdown",
   "metadata": {},
   "source": [
    "**Problem 3**: (10 pts) The Hermite polynomials $H_{n}(x)$ are such that $H_{0}(x)=1$, $H_{1}(x)=2x$, and for $n\\geq2$, $H_{n}(x)$ satisfies the recurrence relationship\n",
    "\n",
    "$$\n",
    "H_{n}(x) = 2xH_{n-1}(x) -2(n-1)H_{n-2}(x), ~ n\\geq 2. \n",
    "$$\n",
    "\n",
    "* (6 pts) Write a recursive program to find any Hermite polynomial $H_{n}(x)$.\n",
    "* (4 pts) Generate a plot of the first six Hermite polyonmials on the interval $-2\\leq x \\leq 2$.  Your figure should be labeled, have a legend, and different colors should be used to distinguish the different Hermite polynmials in the plot.  "
   ]
  },
  {
   "cell_type": "code",
   "execution_count": 18,
   "metadata": {},
   "outputs": [],
   "source": [
    "def hermite_poly(n,x):\n",
    "    if n==0:\n",
    "        return 1.\n",
    "    elif n==1:\n",
    "        return 2.*x\n",
    "    else:\n",
    "        return 2.*x*hermite_poly(n-1,xvals) -2.*(n-1)*hermite_poly(n-2.,xvals)"
   ]
  },
  {
   "cell_type": "code",
   "execution_count": 21,
   "metadata": {},
   "outputs": [
    {
     "data": {
      "text/plain": [
       "(-2.0, 2)"
      ]
     },
     "execution_count": 21,
     "metadata": {},
     "output_type": "execute_result"
    },
    {
     "data": {
      "image/png": "[encoded data removed]",
      "text/plain": [
       "<Figure size 432x288 with 1 Axes>"
      ]
     },
     "metadata": {
      "needs_background": "light"
     },
     "output_type": "display_data"
    }
   ],
   "source": [
    "xvals = np.linspace(-2.,2.,int(1e3))\n",
    "nvals = np.linspace(0,5,6)\n",
    "\n",
    "for n in range(1,nvals.size):\n",
    "    H0 = np.array(hermite_poly(nvals[n], xvals))\n",
    "    plt.plot(xvals, H0, label = 'H %s ' % (n))\n",
    "\n",
    "plt.xlabel('$x$')\n",
    "plt.ylabel('$H_{n}(x)$')\n",
    "plt.legend()\n",
    "plt.title('Hermite polynomial')\n",
    "plt.xlim(-2.,2)"
   ]
  },
  {
   "cell_type": "markdown",
   "metadata": {
    "collapsed": true
   },
   "source": [
    "**Problem 4** : (5 pts) Suppose that for two football teams, the probability, $P$, that team A will beat team B is given by \n",
    "$$\n",
    "P = \\frac{1+p}{2}\\left(\\frac{p}{1-p+p^{2}} \\right)^{21}\n",
    "$$\n",
    "where $p$ is the probability that team A punts on a fourth down (ok, I really know nothing about football, but I think that kind of makes sense...)  Determine to within $10^{-3}$ the minimal value of $p$ that will ensure that team $A$ beats team $B$ at least half of the time."
   ]
  },
  {
   "cell_type": "code",
   "execution_count": 22,
   "metadata": {},
   "outputs": [],
   "source": [
    "def fun_football(p):\n",
    "    f1 = (1+p)/2\n",
    "    f2 = (p/(1-p+p**2))**21\n",
    "    return f1*f2"
   ]
  },
  {
   "cell_type": "code",
   "execution_count": 260,
   "metadata": {},
   "outputs": [
    {
     "data": {
      "image/png": "[encoded data removed]",
      "text/plain": [
       "<Figure size 432x288 with 1 Axes>"
      ]
     },
     "metadata": {
      "needs_background": "light"
     },
     "output_type": "display_data"
    }
   ],
   "source": [
    "xvals = np.linspace(-2.,2.,int(1e3))\n",
    "plt.plot(xvals, fun_football(xvals), label='P')\n",
    "pn = 0.5*np.ones(2)\n",
    "xstar = [0.8423423423423424, 1.216966966966967]\n",
    "plt.plot(xstar,pn,'*')\n",
    "plt.xlabel('p')\n",
    "plt.ylabel('P(p)')\n",
    "plt.title('P- graph')\n",
    "plt.legend()\n",
    "plt.show()"
   ]
  },
  {
   "cell_type": "markdown",
   "metadata": {},
   "source": [
    "So, in order to solve this problem, we need to find the points of intersection between y =0.5 and our probability function."
   ]
  },
  {
   "cell_type": "code",
   "execution_count": 261,
   "metadata": {},
   "outputs": [],
   "source": [
    "def intersection(f, xvals,tol):\n",
    "    for i in range(int(1e3-1)):\n",
    "        if np.abs(f(xvals[i])-0.5) < tol:\n",
    "            return xvals[i]"
   ]
  },
  {
   "cell_type": "code",
   "execution_count": 263,
   "metadata": {},
   "outputs": [
    {
     "name": "stdout",
     "output_type": "stream",
     "text": [
      "the minimal value of p that will ensure that team A beats team B at least half of the time 0.8423423423423424\n",
      "and p should be less than  1.216966966966967\n"
     ]
    }
   ],
   "source": [
    "xvals1 =np.linspace(0.5,2,int(1e3))\n",
    "pmin = (intersection(fun_football, xvals1, 1e-3))\n",
    "xvals2 = np.linspace(0.85,1.5,int(1e3))\n",
    "pmax = (intersection(fun_football, xvals2, 1e-3))\n",
    "print('the minimal value of p that will ensure that team A beats team B at least half of the time', pmin)\n",
    "print('and p should be less than ', pmax)"
   ]
  },
  {
   "cell_type": "markdown",
   "metadata": {},
   "source": [
    "**Problem 5** : (10 pts) Using Newton's method, explain why the sequence \n",
    "$$\n",
    "x_{n} = \\frac{1}{2}x_{n-1} + \\frac{A}{2x_{n-1}}, ~ n\\geq1, ~ x_{0}>0,  \n",
    "$$\n",
    "converges to $\\sqrt{A}$ (4 pts).  Hint, you need to think of a function whose root is $\\sqrt{A}$.  Implement the method and characterize for various values of $x_{0}$ how quickly the method converges. (6 pts)"
   ]
  },
  {
   "cell_type": "markdown",
   "metadata": {},
   "source": [
    "(5) Answer: First let's prove the sequence converges to $A^{0.5}$.\n",
    "So, \n",
    "$$\n",
    "x_{n} = \\frac{1}{2}x_{n-1} + \\frac{A}{2x_{n-1}}, ~ n\\geq1, ~ x_{0}>0,  \n",
    "$$\n",
    "We know by the Newton's method that:\n",
    "\n",
    "$$\n",
    "x_{n} = x_{n-1} - \\frac{f(x_{n-1})}{f'(x_{n-1})}, ~ n\\geq 1\n",
    "$$\n",
    "Now, let $f(x) = (x- \\sqrt{A})(x+\\sqrt{A})$. Such that $\\sqrt{A}$ is a root of f(x). \n",
    "Then, $f(x) = x^2 -A$ and $f'(x) = 2x$.\n",
    "Lets plug this into Newton's method:\n",
    "\n",
    "$$\n",
    "x_{n} = x_{n-1} - \\frac{f(x_{n-1})}{f'(x_{n-1})} = x_{n-1} - \\frac{(x_{n-1})^2 -A}{2 x_{n-1}} = \\frac{x_{n-1}}{2} - \\frac{A}{2 x_{n-1}}, ~ n\\geq 1\n",
    "$$\n",
    "Which is exactly like our sequence at the top. Hence, the seq will converge to $\\sqrt{A}$ because it is the root of f(x). \n",
    "\n",
    "Newtons method tells us the nearest root to the initial starting point $x_{0}$ which happens to be the root x=$\\sqrt{A}$. This method uses the derivatie of f(x) to derive the slope at the guessed point, and then it finds the zero of that line. It then takes the y-value where the tangent line crosses the x-axis to create the next guess and repeat the process. So Newton's method will typically return the root that is closest to the initial guess. \n",
    "\n",
    "For example: lets try a different case: $x_{0} = 1$ $A = 2$ so $\\sqrt{A} = \\sqrt{2} = 1.414213562373095$\n",
    "$$\n",
    "x_{0} = 1\\\\\n",
    "x_{1} = \\frac{1}{2} \\frac{(x_{0}^2 + A)}{x_{0}} = 1.5\\\\\n",
    "x_{2} = \\frac{1}{2} \\frac{(x_{1}^2 + A)}{x_{1}} = 1.416666666666667\\\\\n",
    "x_{3} = \\frac{1}{2} \\frac{(x_{2}^2 + A)}{x_{2}} = 1.4142156862\\\\\n",
    ".\\\\\n",
    ".\\\\\n",
    ".\\\\\n",
    "x_{n} = \\frac{1}{2} \\frac{(x_{n-1}^2 + A)}{x_{n-1}} =1.414213562373095\\\\\n",
    "$$\n",
    "Hence, already by $x_{3}$ we get the correct root to the degree of 6. So tol = 1e-6. "
   ]
  },
  {
   "cell_type": "code",
   "execution_count": 25,
   "metadata": {},
   "outputs": [],
   "source": [
    "def Newtons_method(f,fp,x0,tol):\n",
    "    x1 = x0 -(f(x0)/fp(x0))\n",
    "    xapproxs = np.array([x0,x1])\n",
    "    while np.abs(x1-x0) >= tol:\n",
    "        x0 = x1\n",
    "        x1 = x0 -(f(x0)/fp(x0))\n",
    "        xapproxs = np.append(xapproxs,x1)\n",
    "    print(\"Root %1.15f\" %x1)\n",
    "    #rate_of_conv(xapproxs)\n",
    "    return xapproxs"
   ]
  },
  {
   "cell_type": "code",
   "execution_count": 26,
   "metadata": {},
   "outputs": [],
   "source": [
    "def rate_of_conv(capproxs):\n",
    "    tterms = capproxs.size\n",
    "    cstar = capproxs[tterms-1]\n",
    "    cnp1 = np.log10(np.abs(capproxs[1:tterms-1]-cstar))\n",
    "    cn = np.log10(np.abs(capproxs[0:tterms-2]-cstar))\n",
    "    ftprms = np.polyfit(cn,cnp1,1)\n",
    "    print(\"Intercept\", 10**ftprms[1])\n",
    "    print(\"slope value\", ftprms[0])\n",
    "    plt.scatter(cn, cnp1) \n",
    "    plt.plot(cn, ftprms[0]*cn +ftprms[1])\n",
    "    plt.xlabel(\"$log_{10}|c_{n}-c{*}|$\")\n",
    "    plt.ylabel(\"$log_{10}|c_{n+1}-c_{*}|$\")"
   ]
  },
  {
   "cell_type": "code",
   "execution_count": 27,
   "metadata": {},
   "outputs": [
    {
     "name": "stdout",
     "output_type": "stream",
     "text": [
      "Root 1.414213562373095\n",
      "Intercept 0.421559705153928\n",
      "slope value 2.023268515881072\n",
      "Root 1.414213562373095\n",
      "Intercept 0.41652767860830386\n",
      "slope value 2.0165021687055744\n",
      "Root 1.414213562373095\n",
      "Intercept 0.2032538583697527\n",
      "slope value 1.9310736356993436\n",
      "Root 1.414213562373096\n",
      "Intercept 0.11110522463744739\n",
      "slope value 1.779902350371574\n"
     ]
    },
    {
     "data": {
      "image/png": "[encoded data removed]",
      "text/plain": [
       "<Figure size 432x288 with 1 Axes>"
      ]
     },
     "metadata": {
      "needs_background": "light"
     },
     "output_type": "display_data"
    }
   ],
   "source": [
    "def f(x):\n",
    "    return x**2 -2\n",
    "def f_tag(x):\n",
    "    return 2*x\n",
    "rate_of_conv(Newtons_method(f,f_tag,0.5,1e-6))\n",
    "rate_of_conv(Newtons_method(f,f_tag,1.,1e-6))\n",
    "rate_of_conv(Newtons_method(f,f_tag,4.,1e-6))\n",
    "rate_of_conv(Newtons_method(f,f_tag,20,1e-6))"
   ]
  },
  {
   "cell_type": "markdown",
   "metadata": {},
   "source": [
    "As the starting point gets farther from $\\sqrt{2}$ the slope which is the rate of convergance decreases. "
   ]
  },
  {
   "cell_type": "markdown",
   "metadata": {},
   "source": [
    "**Problem 6**: (5pts) In class for a root $x_{\\ast}$ of $f(x)$, i.e. $f(x_{\\ast})=0$, if $x_{0}$ is chosen \"close\" to $x_{\\ast}$, then the sequence $\\left\\{x_{n}\\right\\}_{n=0}^{\\infty}$  where \n",
    "\n",
    "$$\n",
    "x_{n+1} = g\\left(x_{n}\\right), ~ g(x) = x - \\frac{f(x)}{f'(x)}, ~ n\\geq 0.\n",
    "$$\n",
    "\n",
    "should converge to $x_{\\ast}$.  The question is how quickly.  So supposing that $f'(x_{\\ast})\\neq 0$ show \n",
    "\n",
    "* $g(x_{\\ast}) = x_{\\ast}$ (thus making $x_{\\ast}$ a fixed point of $g(x)$)\n",
    "* $g'(x_{\\ast}) = 0$\n",
    "* $x_{n+1} - x_{\\ast} = \\frac{1}{2}g''(x_{\\ast})\\left(x_{n}-x_{\\ast}\\right)^{2} + \\mathcal{O}(\\left(x_{n}-x_{\\ast}\\right)^{3})$\n",
    "\n",
    "From this, infer that the rate of convergence (see the class notes for a definition of rate of convergence) for Newton's method is $\\alpha = 2$."
   ]
  },
  {
   "cell_type": "markdown",
   "metadata": {},
   "source": [
    "(6) Answer: Let \n",
    "\n",
    "$$\n",
    "x_{n+1} = g\\left(x_{n}\\right), ~ g(x) = x - \\frac{f(x)}{f'(x)}, ~ n\\geq 0. f(x_{\\ast}) = 0, f'(x_{\\ast}) \\neq 0\n",
    "$$\n",
    "So, \n",
    "$$\n",
    "g(x_{\\ast}) = x_{\\ast} - \\frac{f(x_{\\ast})}{f'(x_{\\ast})} =x_{\\ast} - \\frac{0}{f'(x_{\\ast})} = x_{\\ast}\\\\\n",
    "g'(x_{\\ast}) = 1 - \\frac{f'(x_{\\ast})f'(x_{\\ast}) - f(x_{\\ast})f''(x_{\\ast})}{f'(x_{\\ast})f'(x_{\\ast})} = 1- \\frac{f'(x_{\\ast})f'(x_{\\ast}) - 0f''(x_{\\ast})}{f'(x_{\\ast})f'(x_{\\ast})} = 1-1 = 0\\\\\n",
    "$$\n",
    "\n",
    "By Taylor series, \n",
    "$g(x_{n}) = g(x_{\\ast}) -g'(x_{\\ast})(x_{n} -x_{\\ast}) + \\frac{g''(x_{\\ast})}{2}{(x_{n} -x_{\\ast})}^{2} +\\mathcal{O}(\\left(x_{n}-x_{\\ast}\\right)^{3})$\n",
    "Then, from here we know that, \n",
    "$x_{n+1} = x_{\\ast} + \\frac{g''(x_{\\ast})}{2}{(x_{n} -x_{\\ast})}^{2} +\\mathcal{O}(\\left(x_{n}-x_{\\ast}\\right)^{3})$\n",
    "So, \n",
    "$x_{n+1} - x_{\\ast} = \\frac{1}{2}g''(x_{\\ast})\\left(x_{n}-x_{\\ast}\\right)^{2} + \\mathcal{O}(\\left(x_{n}-x_{\\ast}\\right)^{3}) \\approx \\frac{1}{2}g''(x_{\\ast})\\left(x_{n}-x_{\\ast}\\right)^{2} $\n",
    "Let $x_{n} -x_{\\ast} = e_{n}$. then $e_{n+1} = x_{n+1} -x_{\\ast}$\n",
    "Hence, \n",
    "$e_{n+1} = x_{n+1} -x_{\\ast} \\approx \\frac{1}{2}g''(x_{\\ast})\\left(x_{n}-x_{\\ast}\\right)^{2}  = \\frac{1}{2}g''(x_{\\ast})\\left(e_{n}\\right)^{2} $\n",
    "$$\n",
    "\\log{e_{n+1}} = \\log{\\frac{1}{2}g''(x_{\\ast})\\left(e_{n}\\right)^{2}}\\\\\n",
    "\\log{e_{n+1}} = \\log{\\frac{1}{2}g''(x_{\\ast})}+\\log{\\left(e_{n}\\right)^{2}}\\\\\n",
    "\\log{e_{n+1}} = \\log{\\frac{1}{2}g''(x_{\\ast})}+2\\log{\\left(e_{n}\\right)}\n",
    "$$\n",
    "\n",
    "In conclusion, each successive error term is proportional to the square of the previor error, this means that Newton's method is quadratically convergent."
   ]
  },
  {
   "cell_type": "markdown",
   "metadata": {},
   "source": [
    "**Problem 7**: (10 pts) In many cases, getting convergence rates via pen and paper is tricky.  However, we can often readily find them via numerical simulation.  \n",
    "\n",
    "a.) (4 pts) For \n",
    "$$\n",
    "f(x) = x\\cos(x) - \\sin^{2}(x), \n",
    "$$\n",
    "find all the roots on the interval $[0,5]$ using Newton's method with a tolerance of $10^{-6}$.\n",
    "\n",
    "\n",
    "b.) (6 pts) For each root, establish that the rate of convergence is quadratic.  Note, to do this, you will need to save the various points generated by Newton's method in an array.  You will need to find the fixed point.  Then, you should note that if \n",
    "$$\n",
    "\\lim_{n\\rightarrow \\infty}\\frac{|x_{n+1}-x_{\\ast}|}{|x_{n}-x_{\\ast}|^{\\alpha}} = \\lambda, \n",
    "$$  \n",
    "then for $n$ large\n",
    "$$\n",
    "\\ln |x_{n+1}-x_{\\ast}| \\sim \\alpha \\ln |x_{n}-x_{\\ast}| + \\ln \\lambda\n",
    "$$\n",
    "So, then you should be thinking about the slope of a line in a log/log plot.  \n",
    "\n",
    "Please provide a well-labeled and well-explained figure describing the rate of convergence for each fixed point.  Does your rate change based on your initial guess?  Again, please elaborate and show plots to make your case."
   ]
  },
  {
   "cell_type": "code",
   "execution_count": 264,
   "metadata": {},
   "outputs": [
    {
     "name": "stdout",
     "output_type": "stream",
     "text": [
      "First root found [0.]\n",
      "Second root found [0.84644635]\n",
      "Third root found [4.90953439]\n"
     ]
    },
    {
     "data": {
      "text/plain": [
       "[<matplotlib.lines.Line2D at 0x29fa8f3b7b8>]"
      ]
     },
     "execution_count": 264,
     "metadata": {},
     "output_type": "execute_result"
    },
    {
     "data": {
      "image/png": "[encoded data removed]",
      "text/plain": [
       "<Figure size 432x288 with 1 Axes>"
      ]
     },
     "metadata": {
      "needs_background": "light"
     },
     "output_type": "display_data"
    }
   ],
   "source": [
    "from scipy import optimize\n",
    "def fun_p7(x):\n",
    "    return x*np.cos(x)- (np.sin(x))**2\n",
    "\n",
    "xvals = np.linspace(0,5., int(1e3))\n",
    "plt.plot(xvals,fun_p7(xvals))\n",
    "lin = np.zeros(int(1e3))\n",
    "plt.plot(xvals, lin)\n",
    "root1 = optimize.root(fun_p7, -0)\n",
    "print(\"First root found %s\" % root1.x)\n",
    "root2 = optimize.root(fun_p7, 2)\n",
    "print(\"Second root found %s\" % root2.x)\n",
    "root3 = optimize.root(fun_p7, 5)\n",
    "print(\"Third root found %s\" % root3.x)\n",
    "\n",
    "xroots = np.array([root1.x, root2.x, root3.x])\n",
    "yroots = np.zeros(len(xroots))\n",
    "plt.plot(xvals,fun_p7(xvals))\n",
    "plt.plot(xroots,yroots,'*')"
   ]
  },
  {
   "cell_type": "code",
   "execution_count": 265,
   "metadata": {},
   "outputs": [],
   "source": [
    "f = lambda x: x*np.cos(x)- (np.sin(x))**2\n",
    "fp = lambda x: np.cos(x) -x*np.sin(x) -2*(np.sin(x)*np.cos(x))\n",
    "\n",
    "def Newtons_method(f,fp,x0,tol):\n",
    "    x1 = x0 -(f(x0)/fp(x0))\n",
    "    xapproxf = np.array([x0,x1])\n",
    "    while np.abs(x1-x0) >= tol:\n",
    "        x0 = x1\n",
    "        x1 = x0 -(f(x0)/fp(x0))\n",
    "        xapproxf = np.append(xapproxf,x1)\n",
    "    print(\"your root is\", x1)\n"
   ]
  },
  {
   "cell_type": "code",
   "execution_count": 266,
   "metadata": {},
   "outputs": [
    {
     "name": "stdout",
     "output_type": "stream",
     "text": [
      "your root is -1.1533205639072678e-15\n",
      "your root is 0.8464463548574079\n",
      "your root is 4.909534391393232\n"
     ]
    }
   ],
   "source": [
    "Newtons_method(f,fp,0.1,1e-6)\n",
    "Newtons_method(f,fp,1,1e-6)\n",
    "Newtons_method(f,fp,5,1e-6)"
   ]
  },
  {
   "cell_type": "code",
   "execution_count": 267,
   "metadata": {},
   "outputs": [],
   "source": [
    "def rate_of_conv(capprox):\n",
    "    tterms = capprox.size\n",
    "    cstar = capprox[tterms-1]\n",
    "    cnp1 = np.log10(np.abs(capprox[1:tterms-1]-cstar))\n",
    "    cn = np.log10(np.abs(capprox[0:tterms-2]-cstar))\n",
    "    ftprms = np.polyfit(cn, cnp1, 1)\n",
    "    print(\"Intercept value: %1.15f\" %10.**(ftprms[1]))\n",
    "    print(\"Solpe value: %1.15f\" %ftprms[0])\n",
    "    \n",
    "    plt.scatter(cn, cnp1)\n",
    "    plt.plot(cn,(ftprms[0]*cn+ftprms[1]))\n",
    "    plt.xlabel(\"$log|C_{n}-C_{*}|$\")\n",
    "    plt.ylabel(\"$log|C_{n+1}-C{*}|$\")\n",
    "    plt.title(\"rate of convergence graph\")"
   ]
  },
  {
   "cell_type": "code",
   "execution_count": 268,
   "metadata": {},
   "outputs": [],
   "source": [
    "def Newtons_method(f,fp,x0,tol):\n",
    "    x1 = x0-f(x0)/fp(x0)\n",
    "    xapprox = np.array([x0,x1])\n",
    "    while np.abs(x1-x0)>=tol:\n",
    "        x0 = x1\n",
    "        x1 = x0-f(x0)/fp(x0)\n",
    "        xapprox = np.append(xapprox,x1)\n",
    "    print(\"Your root is: %1.15f\" %x1)\n",
    "    return rate_of_conv(xapprox)"
   ]
  },
  {
   "cell_type": "code",
   "execution_count": 269,
   "metadata": {},
   "outputs": [
    {
     "name": "stdout",
     "output_type": "stream",
     "text": [
      "Your root is: -0.000000000000000\n",
      "Intercept value: 1.373966708484134\n",
      "Solpe value: 2.039900061915640\n"
     ]
    },
    {
     "data": {
      "image/png": "[encoded data removed]",
      "text/plain": [
       "<Figure size 432x288 with 1 Axes>"
      ]
     },
     "metadata": {
      "needs_background": "light"
     },
     "output_type": "display_data"
    }
   ],
   "source": [
    "Newtons_method(f,fp,0.2,1e-6)"
   ]
  },
  {
   "cell_type": "code",
   "execution_count": 270,
   "metadata": {},
   "outputs": [
    {
     "name": "stdout",
     "output_type": "stream",
     "text": [
      "Your root is: 0.846446354857408\n",
      "Intercept value: 0.628136485072579\n",
      "Solpe value: 1.946743750885200\n"
     ]
    },
    {
     "data": {
      "image/png": "[encoded data removed]",
      "text/plain": [
       "<Figure size 432x288 with 1 Axes>"
      ]
     },
     "metadata": {
      "needs_background": "light"
     },
     "output_type": "display_data"
    }
   ],
   "source": [
    "Newtons_method(f,fp,1,1e-6)"
   ]
  },
  {
   "cell_type": "code",
   "execution_count": 271,
   "metadata": {},
   "outputs": [
    {
     "name": "stdout",
     "output_type": "stream",
     "text": [
      "Your root is: 4.909534391393232\n",
      "Intercept value: 0.188924218963439\n",
      "Solpe value: 1.947993686024322\n"
     ]
    },
    {
     "data": {
      "image/png": "[encoded data removed]",
      "text/plain": [
       "<Figure size 432x288 with 1 Axes>"
      ]
     },
     "metadata": {
      "needs_background": "light"
     },
     "output_type": "display_data"
    }
   ],
   "source": [
    "Newtons_method(f,fp,5,1e-6)"
   ]
  },
  {
   "cell_type": "markdown",
   "metadata": {},
   "source": [
    "In conclusion, in all three cases, we can see that $\\alpha \\approx 2$ since our results were : 2.039900061915640, 1.946743750885200,  1.947993686024322. This proves that Newton's method is quadratically convergent. This is because in our case $\\alpha$ is the slope of: \n",
    "$$\n",
    "\\lim_{n\\rightarrow \\infty}\\frac{|x_{n+1}-x_{\\ast}|}{|x_{n}-x_{\\ast}|^{\\alpha}} = \\lambda, \n",
    "$$  \n",
    "then for $n$ large\n",
    "$$\n",
    "\\ln |x_{n+1}-x_{\\ast}| \\sim \\alpha \\ln |x_{n}-x_{\\ast}| + \\ln \\lambda\n",
    "$$"
   ]
  },
  {
   "cell_type": "markdown",
   "metadata": {},
   "source": [
    "One more point that is important to mention: The rate of convergence is dependent on the initial point $x_{0}$ this is becuase if $x_{0}$ is very close to the root we will find the root faster, and vice versa (when $x_{0}$ is far from the root of f(x). An example is below: where the root is 4.909534391393061 but we try to find it using Newton's method with two different starting points: $x_{0}= 4.1$ and $x_{0}=4.9$. Then when $x_{0}= 4.1 \\rightarrow \\alpha = 2.068920707989059$ and when $x_{0}=4.9 \\rightarrow \\alpha =2.003428670393791$. Hence, $\\alpha$ is dependent on the starting point ($x_{0}$) which will determine f'($x_{0}$) and f($x_{0}$), because this method uses the derivatie of f(x) to derive the slope at the guessed point, and then it finds the zero of that line. It then takes the y-value where the tangent line crosses the x-axis to create the next guess and repeat the process. "
   ]
  },
  {
   "cell_type": "code",
   "execution_count": 272,
   "metadata": {},
   "outputs": [
    {
     "name": "stdout",
     "output_type": "stream",
     "text": [
      "Your root is: 4.909534391393061\n",
      "Intercept value: 0.273570050413307\n",
      "Solpe value: 2.003428670393791\n"
     ]
    },
    {
     "data": {
      "image/png": "[encoded data removed]",
      "text/plain": [
       "<Figure size 432x288 with 1 Axes>"
      ]
     },
     "metadata": {
      "needs_background": "light"
     },
     "output_type": "display_data"
    }
   ],
   "source": [
    "Newtons_method(f,fp,4.9,1e-6)"
   ]
  },
  {
   "cell_type": "code",
   "execution_count": 273,
   "metadata": {},
   "outputs": [
    {
     "name": "stdout",
     "output_type": "stream",
     "text": [
      "Your root is: 4.909534391393061\n",
      "Intercept value: 0.476273841659373\n",
      "Solpe value: 2.068920707989059\n"
     ]
    },
    {
     "data": {
      "image/png": "[encoded data removed]",
      "text/plain": [
       "<Figure size 432x288 with 1 Axes>"
      ]
     },
     "metadata": {
      "needs_background": "light"
     },
     "output_type": "display_data"
    }
   ],
   "source": [
    "Newtons_method(f,fp,4.1,1e-6)"
   ]
  },
  {
   "cell_type": "code",
   "execution_count": null,
   "metadata": {},
   "outputs": [],
   "source": []
  },
  {
   "cell_type": "code",
   "execution_count": null,
   "metadata": {},
   "outputs": [],
   "source": []
  }
 ],
 "metadata": {
  "kernelspec": {
   "display_name": "Python 3",
   "language": "python",
   "name": "python3"
  },
  "language_info": {
   "codemirror_mode": {
    "name": "ipython",
    "version": 3
   },
   "file_extension": ".py",
   "mimetype": "text/x-python",
   "name": "python",
   "nbconvert_exporter": "python",
   "pygments_lexer": "ipython3",
   "version": "3.7.4"
  }
 },
 "nbformat": 4,
 "nbformat_minor": 2
}
