{
 "cells": [
  {
   "cell_type": "code",
   "execution_count": 2,
   "metadata": {},
   "outputs": [],
   "source": [
    "import numpy as np\n",
    "import math\n",
    "import matplotlib.pyplot as plt\n",
    "%matplotlib inline"
   ]
  },
  {
   "cell_type": "markdown",
   "metadata": {},
   "source": [
    "**Problem 1** 15pts: \n",
    "    \n",
    "1a) 3pts - In NumPy, create an array of points between $-5$ and $11.323$ with spacing $.0285$.  If you can not do this exactly, how close can you get?  \n",
    "\n",
    "1b) 3pts - Using vectorization, plot $f(x) = 3x^{4} + 3x^{2} + 2$ for $-5\\leq x \\leq 11.323$.  Make sure your graph is labeled.   \n",
    "1c) 3pts - Using vectorization in Python, find the sum \n",
    "\n",
    "$$\n",
    "\\sum_{j=0}^{n}(4j^{3} + 3j^{2} + 2)\n",
    "$$\n",
    "\n",
    "for $n=30,50$.\n",
    "\n",
    "1d) 3pts - For the integers less than 10,000, what is the sum of those numbers which are divisible by 7, 13, or 18?  \n",
    "\n",
    "1e) 3pts - For the recurrence relation\n",
    "\n",
    "$$\n",
    "p_{n} = 3p_{n-4} - 2p_{n-3} + 3p_{n-1}, ~ n\\geq 4, \n",
    "$$\n",
    "\n",
    "where \n",
    "\n",
    "$$\n",
    "p_{0}= .1, ~ p_{1}=2.1, ~ p_{2} = .235, ~ p_{3} = 0,\n",
    "$$\n",
    "\n",
    "what is $p_{n}$ for $n=5$, $10$, and $20$?"
   ]
  },
  {
   "cell_type": "markdown",
   "metadata": {},
   "source": [
    "_Answer to Problem 1_"
   ]
  },
  {
   "cell_type": "code",
   "execution_count": 3,
   "metadata": {},
   "outputs": [
    {
     "name": "stdout",
     "output_type": "stream",
     "text": [
      "572.7368421052631\n",
      "the difference between the points in this array is 0.02848691099476408\n",
      "the error approximation is 1.3089005235920187e-05\n"
     ]
    }
   ],
   "source": [
    "Interval = 16.323\n",
    "Space = 0.0285\n",
    "N = Interval/Space\n",
    "print(N)\n",
    "xvals = np.linspace(-5., 11.323, int(np.ceil(N))+1)\n",
    "Diff = (xvals[1]-xvals[0])\n",
    "print(\"the difference between the points in this array is\", Diff)\n",
    "Error = Space - Diff\n",
    "print(\"the error approximation is\", Error)"
   ]
  },
  {
   "cell_type": "markdown",
   "metadata": {},
   "source": [
    "\n",
    "Now, I will explain my answer for problem 1(a). The linspace(a,b,n) np array creates an array from point a to b with n intervals. n has to be an interger. Therefore I rounded N to be the nearest integer which turned to be its ceiling. In the problem we are asked to create an array from -5 to 11.323 with a spacing of 0.0285 from each point. In the code above xvals is my array and its spacing is  0.02848691099476408 which is 1.3089005235920187e-05 close to 0.0285 which is a very close approximation. The reason we can not get this exact spacing is because the amount of intervals in this linspace function has to be an integer. "
   ]
  },
  {
   "cell_type": "code",
   "execution_count": 4,
   "metadata": {
    "scrolled": true
   },
   "outputs": [
    {
     "data": {
      "text/plain": [
       "Text(0.5, 1.0, 'f(x) = 3x^4 +3x^2 +2')"
      ]
     },
     "execution_count": 4,
     "metadata": {},
     "output_type": "execute_result"
    },
    {
     "data": {
      "image/png": "[encoded data removed]",
      "text/plain": [
       "<Figure size 432x288 with 1 Axes>"
      ]
     },
     "metadata": {
      "needs_background": "light"
     },
     "output_type": "display_data"
    }
   ],
   "source": [
    "#1(b)\n",
    "xvals = np.linspace(-5., 11.323, int(np.ceil(N))+1)\n",
    "yvals = 3*(xvals**4) + 3*(xvals**2)+ 2\n",
    "plt.plot(xvals,yvals)\n",
    "plt.xlabel('$x$')\n",
    "plt.ylabel('$f(x)$')\n",
    "plt.title('f(x) = 3x^4 +3x^2 +2')"
   ]
  },
  {
   "cell_type": "code",
   "execution_count": 5,
   "metadata": {},
   "outputs": [],
   "source": [
    "#1(c)\n",
    "def sum_fun(n):\n",
    "    tot =0\n",
    "    jvals =np.linspace(0,n, int(n)+1)\n",
    "    for jval in jvals:\n",
    "        aj = 4.*(jval**3.) +3.*(jval**2.)+2.\n",
    "        tot+= aj \n",
    "    return tot"
   ]
  },
  {
   "cell_type": "code",
   "execution_count": 6,
   "metadata": {},
   "outputs": [
    {
     "name": "stdout",
     "output_type": "stream",
     "text": [
      "The sum when n=30, is: 893327\n",
      "The sum when n=50, is: 6631377\n"
     ]
    }
   ],
   "source": [
    "print(\"The sum when n=30, is:\", int(sum_fun(30)))\n",
    "print(\"The sum when n=50, is:\",int(sum_fun(50)))"
   ]
  },
  {
   "cell_type": "code",
   "execution_count": 7,
   "metadata": {},
   "outputs": [],
   "source": [
    "#1(d)\n",
    "def sum_int(n):\n",
    "    tot =0\n",
    "    nvals = np.linspace(0,n,int(n)+1)\n",
    "    for nval in nvals:\n",
    "        if (nval%7 ==0) or (nval%13 ==0) or (nval%18 ==0):\n",
    "            tot+= nval\n",
    "    return int(tot)"
   ]
  },
  {
   "cell_type": "code",
   "execution_count": 8,
   "metadata": {},
   "outputs": [
    {
     "data": {
      "text/plain": [
       "12647598"
      ]
     },
     "execution_count": 8,
     "metadata": {},
     "output_type": "execute_result"
    }
   ],
   "source": [
    "sum_int(10000)"
   ]
  },
  {
   "cell_type": "code",
   "execution_count": 9,
   "metadata": {},
   "outputs": [],
   "source": [
    "#1(e)\n",
    "def rec_fun(n):\n",
    "    p = np.zeros(int(n)+1)\n",
    "    p[0]= 0.1\n",
    "    p[1]= 2.1\n",
    "    p[2]= 0.235\n",
    "    p[3]= 0.\n",
    "    if n>=4:\n",
    "        for x in range(4, int(n)+1):\n",
    "            p[x]= 3*p[x-4]-2*p[x-3]+3*p[x-1]\n",
    "    return p[n]\n",
    "        "
   ]
  },
  {
   "cell_type": "code",
   "execution_count": 10,
   "metadata": {},
   "outputs": [
    {
     "name": "stdout",
     "output_type": "stream",
     "text": [
      "p[5] =  -5.87\n",
      "p[10] =  -1074.63\n",
      "p[20] =  -42809333.39000001\n"
     ]
    }
   ],
   "source": [
    "print(\"p[5] = \",rec_fun(5))\n",
    "print(\"p[10] = \",rec_fun(10))\n",
    "print(\"p[20] = \",rec_fun(20))"
   ]
  },
  {
   "cell_type": "markdown",
   "metadata": {},
   "source": [
    "**Problem 2**: 15pts - Given the function\n",
    "\n",
    "$$\n",
    "y(x) = \\sum_{l=0}^{\\infty} \\frac{(-1)^{l}x^{2l}}{3^{l}l!}\n",
    "$$\n",
    "\n",
    "2a) 6pts - Determine a recurrence relation between the coefficients.\n",
    "\n",
    "2b) 6pts - In Python, develop a tolerance based, recursive, vectorized implementation of this function.  \n",
    "\n",
    "2c) 3pts - Plot this function on the interval $[0,5]$ for tolerances $10^{-6}$ and $10^{-8}$.  Comment on any phenomena you see.  Make sure graphs are labeled, have a legend, and are well sized.  "
   ]
  },
  {
   "cell_type": "markdown",
   "metadata": {},
   "source": [
    "_Answer to Problem 2_"
   ]
  },
  {
   "cell_type": "markdown",
   "metadata": {},
   "source": [
    "2(a)\n",
    "$$\n",
    "y(x) = \\sum_{l=0}^{\\infty} \\frac{(-1)^{l}x^{2l}}{3^{l}l!}\n",
    "$$\n",
    "$$\n",
    "a(l) = \\frac{(-1)^{l}x^{2l}}{3^{l}l!}\\\\\n",
    "a(l-1) = \\frac{(-1)^{l-1}x^{2(l-1)}}{3^{(l-1)}(l-1)!}\\\\\n",
    "\\frac{a(l)}{a(l-1)} = \\frac{\\frac{(-1)^{l}x^{2l}}{3^{l}l!}}{\\frac{(-1)^{l-1}x^{2(l-1)}}{3^{(l-1)}(l-1)!}} = \\frac{\\frac{(-1)^{l}x^{2l}}{3^{l}l(l-1)!}}{\\frac{(-1)^{l-1}x^{2(l-1)}}{3^{(l-1)}(l-1)!}} = \\frac{\\frac{1}{l}}{\\frac{-1^{-1} x ^{-2} }{3^{-1}}} = \\frac{-x^2 }{3l}\\\\\n",
    "$$"
   ]
  },
  {
   "cell_type": "code",
   "execution_count": 11,
   "metadata": {},
   "outputs": [],
   "source": [
    "def func_y(x,tol):\n",
    "    tot = np.ones(x.size) # for the total you wish to return \n",
    "    al = np.ones(x.size) # the terms you need to update\n",
    "    l = 1 # your counter\n",
    "    while np.abs(al)>=tol:\n",
    "        al *= -(x**2)/(3*l)\n",
    "        tot += al\n",
    "        l+=1 \n",
    "    return tot "
   ]
  },
  {
   "cell_type": "code",
   "execution_count": 14,
   "metadata": {},
   "outputs": [
    {
     "data": {
      "image/png": "[encoded data removed]",
      "text/plain": [
       "<Figure size 432x288 with 2 Axes>"
      ]
     },
     "metadata": {
      "needs_background": "light"
     },
     "output_type": "display_data"
    }
   ],
   "source": [
    "xvals = np.linspace(0.,5.,int(1e3))\n",
    "\n",
    "y1 =[func_y(xval, 1e-6) for xval in xvals] \n",
    "y2 =[func_y(xval, 1e-8) for xval in xvals]\n",
    "\n",
    "plt.subplot(2,1,1)\n",
    "plt.plot(xvals,y1, color ='k')\n",
    "plt.xlabel('$x$')\n",
    "plt.ylabel('$y(x)$')\n",
    "plt.title('Tolerance Value is 1e-6')\n",
    "\n",
    "plt.subplot(2,1,2)\n",
    "plt.plot(xvals,y2, color ='b')\n",
    "plt.xlabel('$x$')\n",
    "plt.ylabel('$y(x)$')\n",
    "plt.title('Tolerance Value is 1e-8')\n",
    "plt.tight_layout()\n"
   ]
  },
  {
   "cell_type": "code",
   "execution_count": 15,
   "metadata": {},
   "outputs": [
    {
     "name": "stderr",
     "output_type": "stream",
     "text": [
      "C:\\Users\\tsvik\\Anaconda3\\lib\\site-packages\\ipykernel_launcher.py:4: RuntimeWarning: divide by zero encountered in log10\n",
      "  after removing the cwd from sys.path.\n"
     ]
    },
    {
     "data": {
      "image/png": "[encoded data removed]",
      "text/plain": [
       "<Figure size 432x288 with 1 Axes>"
      ]
     },
     "metadata": {
      "needs_background": "light"
     },
     "output_type": "display_data"
    }
   ],
   "source": [
    "y3 =[np.abs((func_y(xval, 1e-6)-func_y(xval, 1e-8))) for xval in xvals] \n",
    "\n",
    "plt.subplot(2,1,1)\n",
    "plt.plot(xvals,np.log10(np.abs(y3)), color ='b')\n",
    "plt.xlabel('$x$')\n",
    "plt.ylabel('$log(y(x)) - difference$')\n",
    "plt.title('Tolerance difference between 1e-6 and 1e-8')\n",
    "plt.tight_layout()\n"
   ]
  },
  {
   "cell_type": "markdown",
   "metadata": {},
   "source": [
    "There is a difference between the function with tol value of 1e-6 and 1e-8. The diffence is not evident when we graph both functions on the same graph. Therefore I formed a function of the abs value of the difference of y(x) when the tol is 1e-6 and 1e-8. In the graph above it is evident that as x gets bigger the difference between the two tol gets bigger. So, as x gets bigger the tol value difference becomes more significant. As the tolerance is smaller the function will be more precise. "
   ]
  },
  {
   "cell_type": "markdown",
   "metadata": {
    "collapsed": true
   },
   "source": [
    "**Problem 3**: 15pts - Write a program (7pts) that generates the iterative sequence\n",
    "$$\n",
    "\\phi_{n} = a\\phi_{n-1} + b\\phi_{n-2}, ~ n\\geq 2, ~ a,b\\in \\mathbb{R}.\n",
    "$$\n",
    "Your program must take $a$, $b$, $\\phi_{0}$, $\\phi_{1}$, and the maximum value of $N$ as input, i.e. your program should produce a plot of the sequence for $0\\leq n \\leq N$.  (4pts) Generate labeled semi-log plots of $|\\phi_{n}|$ up to $N=40$ for the parameter values \n",
    "\n",
    "* $a = 1$, $b = 3$, $\\phi_{0}=1$, $\\phi_{1}=2$,\n",
    "* $a = -3$, $b = -1/2$, $\\phi_{0}=2$, $\\phi_{1}=1$.\n",
    "\n",
    "Explain the behavior you see in the graphs (4pts).  In particular, find the slope of the lines in your plots in the large $N$ limit both computationally and analytically.  Hint: In order to get the analytic result, you need to use a guess for the solution of the form \n",
    "$$\n",
    "\\phi_{n} = \\lambda^{n}.\n",
    "$$\n",
    "Then plug in your guess, and solve for $\\lambda$.  You know, like with the Fibonacci numbers."
   ]
  },
  {
   "cell_type": "markdown",
   "metadata": {},
   "source": [
    "_Answer to Problem 3_"
   ]
  },
  {
   "cell_type": "code",
   "execution_count": 20,
   "metadata": {},
   "outputs": [],
   "source": [
    "def function_p3(a,b,p0,p1,N):\n",
    "    p = np.ones(N+1)\n",
    "    p[0]=p0\n",
    "    p[1]=p1\n",
    "    if N>1:\n",
    "        for n in range(1, int(N)+1):\n",
    "            p[n]=a*p[n-1]+ b*p[n-2]\n",
    "    return p"
   ]
  },
  {
   "cell_type": "code",
   "execution_count": 21,
   "metadata": {},
   "outputs": [],
   "source": [
    "nvals = np.linspace(0,40,41)\n",
    "yval1 = function_p3(1,3,1,2,40)\n",
    "yval2 = function_p3(-3,-1/2,2,1,40)"
   ]
  },
  {
   "cell_type": "code",
   "execution_count": 22,
   "metadata": {},
   "outputs": [
    {
     "data": {
      "text/plain": [
       "Text(0.5, 1.0, 'p(n)')"
      ]
     },
     "execution_count": 22,
     "metadata": {},
     "output_type": "execute_result"
    },
    {
     "data": {
      "image/png": "[encoded data removed]",
      "text/plain": [
       "<Figure size 432x288 with 1 Axes>"
      ]
     },
     "metadata": {
      "needs_background": "light"
     },
     "output_type": "display_data"
    }
   ],
   "source": [
    "plt.plot(nvals,np.log10(np.abs(yval1)),label = 'a=1, b=3,p0=1,p1=2', color ='b')\n",
    "plt.plot(nvals,np.log10(np.abs(yval2)),label = 'a=-3,b=-0.5, p0=2, p1=1', color ='k')\n",
    "plt.xlabel('$n$')\n",
    "plt.ylabel('$log(p(x))$')\n",
    "plt.legend(loc = 'upper left')\n",
    "plt.title('p(n)')"
   ]
  },
  {
   "cell_type": "markdown",
   "metadata": {},
   "source": [
    "The graph above has a characteristic of a linear line because if we take the log of the equation we get $\\log(p(x))= n*\\log(\\lambda)$ So the slope is $\\log(\\lambda)$, the y value is $\\log(p(x))$, and the x values are n. In order to calculate the slopes of both these graph analytically I will need to find $\\lambda$. Whereas, computationally, I will find 2 points on the graph and calculate $\\frac{y1-y2}{x1-x2}$. This is present below."
   ]
  },
  {
   "cell_type": "code",
   "execution_count": 30,
   "metadata": {},
   "outputs": [
    {
     "name": "stdout",
     "output_type": "stream",
     "text": [
      "Slope of case 1- blue, a=1, b=3: 0.3622671970392843\n",
      "Slope of case 2- black, a=-3, b=-1/2: 0.4506917483893839\n"
     ]
    }
   ],
   "source": [
    "def value_p3(a,b,p0,p1,N):\n",
    "    p = np.ones(N+1)\n",
    "    p[0]=p0\n",
    "    p[1]=p1\n",
    "    if N>1:\n",
    "        for n in range(1, int(N)+1):\n",
    "            p[n]=a*p[n-1]+ b*p[n-2]\n",
    "    return p[N]\n",
    "diff1 = np.log10(value_p3(1,3,1,2,40))- np.log10(value_p3(1,3,1,2,10))\n",
    "diff2 = np.log10(value_p3(-3,-1/2,2,1,40))- np.log10(value_p3(-3,-1/2,2,1,10))\n",
    "print(\"Slope of case 1- blue, a=1, b=3:\",((np.abs(diff1))/30))\n",
    "print(\"Slope of case 2- black, a=-3, b=-1/2:\",((np.abs(diff2))/30))"
   ]
  },
  {
   "cell_type": "markdown",
   "metadata": {},
   "source": [
    "$$\n",
    "\\phi_{n} = \\lambda^{n}.\n",
    "$$\n",
    "So, \n",
    "$$\n",
    "\\lambda^{n} = a\\lambda^{n-1} +b\\lambda^{n-2}\\\\\n",
    "\\lambda^{n}= a\\lambda^{n}\\lambda^{-1} +b\\lambda^{n}\\lambda^{-2}\\\\\n",
    "\\lambda^{n} = \\lambda^{n} (a\\lambda^{-1} +b\\lambda^{-2})\\\\\n",
    "1 = a\\lambda^{-1} +b\\lambda^{-2}\\\\\n",
    "\\lambda^{2} = a\\lambda +b\\\\\n",
    "\\lambda^{2} -a\\lambda -b =0\\\\\n",
    "$$\n",
    "So we find:\n",
    "$$\n",
    "\\lambda_{\\pm} = \\frac{1}{2}\\left(a\\pm\\sqrt{a^2 +4b}\\right).\n",
    "$$\n",
    "\n",
    "$$\n",
    "p_{n} = a\\lambda_{+}^{n} + b\\lambda_{-}^{n}.\\\\\n",
    "$$\n",
    "case1:\n",
    "$$\n",
    "a = 1\\\\\n",
    "b = 3\\\\\n",
    "\\lambda_{\\pm} = \\frac{1}{2}\\left(1\\pm\\sqrt{1^2 +4*3}\\right).\\\\\n",
    "\\lambda_{\\pm} = \\frac{1}{2}\\left(1\\pm\\sqrt{13}\\right).\\\\\n",
    "\\lambda_{+} = \\frac{1}{2}\\left(1+\\sqrt{13}\\right)\\\\\n",
    "\\lambda_{-} = \\frac{1}{2}\\left(1-\\sqrt{13}\\right)\\\\\n",
    "\\log p_{n} \\approx \\log a + n \\log \\lambda_{+}\\\\\n",
    "$$\n",
    "This is because $\\mid \\lambda_{+} \\mid > \\mid \\lambda_{-} \\mid$ So, by pn we can say the slope of this function is $\\log \\lambda_{+} = \\log \\frac{1}{2}\\left(1+\\sqrt{13}\\right) \\approx 0.36226$.\n",
    "\n",
    "case 2:\n",
    "$$\n",
    "a = -3\\\\\n",
    "b = -0.5\\\\\n",
    "\\lambda_{\\pm} = \\frac{1}{2}\\left(-3\\pm\\sqrt{(-3)^2 +4*(-0.5)}\\right).\\\\\n",
    "\\lambda_{\\pm} = \\frac{1}{2}\\left(-3\\pm\\sqrt{7}\\right).\\\\\n",
    "\\lambda_{+} = \\frac{1}{2}\\left(-3+\\sqrt{7}\\right)\\\\\n",
    "\\lambda_{-} = \\frac{1}{2}\\left(-3-\\sqrt{7}\\right)\\\\\n",
    "|\\lambda_{+}| < 1\n",
    "$$\n",
    "so, \n",
    "$$\n",
    "p_{n} \\approx b\\lambda^{n}_{-}\\\\\n",
    "\\log p_{n} \\approx \\log b + n \\log \\lambda_{-}\\\\\n",
    "$$\n",
    "\n",
    "Hence, n represents the slope of the function when $y- log(p(n))$ and $x-n$ the slope is approx \n",
    "$$\n",
    "log(\\lambda_{-})=log( |\\frac{1}{2}(-3-\\sqrt{7}|) \\approx 0.45069174838938203\n",
    "$$\n",
    "Which matches the results from the computations above!\n",
    "\n"
   ]
  },
  {
   "cell_type": "markdown",
   "metadata": {},
   "source": [
    "**Problem 4**: 15pts -  For the integral,\n",
    "$$\n",
    "\\int_{0}^{\\pi/2}\\cos(\\cos(x^{2}))dx, \n",
    "$$\n",
    "use \n",
    "\n",
    "* (7pts) a Taylor series to the third order (i.e. keep up to cubic terms) around $x=0$ to approximate the integral, \n",
    "* (6pts) a Taylor series to the third order chosen appropriately to approximate each integral on the right hand side of the expression\n",
    "\n",
    "$$\n",
    "\\int_{0}^{\\pi/2}\\cos(\\cos(x^{2}))dx = \n",
    "\\int_{0}^{\\pi/6}\\cos(\\cos(x^{2}))dx + \\int_{\\pi/6}^{\\pi/3}\\cos(\\cos(x^{2}))dx + \\int_{\\pi/3}^{\\pi/2}\\cos(\\cos(x^{2}))dx.\n",
    "$$\n",
    "\n",
    "* (2pts) Using NumPy, one can find that \n",
    "$$\n",
    "\\int_{0}^{\\pi/2}\\cos(\\cos(x^{2}))dx =  1.137063808641665\n",
    "$$\n",
    "Find the error in each of your approximations, state which is better, and explain why it is better.  "
   ]
  },
  {
   "cell_type": "markdown",
   "metadata": {},
   "source": [
    "_Answer to Problem 4_"
   ]
  },
  {
   "cell_type": "markdown",
   "metadata": {},
   "source": [
    "The taylor series for $f(x)= cos(cos(x^2))$ to the third order around x=0, is equal to:\n",
    "$$\n",
    "f(0)+ f'(0)(x) + \\frac{f''(0)(x)^2}{2!} +\\frac{f'''(0)(x)^{3}}{3!}\n",
    "$$\n",
    "Now, by computation of derviatives we get:\n",
    "$$\n",
    "f(x)= cos(cos(x^2))\\\\\n",
    "f'(x) = 2 x sin(x^2) sin(cos(x^2))\\\\\n",
    "f''(x) = 2 (sin(x^2) + 2 x^2 cos(x^2)) sin(cos(x^2)) - 4 x^2 sin^2(x^2) cos(cos(x^2))\\\\\n",
    "f'''(x) = -8 x sin^2(x^2) cos(cos(x^2)) - 4 x sin(x^2) cos(cos(x^2)) (sin(x^2) + 2 x^2 cos(x^2)) - 8 x^3 sin^3(x^2) \n",
    "sin(cos(x^2)) - 16 x^3 sin(x^2) cos(x^2) cos(cos(x^2)) + 2 (6 x cos(x^2) - 4 x^3 sin(x^2)) sin(cos(x^2))\n",
    "$$\n",
    "\n",
    "Now,\n",
    "$$\n",
    "f(0) = cos(1)\\\\\n",
    "f'(0) = 0\\\\\n",
    "f''(0) =0\\\\\n",
    "f'''(0) =0\\\\\n",
    "$$\n",
    "So, \n",
    "$$\n",
    "f(x) \\approx cos(1)\n",
    "$$\n",
    "Therefore the integral:\n",
    "$$\n",
    "\\int_{0}^{\\pi/2}\\cos(\\cos(x^{2}))dx \\approx \\int_{0}^{\\pi/2}\\cos(1)dx = \\frac{\\pi \\cos(1)}{2} \\approx 0.84870487741\n",
    "$$"
   ]
  },
  {
   "cell_type": "markdown",
   "metadata": {},
   "source": [
    "For the following commutation I assisted in MATLAB: My sourcecode is as follows:\n",
    "$$\n",
    "format long - for integral #1\n",
    "syms x\n",
    "f(x) = cos(cos(x.^2));\n",
    "t =taylor(f, 'ExpansionPoint', 0, 'Order', 3)\n",
    "q = int(t, x, 0, pi/6);\n",
    "double(q)\n",
    "$$\n",
    "$$\n",
    "format long - for integral #2\n",
    "syms x\n",
    "f(x) = cos(cos(x.^2));\n",
    "t =taylor(f, 'ExpansionPoint', pi/6, 'Order', 3)\n",
    "q = int(t, x, pi/6, pi/3);\n",
    "double(q)\n",
    "$$\n",
    "$$\n",
    "format long - for integral #3\n",
    "syms x\n",
    "f(x) = cos(cos(x.^2));\n",
    "t =taylor(f, 'ExpansionPoint', pi/3, 'Order', 3)\n",
    "q = int(t, x, pi/3, pi/2);\n",
    "double(q)\n",
    "$$"
   ]
  },
  {
   "cell_type": "markdown",
   "metadata": {},
   "source": [
    "Now I will solve the integral by using the taylor series approximation:\n",
    "$$\n",
    "\\int_{0}^{\\pi/2}\\cos(\\cos(x^{2}))dx = \n",
    "\\int_{0}^{\\pi/6}\\cos(\\cos(x^{2}))dx + \\int_{\\pi/6}^{\\pi/3}\\cos(\\cos(x^{2}))dx + \\int_{\\pi/3}^{\\pi/2}\\cos(\\cos(x^{2}))dx.\n",
    "$$\n",
    "First lets compute $\\int_{0}^{\\pi/6}\\cos(\\cos(x^{2}))dx$ around $x=0$. By the work above we can say that \n",
    "$$\n",
    "\\int_{0}^{\\pi/6}\\cos(\\cos(x^{2}))dx \\approx \\int_{0}^{\\pi/6}\\cos(1)dx = \\frac{\\cos(1) \\pi}{6} \\approx 0.282901625805496\n",
    "$$\n",
    "Now lets compute $\\int_{\\pi/6}^{\\pi/3}\\cos(\\cos(x^{2}))dx$ around $ x = \\pi /6$.\n",
    "$$\n",
    "\\int_{\\pi/6}^{\\pi/3}\\cos(\\cos(\\pi^2/36)) + (x - \\pi/6)^2*(\\sin(\\cos(\\pi^2/36))*(\\sin(\\pi^2/36) + (\\pi^2*\\cos(\\pi^2/36))/18) - (\\pi^2*\\sin(\\pi^2/36)^2*\\cos(\\cos(\\pi^2/36)))/18) + (\\pi*\\sin(\\pi^2/36)*\\sin(\\cos(\\pi^2/36))*(x - \\pi/6))/3 \\approx  0.361311712208589\n",
    " $$\n",
    "Now lets compute $\\int_{\\pi/3}^{\\pi/2}\\cos(\\cos(x^{2}))dx$ around $x =\\pi/3$.\n",
    "$$\n",
    "\\int_{\\pi/3}^{\\pi/2} \n",
    "\\cos(\\cos(\\pi^2/9)) + (x - \\pi/3)^2*(\\sin(\\cos(\\pi^2/9))*(\\sin(\\pi^2/9) + (2*\\pi^2*\\cos(\\pi^2/9))/9) - (2*\\pi^2*\\sin(\\pi^2/9)^2*\\cos(\\cos(\\pi^2/9)))/9) + (2*\\pi*\\sin(\\pi^2/9)*\\sin(\\cos(\\pi^2/9))*(x - \\pi/3))/3 \\approx  0.547914724516575\n",
    " $$\n",
    " \n",
    " Finally,\n",
    " $$\n",
    " \\int_{0}^{\\pi/2}\\cos(\\cos(x^{2}))dx = \n",
    "\\int_{0}^{\\pi/6}\\cos(\\cos(x^{2}))dx + \\int_{\\pi/6}^{\\pi/3}\\cos(\\cos(x^{2}))dx + \\int_{\\pi/3}^{\\pi/2}\\cos(\\cos(x^{2}))dx \\approx 0.282901625805496+ 0.361311712208589+ 0.547914724516575 =  1.192128062530660\n",
    " $$"
   ]
  },
  {
   "cell_type": "code",
   "execution_count": 503,
   "metadata": {},
   "outputs": [],
   "source": [
    "import scipy.integrate as integrate\n",
    "def my_fun(x):\n",
    "    return (np.cos(np.cos(x**2)))\n",
    "def my_int(a,b):\n",
    "    f = lambda x : my_fun(x)\n",
    "    I = integrate.quad(f, a, b)\n",
    "    return (I[0])\n",
    "def error_fun(result):\n",
    "    return np.abs(my_int(0, np.pi/2) - result)"
   ]
  },
  {
   "cell_type": "code",
   "execution_count": 504,
   "metadata": {},
   "outputs": [
    {
     "name": "stdout",
     "output_type": "stream",
     "text": [
      "error of first integral:  0.28835893123166534\n",
      "error of first integral:  0.05506425388899472\n"
     ]
    }
   ],
   "source": [
    "print(\"error of first integral: \", error_fun(0.84870487741))\n",
    "print(\"error of first integral: \", error_fun(1.192128062530660))"
   ]
  },
  {
   "cell_type": "markdown",
   "metadata": {},
   "source": [
    "From the results above it is clear that the second way of integration is more accurate because as we use taylor series and we get farther from x0 (the value of x we choose to generate the taylor series about) we loose accuracy and the error increases. Therefore by dividing the integral into sub integrals will be more efficient to find a better approximation using the taylor series. "
   ]
  },
  {
   "cell_type": "markdown",
   "metadata": {},
   "source": [
    "**Problem 5**: 10pts - The $(p,q)$ hypergeometric function is defined as \n",
    "$$\n",
    "_{p}F_{q}(a_{1},\\cdots,a_{p};b_{1},\\cdots,b_{q};x) = \\sum_{n=0}^{\\infty} \\frac{\\left(a_{1}\\right)_{n}\\cdots\\left(a_{p}\\right)_{n}}{\\left(b_{1}\\right)_{n}\\cdots\\left(b_{q}\\right)_{n}}\\frac{x^{n}}{n!}\n",
    "$$\n",
    "where $a_{j}\\in \\mathbb{R}$, $b_{l}\\in \\mathbb{R}$ and for any real value $a$ we have the recursion relationship\n",
    "\\begin{align*}\n",
    "(a)_{0} = & 1 \\\\\n",
    "(a)_{n} = & (a+n-1)(a)_{n-1}, ~ n\\geq 1.\n",
    "\\end{align*}\n",
    "So for example, we have that \n",
    "$$\n",
    "_{0}F_{0}(;;x) = \\sum_{n=0}^{\\infty}\\frac{1}{1}\\frac{x^{n}}{n!} = e^{x}, \n",
    "$$\n",
    "and if we have the Bessel function $J_{n}(x)$ where \n",
    "$$\n",
    "J_{n}(x) = \\sum_{m=0}^{\\infty} \\frac{(-1)^{m}}{m! (m+n)!}\\left(\\frac{x}{2} \\right)^{2m + n} = \\frac{1}{n!}\\left(\\frac{x}{2}\\right)^{n}\\sum_{m=0}^{\\infty}\\frac{1}{(n+1)_{m}}\\frac{1}{m!}\\left(\\frac{-x^{2}}{4}\\right)^{m}, \n",
    "$$\n",
    "since\n",
    "\\begin{align*}\n",
    "(m+n)! = & n!(n+1)(n+2)\\cdots(n+m) \\\\\n",
    "= &n!(n+1)(n+1 + 1)\\cdots(n+1+m-1) \\\\\n",
    "= & n!(n+1)_{m},\n",
    "\\end{align*}\n",
    "then we have \n",
    "$$\n",
    "J_{n}(x) = \\frac{1}{n!}\\left(\\frac{x}{2}\\right)^{n}  ~_{0}F_{1}\\left(;n+1;-\\frac{x^{2}}{4}\\right).\n",
    "$$\n",
    "\n",
    "Write a program which computes the $(p,q)$ hypergeometric function.  It should take as input vectors ${\\bf a}$ and ${\\bf b}$ where \n",
    "\\begin{align*}\n",
    "{\\bf a} = & (a_{1},~ a_{2},~ \\cdots,~ a_{p}) \\\\ \n",
    "{\\bf b} = & (b_{1},~ b_{2},~ \\cdots,~ b_{q}) \n",
    "\\end{align*}\n",
    "and an evaluation point $x$.  Note, your program should determine $p$ and $q$ using the length of $a$ and $b$ respectively.  Make sure you vectorize your function.  Make sure you make efficient use of recursion.  Clearly explain the stopping criteria you choose and why you choose it.  Test your code by comparing your results to those you would get using the implementation for the Bessel functions we developed in the lectures.  \n",
    "\n",
    "Then, using NumPy's version of the functions as the _true_ values, numerically prove the identity\n",
    "\n",
    "$$\n",
    "\\sin^{-1}(x) = x \\cdot _{2}F_{1}\\left(\\frac{1}{2},\\frac{1}{2};\\frac{3}{2};x^{2}\\right)\n",
    "$$\n",
    "\n",
    "Generate semi-log plots of the difference of the two functions over meshes on $[-.5,.5]$ and argue why this shows the identities are true.  Note, you may need to adapt your stopping condition to adequately answer this problem.  "
   ]
  },
  {
   "cell_type": "markdown",
   "metadata": {},
   "source": [
    "_Answer to Problem 5_"
   ]
  },
  {
   "cell_type": "markdown",
   "metadata": {},
   "source": [
    "Let the $(p,q)$ hypergeometric function is defined as: \n",
    "$$\n",
    "_{p}F_{q}(a_{1},\\cdots,a_{p};b_{1},\\cdots,b_{q};x) = \\sum_{n=0}^{\\infty} \\frac{\\left(a_{1}\\right)_{n}\\cdots\\left(a_{p}\\right)_{n}}{\\left(b_{1}\\right)_{n}\\cdots\\left(b_{q}\\right)_{n}}\\frac{x^{n}}{n!}\n",
    "$$\n",
    "Let\n",
    "$$\n",
    "a_{n} = \\frac{\\left(a_{1}\\right)_{n}\\cdots\\left(a_{p}\\right)_{n}}{\\left(b_{1}\\right)_{n}\\cdots\\left(b_{q}\\right)_{n}}\\frac{x^{n}}{n!}\n",
    "$$\n",
    "such that \n",
    "$$\n",
    "a_{n-1} = \\frac{\\left(a_{1}\\right)_{n-1}\\cdots\\left(a_{p}\\right)_{n-1}}{\\left(b_{1}\\right)_{n-1}\\cdots\\left(b_{q}\\right)_{n-1}}\\frac{x^{n-1}}{(n-1)!}\n",
    "$$\n",
    "Becuase \n",
    "$$\n",
    "\\begin{align*}\n",
    "(a)_{0} = & 1 \\\\\n",
    "(a)_{n} = & (a+n-1)(a)_{n-1}, ~ n\\geq 1.\n",
    "\\end{align*}\n",
    "$$\n",
    "Then, \n",
    "$$\n",
    "\\frac{a_{n}}{a_{n-1}} = \\frac{\\frac{\\left(a_{1}\\right)_{n}\\cdots\\left(a_{p}\\right)_{n}}{\\left(b_{1}\\right)_{n}\\cdots\\left(b_{q}\\right)_{n}}\\frac{x^{n}}{n!}}{ \\frac{\\left(a_{1}\\right)_{n-1}\\cdots\\left(a_{p}\\right)_{n-1}}{\\left(b_{1}\\right)_{n-1}\\cdots\\left(b_{q}\\right)_{n-1}}\\frac{x^{n-1}}{(n-1)!}\\frac{x^{n-1}}{(n-1)!}} = \\frac{(\\left(a_{1}+n -1\\right)\\cdots\\left(a_{p}+n-1\\right))x}{n(\\left(b_{1}+n-1\\right)\\cdots\\left(b_{q}+n-1\\right)}\n",
    "$$"
   ]
  },
  {
   "cell_type": "code",
   "execution_count": 505,
   "metadata": {},
   "outputs": [
    {
     "data": {
      "text/plain": [
       "Text(0.5, 1.0, 'inverse sin function')"
      ]
     },
     "execution_count": 505,
     "metadata": {},
     "output_type": "execute_result"
    },
    {
     "data": {
      "image/png": "[encoded data removed]",
      "text/plain": [
       "<Figure size 432x288 with 1 Axes>"
      ]
     },
     "metadata": {
      "needs_background": "light"
     },
     "output_type": "display_data"
    }
   ],
   "source": [
    "def inv_sin_fun(x): #function of inverse sin\n",
    "    return math.asin(x)\n",
    "xvals = np.linspace(-.5,.5,int(1e1))\n",
    "yvals = [inv_sin_fun(xval) for xval in xvals]\n",
    "plt.plot(xvals, yvals, label = '(sin(x))^-1')\n",
    "plt.xlabel('$x$')\n",
    "plt.ylabel('$f(x)$')\n",
    "plt.legend(loc = 'upper left')\n",
    "plt.title('inverse sin function')"
   ]
  },
  {
   "cell_type": "code",
   "execution_count": 506,
   "metadata": {},
   "outputs": [],
   "source": [
    "def mult_arr(arrsize, arr): # function to multiply all elements in the array\n",
    "    tot =1\n",
    "    for jj in range(0,int(arrsize)):\n",
    "        tot *= arr[jj]\n",
    "    return tot"
   ]
  },
  {
   "cell_type": "code",
   "execution_count": 507,
   "metadata": {},
   "outputs": [],
   "source": [
    "def hypergeometric_fun(a, b, x,tol): #my hypergeometric generalized function\n",
    "    p = len(a)\n",
    "    q = len(b)\n",
    "    newa = np.ones(p)\n",
    "    newb= np.ones(q)\n",
    "    tot = 1\n",
    "    aj = 1\n",
    "    n = 1\n",
    "    while np.max(np.abs(aj)) >= tol:\n",
    "        for qq in range(0,int(p)):\n",
    "            newa[qq] = a[qq]+n-1\n",
    "        for qq in range(0,int(q)):\n",
    "            newb[qq] = b[qq]+n-1\n",
    "        aj *= ((x)/n)*(mult_arr(len(newa), newa)/mult_arr(len(newb), newb))\n",
    "        tot+= aj\n",
    "        n += 1\n",
    "    return tot\n"
   ]
  },
  {
   "cell_type": "code",
   "execution_count": 508,
   "metadata": {},
   "outputs": [
    {
     "data": {
      "text/plain": [
       "Text(0.5, 1.0, 'f(x) = x* 2F1(0.5,0.5;1.5;x^2)')"
      ]
     },
     "execution_count": 508,
     "metadata": {},
     "output_type": "execute_result"
    },
    {
     "data": {
      "image/png": "[encoded data removed]",
      "text/plain": [
       "<Figure size 432x288 with 1 Axes>"
      ]
     },
     "metadata": {
      "needs_background": "light"
     },
     "output_type": "display_data"
    }
   ],
   "source": [
    "aArray = [0.5,0.5] #graphing x*2F1\n",
    "bArray = [1.5]\n",
    "xvals = np.linspace(-0.5,0.5,int(1e1))\n",
    "yvals = xvals* hypergeometric_fun(aArray,bArray,xvals**2, 1e-10)\n",
    "plt.plot(xvals, yvals, label= 'hypergeometric fun', color ='k')\n",
    "plt.xlabel('$x$')\n",
    "plt.ylabel('$f(x)$')\n",
    "plt.legend(loc = 'upper left')\n",
    "plt.title('f(x) = x* 2F1(0.5,0.5;1.5;x^2)')"
   ]
  },
  {
   "cell_type": "markdown",
   "metadata": {},
   "source": [
    "From the code above it is visible that inverse sin function is equal to x* 2F1(0.5,0.5;1.5;x^2). Their graphs look very similar. Now to prove this equality I will generate a function that will graph the difference between the two graphs. \n"
   ]
  },
  {
   "cell_type": "code",
   "execution_count": 509,
   "metadata": {},
   "outputs": [
    {
     "data": {
      "text/plain": [
       "Text(0.5, 1.0, 'Difference between the two graphs')"
      ]
     },
     "execution_count": 509,
     "metadata": {},
     "output_type": "execute_result"
    },
    {
     "data": {
      "image/png": "[encoded data removed]",
      "text/plain": [
       "<Figure size 432x288 with 1 Axes>"
      ]
     },
     "metadata": {
      "needs_background": "light"
     },
     "output_type": "display_data"
    }
   ],
   "source": [
    "aArray = [0.5,0.5] \n",
    "bArray = [1.5]\n",
    "xvals = np.linspace(-0.5,0.5,int(1e1))\n",
    "yvals1 = xvals* hypergeometric_fun(aArray,bArray,xvals**2, 1e-8)\n",
    "yvals2 = [inv_sin_fun(xval) for xval in xvals]\n",
    "diff = np.abs(yvals1- yvals2)\n",
    "plt.plot(xvals,np.log10(diff), label ='diff')\n",
    "plt.xlabel('$x$')\n",
    "plt.ylabel('$log|y1-y2|$')\n",
    "\n",
    "plt.legend(loc = 'upper left')\n",
    "plt.title('Difference between the two graphs')"
   ]
  },
  {
   "cell_type": "markdown",
   "metadata": {},
   "source": [
    "From the graph above, we can conclude that the difference between the two graphs is very small. This is becuase the tolerance value we use. There is a mild difference due to the accuracy of the function I created. The smaller the tolerance the smaller the difference between the two functions. \n",
    "\n",
    "The difference between the two graphs gets bigger as |x| gets bigger.Yet, it is important to remember that y(x) = log(diff) hence this implies that the difference scale is very very small. "
   ]
  },
  {
   "cell_type": "code",
   "execution_count": 510,
   "metadata": {},
   "outputs": [
    {
     "data": {
      "text/plain": [
       "Text(0, 0.5, '$f(x)$')"
      ]
     },
     "execution_count": 510,
     "metadata": {},
     "output_type": "execute_result"
    },
    {
     "data": {
      "image/png": "[encoded data removed]",
      "text/plain": [
       "<Figure size 432x288 with 1 Axes>"
      ]
     },
     "metadata": {
      "needs_background": "light"
     },
     "output_type": "display_data"
    }
   ],
   "source": [
    "def fun_e_x(x): #exponential function e^x\n",
    "    return np.exp(x)\n",
    "xvals1= np.linspace(-0.5,0.5,int(1e3))\n",
    "yvals1= fun_e_x(xvals1)\n",
    "a1= []\n",
    "b1=[]\n",
    "yvals2= hypergeometric_fun(a1,b1,xvals1, 1e-8)\n",
    "plt.plot(xvals1, yvals1, color = 'r', label = 'e^x')\n",
    "plt.legend(loc = 'upper left')\n",
    "plt.title('f(x) = e^x')\n",
    "plt.xlabel('$x$')\n",
    "plt.ylabel('$f(x)$')\n"
   ]
  },
  {
   "cell_type": "code",
   "execution_count": 511,
   "metadata": {},
   "outputs": [
    {
     "data": {
      "text/plain": [
       "Text(0, 0.5, '$pFq$')"
      ]
     },
     "execution_count": 511,
     "metadata": {},
     "output_type": "execute_result"
    },
    {
     "data": {
      "image/png": "[encoded data removed]",
      "text/plain": [
       "<Figure size 432x288 with 1 Axes>"
      ]
     },
     "metadata": {
      "needs_background": "light"
     },
     "output_type": "display_data"
    }
   ],
   "source": [
    "plt.plot(xvals1, yvals2, color = 'k', label = 'hypergeometric fun')\n",
    "plt.legend(loc = 'upper left')\n",
    "plt.title('testing for the case of 0F0')\n",
    "plt.xlabel('$x$')\n",
    "plt.ylabel('$pFq$')\n"
   ]
  },
  {
   "cell_type": "code",
   "execution_count": 512,
   "metadata": {},
   "outputs": [
    {
     "data": {
      "text/plain": [
       "Text(0.5, 1.0, 'diff between e^x and 0F0')"
      ]
     },
     "execution_count": 512,
     "metadata": {},
     "output_type": "execute_result"
    },
    {
     "data": {
      "image/png": "[encoded data removed]",
      "text/plain": [
       "<Figure size 432x288 with 1 Axes>"
      ]
     },
     "metadata": {
      "needs_background": "light"
     },
     "output_type": "display_data"
    }
   ],
   "source": [
    "xvals1= np.linspace(-0.5,0.5,int(1e3))\n",
    "yvals1= fun_e_x(xvals1)\n",
    "a1= []\n",
    "b1=[]\n",
    "yvals2= hypergeometric_fun(a1,b1,xvals1, 1e-8)\n",
    "diff2 = np.abs(yvals1-yvals2)\n",
    "plt.plot(xvals1, np.log10(diff2), color = 'r', label = 'Diff')\n",
    "plt.xlabel('$x$')\n",
    "plt.ylabel('$log|y1-y2|$')\n",
    "\n",
    "plt.legend(loc = 'upper left')\n",
    "plt.title('diff between e^x and 0F0')"
   ]
  },
  {
   "cell_type": "markdown",
   "metadata": {},
   "source": [
    "This is another proof to show that my hypergeometric fun is accurate. This test shows that $0F0 = e^x$ is accurate. The difference between the two graphs gets bigger as |x| gets bigger. Yet, it is important to remember that y(x) = log(diff) hence this implies that the difference scale is very very small. "
   ]
  }
 ],
 "metadata": {
  "kernelspec": {
   "display_name": "Python 3",
   "language": "python",
   "name": "python3"
  },
  "language_info": {
   "codemirror_mode": {
    "name": "ipython",
    "version": 3
   },
   "file_extension": ".py",
   "mimetype": "text/x-python",
   "name": "python",
   "nbconvert_exporter": "python",
   "pygments_lexer": "ipython3",
   "version": "3.7.4"
  }
 },
 "nbformat": 4,
 "nbformat_minor": 2
}
